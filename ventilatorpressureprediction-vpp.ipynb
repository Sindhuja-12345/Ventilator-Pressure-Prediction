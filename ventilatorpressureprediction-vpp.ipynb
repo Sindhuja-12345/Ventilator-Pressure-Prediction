{
 "cells": [
  {
   "cell_type": "code",
   "execution_count": 1,
   "id": "e687783d",
   "metadata": {
    "_cell_guid": "b1076dfc-b9ad-4769-8c92-a6c4dae69d19",
    "_uuid": "8f2839f25d086af736a60e9eeb907d3b93b6e0e5",
    "execution": {
     "iopub.execute_input": "2022-07-27T16:01:06.466602Z",
     "iopub.status.busy": "2022-07-27T16:01:06.465791Z",
     "iopub.status.idle": "2022-07-27T16:01:06.481123Z",
     "shell.execute_reply": "2022-07-27T16:01:06.480276Z"
    },
    "papermill": {
     "duration": 0.088692,
     "end_time": "2022-07-27T16:01:06.482734",
     "exception": false,
     "start_time": "2022-07-27T16:01:06.394042",
     "status": "completed"
    },
    "tags": []
   },
   "outputs": [
    {
     "name": "stdout",
     "output_type": "stream",
     "text": [
      "/kaggle/input/ventilator-pressure-prediction/sample_submission.csv\n",
      "/kaggle/input/ventilator-pressure-prediction/train.csv\n",
      "/kaggle/input/ventilator-pressure-prediction/test.csv\n"
     ]
    }
   ],
   "source": [
    "# This Python 3 environment comes with many helpful analytics libraries installed\n",
    "# It is defined by the kaggle/python Docker image: https://github.com/kaggle/docker-python\n",
    "# For example, here's several helpful packages to load\n",
    "\n",
    "import numpy as np # linear algebra\n",
    "import pandas as pd # data processing, CSV file I/O (e.g. pd.read_csv)\n",
    "\n",
    "# Input data files are available in the read-only \"../input/\" directory\n",
    "# For example, running this (by clicking run or pressing Shift+Enter) will list all files under the input directory\n",
    "\n",
    "import os\n",
    "for dirname, _, filenames in os.walk('/kaggle/input'):\n",
    "    for filename in filenames:\n",
    "        print(os.path.join(dirname, filename))\n",
    "\n",
    "# You can write up to 20GB to the current directory (/kaggle/working/) that gets preserved as output when you create a version using \"Save & Run All\" \n",
    "# You can also write temporary files to /kaggle/temp/, but they won't be saved outside of the current session"
   ]
  },
  {
   "cell_type": "markdown",
   "id": "93c30111",
   "metadata": {
    "papermill": {
     "duration": 0.070792,
     "end_time": "2022-07-27T16:01:06.625077",
     "exception": false,
     "start_time": "2022-07-27T16:01:06.554285",
     "status": "completed"
    },
    "tags": []
   },
   "source": [
    "**Importing libraries**\n"
   ]
  },
  {
   "cell_type": "code",
   "execution_count": 2,
   "id": "e875227a",
   "metadata": {
    "execution": {
     "iopub.execute_input": "2022-07-27T16:01:06.764988Z",
     "iopub.status.busy": "2022-07-27T16:01:06.764725Z",
     "iopub.status.idle": "2022-07-27T16:01:09.110849Z",
     "shell.execute_reply": "2022-07-27T16:01:09.110151Z"
    },
    "papermill": {
     "duration": 2.418699,
     "end_time": "2022-07-27T16:01:09.113072",
     "exception": false,
     "start_time": "2022-07-27T16:01:06.694373",
     "status": "completed"
    },
    "tags": []
   },
   "outputs": [
    {
     "data": {
      "text/html": [
       "<style type='text/css'>\n",
       ".datatable table.frame { margin-bottom: 0; }\n",
       ".datatable table.frame thead { border-bottom: none; }\n",
       ".datatable table.frame tr.coltypes td {  color: #FFFFFF;  line-height: 6px;  padding: 0 0.5em;}\n",
       ".datatable .bool    { background: #DDDD99; }\n",
       ".datatable .object  { background: #565656; }\n",
       ".datatable .int     { background: #5D9E5D; }\n",
       ".datatable .float   { background: #4040CC; }\n",
       ".datatable .str     { background: #CC4040; }\n",
       ".datatable .time    { background: #40CC40; }\n",
       ".datatable .row_index {  background: var(--jp-border-color3);  border-right: 1px solid var(--jp-border-color0);  color: var(--jp-ui-font-color3);  font-size: 9px;}\n",
       ".datatable .frame tbody td { text-align: left; }\n",
       ".datatable .frame tr.coltypes .row_index {  background: var(--jp-border-color0);}\n",
       ".datatable th:nth-child(2) { padding-left: 12px; }\n",
       ".datatable .hellipsis {  color: var(--jp-cell-editor-border-color);}\n",
       ".datatable .vellipsis {  background: var(--jp-layout-color0);  color: var(--jp-cell-editor-border-color);}\n",
       ".datatable .na {  color: var(--jp-cell-editor-border-color);  font-size: 80%;}\n",
       ".datatable .sp {  opacity: 0.25;}\n",
       ".datatable .footer { font-size: 9px; }\n",
       ".datatable .frame_dimensions {  background: var(--jp-border-color3);  border-top: 1px solid var(--jp-border-color0);  color: var(--jp-ui-font-color3);  display: inline-block;  opacity: 0.6;  padding: 1px 10px 1px 5px;}\n",
       "</style>\n"
      ],
      "text/plain": [
       "<IPython.core.display.HTML object>"
      ]
     },
     "metadata": {},
     "output_type": "display_data"
    }
   ],
   "source": [
    "import numpy as np\n",
    "import pandas as pd\n",
    "import matplotlib.pyplot as plt\n",
    "import seaborn as sns\n",
    "from sklearn.model_selection import train_test_split\n",
    "import lightgbm as lgb\n",
    "from sklearn.ensemble import RandomForestRegressor\n",
    "from xgboost import XGBRegressor\n",
    "from sklearn.metrics import r2_score, accuracy_score,mean_absolute_error\n",
    "from sklearn.model_selection import RandomizedSearchCV\n",
    "from sklearn.pipeline import make_pipeline\n",
    "from sklearn.preprocessing import StandardScaler"
   ]
  },
  {
   "cell_type": "markdown",
   "id": "b3ef0cb7",
   "metadata": {
    "papermill": {
     "duration": 0.111124,
     "end_time": "2022-07-27T16:01:09.336326",
     "exception": false,
     "start_time": "2022-07-27T16:01:09.225202",
     "status": "completed"
    },
    "tags": []
   },
   "source": [
    "**Importing data**"
   ]
  },
  {
   "cell_type": "code",
   "execution_count": 3,
   "id": "65aaab5c",
   "metadata": {
    "execution": {
     "iopub.execute_input": "2022-07-27T16:01:09.562237Z",
     "iopub.status.busy": "2022-07-27T16:01:09.561784Z",
     "iopub.status.idle": "2022-07-27T16:01:26.622955Z",
     "shell.execute_reply": "2022-07-27T16:01:26.620385Z"
    },
    "papermill": {
     "duration": 17.179859,
     "end_time": "2022-07-27T16:01:26.628953",
     "exception": false,
     "start_time": "2022-07-27T16:01:09.449094",
     "status": "completed"
    },
    "tags": []
   },
   "outputs": [],
   "source": [
    "data_train = pd.read_csv('../input/ventilator-pressure-prediction/train.csv')\n",
    "data_test = pd.read_csv('../input/ventilator-pressure-prediction/test.csv')"
   ]
  },
  {
   "cell_type": "markdown",
   "id": "bf81f5ed",
   "metadata": {
    "papermill": {
     "duration": 0.129012,
     "end_time": "2022-07-27T16:01:26.995827",
     "exception": false,
     "start_time": "2022-07-27T16:01:26.866815",
     "status": "completed"
    },
    "tags": []
   },
   "source": [
    "**Data Understanding**"
   ]
  },
  {
   "cell_type": "code",
   "execution_count": 4,
   "id": "d8994fe0",
   "metadata": {
    "execution": {
     "iopub.execute_input": "2022-07-27T16:01:27.273162Z",
     "iopub.status.busy": "2022-07-27T16:01:27.271971Z",
     "iopub.status.idle": "2022-07-27T16:01:27.279782Z",
     "shell.execute_reply": "2022-07-27T16:01:27.278924Z"
    },
    "papermill": {
     "duration": 0.152396,
     "end_time": "2022-07-27T16:01:27.281878",
     "exception": false,
     "start_time": "2022-07-27T16:01:27.129482",
     "status": "completed"
    },
    "tags": []
   },
   "outputs": [
    {
     "data": {
      "text/plain": [
       "((6036000, 8), (4024000, 7))"
      ]
     },
     "execution_count": 4,
     "metadata": {},
     "output_type": "execute_result"
    }
   ],
   "source": [
    "data_train.shape,data_test.shape"
   ]
  },
  {
   "cell_type": "code",
   "execution_count": 5,
   "id": "5cea6223",
   "metadata": {
    "execution": {
     "iopub.execute_input": "2022-07-27T16:01:27.545168Z",
     "iopub.status.busy": "2022-07-27T16:01:27.543928Z",
     "iopub.status.idle": "2022-07-27T16:01:27.558150Z",
     "shell.execute_reply": "2022-07-27T16:01:27.557677Z"
    },
    "papermill": {
     "duration": 0.155058,
     "end_time": "2022-07-27T16:01:27.564092",
     "exception": false,
     "start_time": "2022-07-27T16:01:27.409034",
     "status": "completed"
    },
    "tags": []
   },
   "outputs": [
    {
     "data": {
      "text/plain": [
       "Index(['id', 'breath_id', 'R', 'C', 'time_step', 'u_in', 'u_out', 'pressure'], dtype='object')"
      ]
     },
     "execution_count": 5,
     "metadata": {},
     "output_type": "execute_result"
    }
   ],
   "source": [
    "data_train.columns"
   ]
  },
  {
   "cell_type": "code",
   "execution_count": 6,
   "id": "de8c5e48",
   "metadata": {
    "execution": {
     "iopub.execute_input": "2022-07-27T16:01:27.895244Z",
     "iopub.status.busy": "2022-07-27T16:01:27.894197Z",
     "iopub.status.idle": "2022-07-27T16:01:27.925490Z",
     "shell.execute_reply": "2022-07-27T16:01:27.925024Z"
    },
    "papermill": {
     "duration": 0.180203,
     "end_time": "2022-07-27T16:01:27.927031",
     "exception": false,
     "start_time": "2022-07-27T16:01:27.746828",
     "status": "completed"
    },
    "tags": []
   },
   "outputs": [
    {
     "data": {
      "text/html": [
       "<div>\n",
       "<style scoped>\n",
       "    .dataframe tbody tr th:only-of-type {\n",
       "        vertical-align: middle;\n",
       "    }\n",
       "\n",
       "    .dataframe tbody tr th {\n",
       "        vertical-align: top;\n",
       "    }\n",
       "\n",
       "    .dataframe thead th {\n",
       "        text-align: right;\n",
       "    }\n",
       "</style>\n",
       "<table border=\"1\" class=\"dataframe\">\n",
       "  <thead>\n",
       "    <tr style=\"text-align: right;\">\n",
       "      <th></th>\n",
       "      <th>id</th>\n",
       "      <th>breath_id</th>\n",
       "      <th>R</th>\n",
       "      <th>C</th>\n",
       "      <th>time_step</th>\n",
       "      <th>u_in</th>\n",
       "      <th>u_out</th>\n",
       "      <th>pressure</th>\n",
       "    </tr>\n",
       "  </thead>\n",
       "  <tbody>\n",
       "    <tr>\n",
       "      <th>0</th>\n",
       "      <td>1</td>\n",
       "      <td>1</td>\n",
       "      <td>20</td>\n",
       "      <td>50</td>\n",
       "      <td>0.000000</td>\n",
       "      <td>0.083334</td>\n",
       "      <td>0</td>\n",
       "      <td>5.837492</td>\n",
       "    </tr>\n",
       "    <tr>\n",
       "      <th>1</th>\n",
       "      <td>2</td>\n",
       "      <td>1</td>\n",
       "      <td>20</td>\n",
       "      <td>50</td>\n",
       "      <td>0.033652</td>\n",
       "      <td>18.383041</td>\n",
       "      <td>0</td>\n",
       "      <td>5.907794</td>\n",
       "    </tr>\n",
       "    <tr>\n",
       "      <th>2</th>\n",
       "      <td>3</td>\n",
       "      <td>1</td>\n",
       "      <td>20</td>\n",
       "      <td>50</td>\n",
       "      <td>0.067514</td>\n",
       "      <td>22.509278</td>\n",
       "      <td>0</td>\n",
       "      <td>7.876254</td>\n",
       "    </tr>\n",
       "    <tr>\n",
       "      <th>3</th>\n",
       "      <td>4</td>\n",
       "      <td>1</td>\n",
       "      <td>20</td>\n",
       "      <td>50</td>\n",
       "      <td>0.101542</td>\n",
       "      <td>22.808822</td>\n",
       "      <td>0</td>\n",
       "      <td>11.742872</td>\n",
       "    </tr>\n",
       "    <tr>\n",
       "      <th>4</th>\n",
       "      <td>5</td>\n",
       "      <td>1</td>\n",
       "      <td>20</td>\n",
       "      <td>50</td>\n",
       "      <td>0.135756</td>\n",
       "      <td>25.355850</td>\n",
       "      <td>0</td>\n",
       "      <td>12.234987</td>\n",
       "    </tr>\n",
       "  </tbody>\n",
       "</table>\n",
       "</div>"
      ],
      "text/plain": [
       "   id  breath_id   R   C  time_step       u_in  u_out   pressure\n",
       "0   1          1  20  50   0.000000   0.083334      0   5.837492\n",
       "1   2          1  20  50   0.033652  18.383041      0   5.907794\n",
       "2   3          1  20  50   0.067514  22.509278      0   7.876254\n",
       "3   4          1  20  50   0.101542  22.808822      0  11.742872\n",
       "4   5          1  20  50   0.135756  25.355850      0  12.234987"
      ]
     },
     "execution_count": 6,
     "metadata": {},
     "output_type": "execute_result"
    }
   ],
   "source": [
    "data_train.head()"
   ]
  },
  {
   "cell_type": "code",
   "execution_count": 7,
   "id": "be2e00db",
   "metadata": {
    "execution": {
     "iopub.execute_input": "2022-07-27T16:01:28.163352Z",
     "iopub.status.busy": "2022-07-27T16:01:28.162849Z",
     "iopub.status.idle": "2022-07-27T16:01:28.180087Z",
     "shell.execute_reply": "2022-07-27T16:01:28.179162Z"
    },
    "papermill": {
     "duration": 0.155555,
     "end_time": "2022-07-27T16:01:28.181927",
     "exception": false,
     "start_time": "2022-07-27T16:01:28.026372",
     "status": "completed"
    },
    "tags": []
   },
   "outputs": [
    {
     "data": {
      "text/html": [
       "<div>\n",
       "<style scoped>\n",
       "    .dataframe tbody tr th:only-of-type {\n",
       "        vertical-align: middle;\n",
       "    }\n",
       "\n",
       "    .dataframe tbody tr th {\n",
       "        vertical-align: top;\n",
       "    }\n",
       "\n",
       "    .dataframe thead th {\n",
       "        text-align: right;\n",
       "    }\n",
       "</style>\n",
       "<table border=\"1\" class=\"dataframe\">\n",
       "  <thead>\n",
       "    <tr style=\"text-align: right;\">\n",
       "      <th></th>\n",
       "      <th>id</th>\n",
       "      <th>breath_id</th>\n",
       "      <th>R</th>\n",
       "      <th>C</th>\n",
       "      <th>time_step</th>\n",
       "      <th>u_in</th>\n",
       "      <th>u_out</th>\n",
       "    </tr>\n",
       "  </thead>\n",
       "  <tbody>\n",
       "    <tr>\n",
       "      <th>0</th>\n",
       "      <td>1</td>\n",
       "      <td>0</td>\n",
       "      <td>5</td>\n",
       "      <td>20</td>\n",
       "      <td>0.000000</td>\n",
       "      <td>0.000000</td>\n",
       "      <td>0</td>\n",
       "    </tr>\n",
       "    <tr>\n",
       "      <th>1</th>\n",
       "      <td>2</td>\n",
       "      <td>0</td>\n",
       "      <td>5</td>\n",
       "      <td>20</td>\n",
       "      <td>0.031904</td>\n",
       "      <td>7.515046</td>\n",
       "      <td>0</td>\n",
       "    </tr>\n",
       "    <tr>\n",
       "      <th>2</th>\n",
       "      <td>3</td>\n",
       "      <td>0</td>\n",
       "      <td>5</td>\n",
       "      <td>20</td>\n",
       "      <td>0.063827</td>\n",
       "      <td>14.651675</td>\n",
       "      <td>0</td>\n",
       "    </tr>\n",
       "    <tr>\n",
       "      <th>3</th>\n",
       "      <td>4</td>\n",
       "      <td>0</td>\n",
       "      <td>5</td>\n",
       "      <td>20</td>\n",
       "      <td>0.095751</td>\n",
       "      <td>21.230610</td>\n",
       "      <td>0</td>\n",
       "    </tr>\n",
       "    <tr>\n",
       "      <th>4</th>\n",
       "      <td>5</td>\n",
       "      <td>0</td>\n",
       "      <td>5</td>\n",
       "      <td>20</td>\n",
       "      <td>0.127644</td>\n",
       "      <td>26.320956</td>\n",
       "      <td>0</td>\n",
       "    </tr>\n",
       "  </tbody>\n",
       "</table>\n",
       "</div>"
      ],
      "text/plain": [
       "   id  breath_id  R   C  time_step       u_in  u_out\n",
       "0   1          0  5  20   0.000000   0.000000      0\n",
       "1   2          0  5  20   0.031904   7.515046      0\n",
       "2   3          0  5  20   0.063827  14.651675      0\n",
       "3   4          0  5  20   0.095751  21.230610      0\n",
       "4   5          0  5  20   0.127644  26.320956      0"
      ]
     },
     "execution_count": 7,
     "metadata": {},
     "output_type": "execute_result"
    }
   ],
   "source": [
    "data_test.head()"
   ]
  },
  {
   "cell_type": "code",
   "execution_count": 8,
   "id": "c9681142",
   "metadata": {
    "execution": {
     "iopub.execute_input": "2022-07-27T16:01:28.334827Z",
     "iopub.status.busy": "2022-07-27T16:01:28.334322Z",
     "iopub.status.idle": "2022-07-27T16:01:38.316499Z",
     "shell.execute_reply": "2022-07-27T16:01:38.315699Z"
    },
    "papermill": {
     "duration": 10.057383,
     "end_time": "2022-07-27T16:01:38.318448",
     "exception": false,
     "start_time": "2022-07-27T16:01:28.261065",
     "status": "completed"
    },
    "tags": []
   },
   "outputs": [
    {
     "data": {
      "text/plain": [
       "id       breath_id  R   C   time_step  u_in      u_out  pressure\n",
       "1        1          20  50  0.000000   0.083334  0      5.837492    1\n",
       "4023997  83915      5   10  2.567509   4.977026  1      6.399909    1\n",
       "4024006  83917      20  50  0.169514   3.232038  0      6.399909    1\n",
       "4024005  83917      20  50  0.135577   1.007885  0      6.259305    1\n",
       "4024004  83917      20  50  0.101689   0.000000  0      6.189002    1\n",
       "                                                                   ..\n",
       "2011999  41743      5   20  2.691778   4.988509  1      5.696887    1\n",
       "2011998  41743      5   20  2.657701   4.986374  1      5.556283    1\n",
       "2011997  41743      5   20  2.623264   4.983814  1      5.415679    1\n",
       "2011996  41743      5   20  2.588044   4.980697  1      5.204772    1\n",
       "6036000  125749     50  10  2.638017   1.482739  1      3.869032    1\n",
       "Length: 6036000, dtype: int64"
      ]
     },
     "execution_count": 8,
     "metadata": {},
     "output_type": "execute_result"
    }
   ],
   "source": [
    "data_train.value_counts()"
   ]
  },
  {
   "cell_type": "code",
   "execution_count": 9,
   "id": "59dae09f",
   "metadata": {
    "execution": {
     "iopub.execute_input": "2022-07-27T16:01:38.551250Z",
     "iopub.status.busy": "2022-07-27T16:01:38.550753Z",
     "iopub.status.idle": "2022-07-27T16:01:43.707917Z",
     "shell.execute_reply": "2022-07-27T16:01:43.707124Z"
    },
    "papermill": {
     "duration": 5.275117,
     "end_time": "2022-07-27T16:01:43.709775",
     "exception": false,
     "start_time": "2022-07-27T16:01:38.434658",
     "status": "completed"
    },
    "tags": []
   },
   "outputs": [
    {
     "data": {
      "text/plain": [
       "id       breath_id  R   C   time_step  u_in       u_out\n",
       "1        0          5   20  0.000000   0.000000   0        1\n",
       "2682658  83732      20  50  0.586017   28.390826  0        1\n",
       "2682660  83732      20  50  0.655317   28.295062  0        1\n",
       "2682661  83732      20  50  0.689406   27.674431  0        1\n",
       "2682662  83732      20  50  0.723482   26.297969  0        1\n",
       "                                                          ..\n",
       "1341338  42202      50  50  1.963689   4.526287   1        1\n",
       "1341339  42202      50  50  1.998020   4.601005   1        1\n",
       "1341340  42202      50  50  2.032874   4.664816   1        1\n",
       "1341341  42202      50  50  2.066813   4.717131   1        1\n",
       "4024000  125748     20  10  2.665301   4.985373   1        1\n",
       "Length: 4024000, dtype: int64"
      ]
     },
     "execution_count": 9,
     "metadata": {},
     "output_type": "execute_result"
    }
   ],
   "source": [
    "data_test.value_counts()"
   ]
  },
  {
   "cell_type": "markdown",
   "id": "b5d90a35",
   "metadata": {
    "papermill": {
     "duration": 0.114644,
     "end_time": "2022-07-27T16:01:43.939805",
     "exception": false,
     "start_time": "2022-07-27T16:01:43.825161",
     "status": "completed"
    },
    "tags": []
   },
   "source": [
    "**Missing values**\n"
   ]
  },
  {
   "cell_type": "code",
   "execution_count": 10,
   "id": "941b0b0e",
   "metadata": {
    "execution": {
     "iopub.execute_input": "2022-07-27T16:01:44.170756Z",
     "iopub.status.busy": "2022-07-27T16:01:44.170372Z",
     "iopub.status.idle": "2022-07-27T16:01:44.932263Z",
     "shell.execute_reply": "2022-07-27T16:01:44.931661Z"
    },
    "papermill": {
     "duration": 0.880216,
     "end_time": "2022-07-27T16:01:44.935049",
     "exception": false,
     "start_time": "2022-07-27T16:01:44.054833",
     "status": "completed"
    },
    "tags": []
   },
   "outputs": [
    {
     "data": {
      "text/html": [
       "<div>\n",
       "<style scoped>\n",
       "    .dataframe tbody tr th:only-of-type {\n",
       "        vertical-align: middle;\n",
       "    }\n",
       "\n",
       "    .dataframe tbody tr th {\n",
       "        vertical-align: top;\n",
       "    }\n",
       "\n",
       "    .dataframe thead th {\n",
       "        text-align: right;\n",
       "    }\n",
       "</style>\n",
       "<table border=\"1\" class=\"dataframe\">\n",
       "  <thead>\n",
       "    <tr style=\"text-align: right;\">\n",
       "      <th></th>\n",
       "      <th>id</th>\n",
       "      <th>breath_id</th>\n",
       "      <th>R</th>\n",
       "      <th>C</th>\n",
       "      <th>time_step</th>\n",
       "      <th>u_in</th>\n",
       "      <th>u_out</th>\n",
       "      <th>pressure</th>\n",
       "    </tr>\n",
       "  </thead>\n",
       "  <tbody>\n",
       "    <tr>\n",
       "      <th>count</th>\n",
       "      <td>6.036000e+06</td>\n",
       "      <td>6.036000e+06</td>\n",
       "      <td>6.036000e+06</td>\n",
       "      <td>6.036000e+06</td>\n",
       "      <td>6.036000e+06</td>\n",
       "      <td>6.036000e+06</td>\n",
       "      <td>6.036000e+06</td>\n",
       "      <td>6.036000e+06</td>\n",
       "    </tr>\n",
       "    <tr>\n",
       "      <th>mean</th>\n",
       "      <td>3.018000e+06</td>\n",
       "      <td>6.283886e+04</td>\n",
       "      <td>2.703618e+01</td>\n",
       "      <td>2.608072e+01</td>\n",
       "      <td>1.307225e+00</td>\n",
       "      <td>7.321615e+00</td>\n",
       "      <td>6.204493e-01</td>\n",
       "      <td>1.122041e+01</td>\n",
       "    </tr>\n",
       "    <tr>\n",
       "      <th>std</th>\n",
       "      <td>1.742443e+06</td>\n",
       "      <td>3.633526e+04</td>\n",
       "      <td>1.959549e+01</td>\n",
       "      <td>1.715231e+01</td>\n",
       "      <td>7.659778e-01</td>\n",
       "      <td>1.343470e+01</td>\n",
       "      <td>4.852752e-01</td>\n",
       "      <td>8.109703e+00</td>\n",
       "    </tr>\n",
       "    <tr>\n",
       "      <th>min</th>\n",
       "      <td>1.000000e+00</td>\n",
       "      <td>1.000000e+00</td>\n",
       "      <td>5.000000e+00</td>\n",
       "      <td>1.000000e+01</td>\n",
       "      <td>0.000000e+00</td>\n",
       "      <td>0.000000e+00</td>\n",
       "      <td>0.000000e+00</td>\n",
       "      <td>-1.895744e+00</td>\n",
       "    </tr>\n",
       "    <tr>\n",
       "      <th>25%</th>\n",
       "      <td>1.509001e+06</td>\n",
       "      <td>3.137700e+04</td>\n",
       "      <td>5.000000e+00</td>\n",
       "      <td>1.000000e+01</td>\n",
       "      <td>6.428995e-01</td>\n",
       "      <td>3.936623e-01</td>\n",
       "      <td>0.000000e+00</td>\n",
       "      <td>6.329607e+00</td>\n",
       "    </tr>\n",
       "    <tr>\n",
       "      <th>50%</th>\n",
       "      <td>3.018000e+06</td>\n",
       "      <td>6.276550e+04</td>\n",
       "      <td>2.000000e+01</td>\n",
       "      <td>2.000000e+01</td>\n",
       "      <td>1.308123e+00</td>\n",
       "      <td>4.386146e+00</td>\n",
       "      <td>1.000000e+00</td>\n",
       "      <td>7.032628e+00</td>\n",
       "    </tr>\n",
       "    <tr>\n",
       "      <th>75%</th>\n",
       "      <td>4.527000e+06</td>\n",
       "      <td>9.430100e+04</td>\n",
       "      <td>5.000000e+01</td>\n",
       "      <td>5.000000e+01</td>\n",
       "      <td>1.965502e+00</td>\n",
       "      <td>4.983895e+00</td>\n",
       "      <td>1.000000e+00</td>\n",
       "      <td>1.364103e+01</td>\n",
       "    </tr>\n",
       "    <tr>\n",
       "      <th>max</th>\n",
       "      <td>6.036000e+06</td>\n",
       "      <td>1.257490e+05</td>\n",
       "      <td>5.000000e+01</td>\n",
       "      <td>5.000000e+01</td>\n",
       "      <td>2.937238e+00</td>\n",
       "      <td>1.000000e+02</td>\n",
       "      <td>1.000000e+00</td>\n",
       "      <td>6.482099e+01</td>\n",
       "    </tr>\n",
       "  </tbody>\n",
       "</table>\n",
       "</div>"
      ],
      "text/plain": [
       "                 id     breath_id             R             C     time_step  \\\n",
       "count  6.036000e+06  6.036000e+06  6.036000e+06  6.036000e+06  6.036000e+06   \n",
       "mean   3.018000e+06  6.283886e+04  2.703618e+01  2.608072e+01  1.307225e+00   \n",
       "std    1.742443e+06  3.633526e+04  1.959549e+01  1.715231e+01  7.659778e-01   \n",
       "min    1.000000e+00  1.000000e+00  5.000000e+00  1.000000e+01  0.000000e+00   \n",
       "25%    1.509001e+06  3.137700e+04  5.000000e+00  1.000000e+01  6.428995e-01   \n",
       "50%    3.018000e+06  6.276550e+04  2.000000e+01  2.000000e+01  1.308123e+00   \n",
       "75%    4.527000e+06  9.430100e+04  5.000000e+01  5.000000e+01  1.965502e+00   \n",
       "max    6.036000e+06  1.257490e+05  5.000000e+01  5.000000e+01  2.937238e+00   \n",
       "\n",
       "               u_in         u_out      pressure  \n",
       "count  6.036000e+06  6.036000e+06  6.036000e+06  \n",
       "mean   7.321615e+00  6.204493e-01  1.122041e+01  \n",
       "std    1.343470e+01  4.852752e-01  8.109703e+00  \n",
       "min    0.000000e+00  0.000000e+00 -1.895744e+00  \n",
       "25%    3.936623e-01  0.000000e+00  6.329607e+00  \n",
       "50%    4.386146e+00  1.000000e+00  7.032628e+00  \n",
       "75%    4.983895e+00  1.000000e+00  1.364103e+01  \n",
       "max    1.000000e+02  1.000000e+00  6.482099e+01  "
      ]
     },
     "execution_count": 10,
     "metadata": {},
     "output_type": "execute_result"
    }
   ],
   "source": [
    "data_train.describe()"
   ]
  },
  {
   "cell_type": "code",
   "execution_count": 11,
   "id": "8fe7a487",
   "metadata": {
    "execution": {
     "iopub.execute_input": "2022-07-27T16:01:45.172523Z",
     "iopub.status.busy": "2022-07-27T16:01:45.171597Z",
     "iopub.status.idle": "2022-07-27T16:01:45.216514Z",
     "shell.execute_reply": "2022-07-27T16:01:45.216033Z"
    },
    "papermill": {
     "duration": 0.163524,
     "end_time": "2022-07-27T16:01:45.217806",
     "exception": false,
     "start_time": "2022-07-27T16:01:45.054282",
     "status": "completed"
    },
    "tags": []
   },
   "outputs": [
    {
     "data": {
      "text/plain": [
       "id           0\n",
       "breath_id    0\n",
       "R            0\n",
       "C            0\n",
       "time_step    0\n",
       "u_in         0\n",
       "u_out        0\n",
       "pressure     0\n",
       "dtype: int64"
      ]
     },
     "execution_count": 11,
     "metadata": {},
     "output_type": "execute_result"
    }
   ],
   "source": [
    "data_train.isnull().sum()"
   ]
  },
  {
   "cell_type": "code",
   "execution_count": 12,
   "id": "d9f2834d",
   "metadata": {
    "execution": {
     "iopub.execute_input": "2022-07-27T16:01:45.368246Z",
     "iopub.status.busy": "2022-07-27T16:01:45.368017Z",
     "iopub.status.idle": "2022-07-27T16:01:45.392779Z",
     "shell.execute_reply": "2022-07-27T16:01:45.392273Z"
    },
    "papermill": {
     "duration": 0.101826,
     "end_time": "2022-07-27T16:01:45.394073",
     "exception": false,
     "start_time": "2022-07-27T16:01:45.292247",
     "status": "completed"
    },
    "tags": []
   },
   "outputs": [
    {
     "data": {
      "text/plain": [
       "id           0\n",
       "breath_id    0\n",
       "R            0\n",
       "C            0\n",
       "time_step    0\n",
       "u_in         0\n",
       "u_out        0\n",
       "dtype: int64"
      ]
     },
     "execution_count": 12,
     "metadata": {},
     "output_type": "execute_result"
    }
   ],
   "source": [
    "data_test.isnull().sum()"
   ]
  },
  {
   "cell_type": "code",
   "execution_count": 13,
   "id": "40c9e790",
   "metadata": {
    "execution": {
     "iopub.execute_input": "2022-07-27T16:01:45.543077Z",
     "iopub.status.busy": "2022-07-27T16:01:45.542649Z",
     "iopub.status.idle": "2022-07-27T16:01:45.554861Z",
     "shell.execute_reply": "2022-07-27T16:01:45.554143Z"
    },
    "papermill": {
     "duration": 0.089475,
     "end_time": "2022-07-27T16:01:45.557057",
     "exception": false,
     "start_time": "2022-07-27T16:01:45.467582",
     "status": "completed"
    },
    "tags": []
   },
   "outputs": [
    {
     "name": "stdout",
     "output_type": "stream",
     "text": [
      "<class 'pandas.core.frame.DataFrame'>\n",
      "RangeIndex: 6036000 entries, 0 to 6035999\n",
      "Data columns (total 8 columns):\n",
      " #   Column     Dtype  \n",
      "---  ------     -----  \n",
      " 0   id         int64  \n",
      " 1   breath_id  int64  \n",
      " 2   R          int64  \n",
      " 3   C          int64  \n",
      " 4   time_step  float64\n",
      " 5   u_in       float64\n",
      " 6   u_out      int64  \n",
      " 7   pressure   float64\n",
      "dtypes: float64(3), int64(5)\n",
      "memory usage: 368.4 MB\n"
     ]
    }
   ],
   "source": [
    "data_train.info()"
   ]
  },
  {
   "cell_type": "code",
   "execution_count": 14,
   "id": "ac230339",
   "metadata": {
    "execution": {
     "iopub.execute_input": "2022-07-27T16:01:45.709902Z",
     "iopub.status.busy": "2022-07-27T16:01:45.709071Z",
     "iopub.status.idle": "2022-07-27T16:01:45.718222Z",
     "shell.execute_reply": "2022-07-27T16:01:45.717149Z"
    },
    "papermill": {
     "duration": 0.087325,
     "end_time": "2022-07-27T16:01:45.719723",
     "exception": false,
     "start_time": "2022-07-27T16:01:45.632398",
     "status": "completed"
    },
    "tags": []
   },
   "outputs": [
    {
     "name": "stdout",
     "output_type": "stream",
     "text": [
      "<class 'pandas.core.frame.DataFrame'>\n",
      "RangeIndex: 4024000 entries, 0 to 4023999\n",
      "Data columns (total 7 columns):\n",
      " #   Column     Dtype  \n",
      "---  ------     -----  \n",
      " 0   id         int64  \n",
      " 1   breath_id  int64  \n",
      " 2   R          int64  \n",
      " 3   C          int64  \n",
      " 4   time_step  float64\n",
      " 5   u_in       float64\n",
      " 6   u_out      int64  \n",
      "dtypes: float64(2), int64(5)\n",
      "memory usage: 214.9 MB\n"
     ]
    }
   ],
   "source": [
    "data_test.info()"
   ]
  },
  {
   "cell_type": "code",
   "execution_count": 15,
   "id": "fdddae54",
   "metadata": {
    "execution": {
     "iopub.execute_input": "2022-07-27T16:01:45.909095Z",
     "iopub.status.busy": "2022-07-27T16:01:45.908486Z",
     "iopub.status.idle": "2022-07-27T16:01:45.918319Z",
     "shell.execute_reply": "2022-07-27T16:01:45.917732Z"
    },
    "papermill": {
     "duration": 0.127007,
     "end_time": "2022-07-27T16:01:45.920055",
     "exception": false,
     "start_time": "2022-07-27T16:01:45.793048",
     "status": "completed"
    },
    "tags": []
   },
   "outputs": [
    {
     "data": {
      "text/html": [
       "<div>\n",
       "<style scoped>\n",
       "    .dataframe tbody tr th:only-of-type {\n",
       "        vertical-align: middle;\n",
       "    }\n",
       "\n",
       "    .dataframe tbody tr th {\n",
       "        vertical-align: top;\n",
       "    }\n",
       "\n",
       "    .dataframe thead th {\n",
       "        text-align: right;\n",
       "    }\n",
       "</style>\n",
       "<table border=\"1\" class=\"dataframe\">\n",
       "  <thead>\n",
       "    <tr style=\"text-align: right;\">\n",
       "      <th></th>\n",
       "      <th>id</th>\n",
       "      <th>breath_id</th>\n",
       "      <th>R</th>\n",
       "      <th>C</th>\n",
       "      <th>time_step</th>\n",
       "      <th>u_in</th>\n",
       "      <th>u_out</th>\n",
       "      <th>pressure</th>\n",
       "    </tr>\n",
       "  </thead>\n",
       "  <tbody>\n",
       "    <tr>\n",
       "      <th>0</th>\n",
       "      <td>1</td>\n",
       "      <td>1</td>\n",
       "      <td>20</td>\n",
       "      <td>50</td>\n",
       "      <td>0.000000</td>\n",
       "      <td>0.083334</td>\n",
       "      <td>0</td>\n",
       "      <td>5.837492</td>\n",
       "    </tr>\n",
       "    <tr>\n",
       "      <th>1</th>\n",
       "      <td>2</td>\n",
       "      <td>1</td>\n",
       "      <td>20</td>\n",
       "      <td>50</td>\n",
       "      <td>0.033652</td>\n",
       "      <td>18.383041</td>\n",
       "      <td>0</td>\n",
       "      <td>5.907794</td>\n",
       "    </tr>\n",
       "    <tr>\n",
       "      <th>2</th>\n",
       "      <td>3</td>\n",
       "      <td>1</td>\n",
       "      <td>20</td>\n",
       "      <td>50</td>\n",
       "      <td>0.067514</td>\n",
       "      <td>22.509278</td>\n",
       "      <td>0</td>\n",
       "      <td>7.876254</td>\n",
       "    </tr>\n",
       "    <tr>\n",
       "      <th>3</th>\n",
       "      <td>4</td>\n",
       "      <td>1</td>\n",
       "      <td>20</td>\n",
       "      <td>50</td>\n",
       "      <td>0.101542</td>\n",
       "      <td>22.808822</td>\n",
       "      <td>0</td>\n",
       "      <td>11.742872</td>\n",
       "    </tr>\n",
       "    <tr>\n",
       "      <th>4</th>\n",
       "      <td>5</td>\n",
       "      <td>1</td>\n",
       "      <td>20</td>\n",
       "      <td>50</td>\n",
       "      <td>0.135756</td>\n",
       "      <td>25.355850</td>\n",
       "      <td>0</td>\n",
       "      <td>12.234987</td>\n",
       "    </tr>\n",
       "  </tbody>\n",
       "</table>\n",
       "</div>"
      ],
      "text/plain": [
       "   id  breath_id   R   C  time_step       u_in  u_out   pressure\n",
       "0   1          1  20  50   0.000000   0.083334      0   5.837492\n",
       "1   2          1  20  50   0.033652  18.383041      0   5.907794\n",
       "2   3          1  20  50   0.067514  22.509278      0   7.876254\n",
       "3   4          1  20  50   0.101542  22.808822      0  11.742872\n",
       "4   5          1  20  50   0.135756  25.355850      0  12.234987"
      ]
     },
     "execution_count": 15,
     "metadata": {},
     "output_type": "execute_result"
    }
   ],
   "source": [
    "data_train.head()"
   ]
  },
  {
   "cell_type": "markdown",
   "id": "ce397b06",
   "metadata": {
    "papermill": {
     "duration": 0.118906,
     "end_time": "2022-07-27T16:01:46.158817",
     "exception": false,
     "start_time": "2022-07-27T16:01:46.039911",
     "status": "completed"
    },
    "tags": []
   },
   "source": [
    "**Exploratory Data Analysis**"
   ]
  },
  {
   "cell_type": "code",
   "execution_count": 16,
   "id": "be7e37db",
   "metadata": {
    "execution": {
     "iopub.execute_input": "2022-07-27T16:01:46.398648Z",
     "iopub.status.busy": "2022-07-27T16:01:46.398003Z",
     "iopub.status.idle": "2022-07-27T16:01:46.468891Z",
     "shell.execute_reply": "2022-07-27T16:01:46.468324Z"
    },
    "papermill": {
     "duration": 0.192987,
     "end_time": "2022-07-27T16:01:46.471131",
     "exception": false,
     "start_time": "2022-07-27T16:01:46.278144",
     "status": "completed"
    },
    "tags": []
   },
   "outputs": [
    {
     "data": {
      "text/html": [
       "<div>\n",
       "<style scoped>\n",
       "    .dataframe tbody tr th:only-of-type {\n",
       "        vertical-align: middle;\n",
       "    }\n",
       "\n",
       "    .dataframe tbody tr th {\n",
       "        vertical-align: top;\n",
       "    }\n",
       "\n",
       "    .dataframe thead th {\n",
       "        text-align: right;\n",
       "    }\n",
       "</style>\n",
       "<table border=\"1\" class=\"dataframe\">\n",
       "  <thead>\n",
       "    <tr style=\"text-align: right;\">\n",
       "      <th></th>\n",
       "      <th>id</th>\n",
       "      <th>breath_id</th>\n",
       "      <th>R</th>\n",
       "      <th>C</th>\n",
       "      <th>time_step</th>\n",
       "      <th>u_in</th>\n",
       "      <th>u_out</th>\n",
       "      <th>pressure</th>\n",
       "    </tr>\n",
       "  </thead>\n",
       "  <tbody>\n",
       "    <tr>\n",
       "      <th>0</th>\n",
       "      <td>1</td>\n",
       "      <td>1</td>\n",
       "      <td>20</td>\n",
       "      <td>50</td>\n",
       "      <td>0.000000</td>\n",
       "      <td>0.083334</td>\n",
       "      <td>0</td>\n",
       "      <td>5.837492</td>\n",
       "    </tr>\n",
       "    <tr>\n",
       "      <th>1</th>\n",
       "      <td>2</td>\n",
       "      <td>1</td>\n",
       "      <td>20</td>\n",
       "      <td>50</td>\n",
       "      <td>0.033652</td>\n",
       "      <td>18.383041</td>\n",
       "      <td>0</td>\n",
       "      <td>5.907794</td>\n",
       "    </tr>\n",
       "    <tr>\n",
       "      <th>2</th>\n",
       "      <td>3</td>\n",
       "      <td>1</td>\n",
       "      <td>20</td>\n",
       "      <td>50</td>\n",
       "      <td>0.067514</td>\n",
       "      <td>22.509278</td>\n",
       "      <td>0</td>\n",
       "      <td>7.876254</td>\n",
       "    </tr>\n",
       "    <tr>\n",
       "      <th>3</th>\n",
       "      <td>4</td>\n",
       "      <td>1</td>\n",
       "      <td>20</td>\n",
       "      <td>50</td>\n",
       "      <td>0.101542</td>\n",
       "      <td>22.808822</td>\n",
       "      <td>0</td>\n",
       "      <td>11.742872</td>\n",
       "    </tr>\n",
       "    <tr>\n",
       "      <th>4</th>\n",
       "      <td>5</td>\n",
       "      <td>1</td>\n",
       "      <td>20</td>\n",
       "      <td>50</td>\n",
       "      <td>0.135756</td>\n",
       "      <td>25.355850</td>\n",
       "      <td>0</td>\n",
       "      <td>12.234987</td>\n",
       "    </tr>\n",
       "    <tr>\n",
       "      <th>...</th>\n",
       "      <td>...</td>\n",
       "      <td>...</td>\n",
       "      <td>...</td>\n",
       "      <td>...</td>\n",
       "      <td>...</td>\n",
       "      <td>...</td>\n",
       "      <td>...</td>\n",
       "      <td>...</td>\n",
       "    </tr>\n",
       "    <tr>\n",
       "      <th>6035995</th>\n",
       "      <td>6035996</td>\n",
       "      <td>125749</td>\n",
       "      <td>50</td>\n",
       "      <td>10</td>\n",
       "      <td>2.504603</td>\n",
       "      <td>1.489714</td>\n",
       "      <td>1</td>\n",
       "      <td>3.869032</td>\n",
       "    </tr>\n",
       "    <tr>\n",
       "      <th>6035996</th>\n",
       "      <td>6035997</td>\n",
       "      <td>125749</td>\n",
       "      <td>50</td>\n",
       "      <td>10</td>\n",
       "      <td>2.537961</td>\n",
       "      <td>1.488497</td>\n",
       "      <td>1</td>\n",
       "      <td>3.869032</td>\n",
       "    </tr>\n",
       "    <tr>\n",
       "      <th>6035997</th>\n",
       "      <td>6035998</td>\n",
       "      <td>125749</td>\n",
       "      <td>50</td>\n",
       "      <td>10</td>\n",
       "      <td>2.571408</td>\n",
       "      <td>1.558978</td>\n",
       "      <td>1</td>\n",
       "      <td>3.798729</td>\n",
       "    </tr>\n",
       "    <tr>\n",
       "      <th>6035998</th>\n",
       "      <td>6035999</td>\n",
       "      <td>125749</td>\n",
       "      <td>50</td>\n",
       "      <td>10</td>\n",
       "      <td>2.604744</td>\n",
       "      <td>1.272663</td>\n",
       "      <td>1</td>\n",
       "      <td>4.079938</td>\n",
       "    </tr>\n",
       "    <tr>\n",
       "      <th>6035999</th>\n",
       "      <td>6036000</td>\n",
       "      <td>125749</td>\n",
       "      <td>50</td>\n",
       "      <td>10</td>\n",
       "      <td>2.638017</td>\n",
       "      <td>1.482739</td>\n",
       "      <td>1</td>\n",
       "      <td>3.869032</td>\n",
       "    </tr>\n",
       "  </tbody>\n",
       "</table>\n",
       "<p>6036000 rows × 8 columns</p>\n",
       "</div>"
      ],
      "text/plain": [
       "              id  breath_id   R   C  time_step       u_in  u_out   pressure\n",
       "0              1          1  20  50   0.000000   0.083334      0   5.837492\n",
       "1              2          1  20  50   0.033652  18.383041      0   5.907794\n",
       "2              3          1  20  50   0.067514  22.509278      0   7.876254\n",
       "3              4          1  20  50   0.101542  22.808822      0  11.742872\n",
       "4              5          1  20  50   0.135756  25.355850      0  12.234987\n",
       "...          ...        ...  ..  ..        ...        ...    ...        ...\n",
       "6035995  6035996     125749  50  10   2.504603   1.489714      1   3.869032\n",
       "6035996  6035997     125749  50  10   2.537961   1.488497      1   3.869032\n",
       "6035997  6035998     125749  50  10   2.571408   1.558978      1   3.798729\n",
       "6035998  6035999     125749  50  10   2.604744   1.272663      1   4.079938\n",
       "6035999  6036000     125749  50  10   2.638017   1.482739      1   3.869032\n",
       "\n",
       "[6036000 rows x 8 columns]"
      ]
     },
     "execution_count": 16,
     "metadata": {},
     "output_type": "execute_result"
    }
   ],
   "source": [
    "#numerical data columns\n",
    "features = data_train.select_dtypes(include = [np.number])\n",
    "features"
   ]
  },
  {
   "cell_type": "code",
   "execution_count": 17,
   "id": "9d24c4f2",
   "metadata": {
    "execution": {
     "iopub.execute_input": "2022-07-27T16:01:46.713246Z",
     "iopub.status.busy": "2022-07-27T16:01:46.712331Z",
     "iopub.status.idle": "2022-07-27T16:01:47.559607Z",
     "shell.execute_reply": "2022-07-27T16:01:47.558756Z"
    },
    "papermill": {
     "duration": 0.969786,
     "end_time": "2022-07-27T16:01:47.561452",
     "exception": false,
     "start_time": "2022-07-27T16:01:46.591666",
     "status": "completed"
    },
    "tags": []
   },
   "outputs": [
    {
     "name": "stdout",
     "output_type": "stream",
     "text": [
      "pressure     1.000000\n",
      "u_in         0.308136\n",
      "R            0.015976\n",
      "breath_id   -0.002394\n",
      "id          -0.002402\n",
      "C           -0.036727\n",
      "time_step   -0.524829\n",
      "u_out       -0.614910\n",
      "Name: pressure, dtype: float64 \n",
      "\n"
     ]
    }
   ],
   "source": [
    "correlation = features.corr()\n",
    "print(correlation['pressure'].sort_values(ascending = False),'\\n')"
   ]
  },
  {
   "cell_type": "code",
   "execution_count": 18,
   "id": "0945a1e2",
   "metadata": {
    "execution": {
     "iopub.execute_input": "2022-07-27T16:01:47.804555Z",
     "iopub.status.busy": "2022-07-27T16:01:47.803744Z",
     "iopub.status.idle": "2022-07-27T16:01:48.649747Z",
     "shell.execute_reply": "2022-07-27T16:01:48.649043Z"
    },
    "papermill": {
     "duration": 0.969485,
     "end_time": "2022-07-27T16:01:48.651395",
     "exception": false,
     "start_time": "2022-07-27T16:01:47.681910",
     "status": "completed"
    },
    "tags": []
   },
   "outputs": [
    {
     "data": {
      "text/plain": [
       "<AxesSubplot:>"
      ]
     },
     "execution_count": 18,
     "metadata": {},
     "output_type": "execute_result"
    },
    {
     "data": {
      "image/png": "[encoded data removed]",
      "text/plain": [
       "<Figure size 1008x864 with 2 Axes>"
      ]
     },
     "metadata": {
      "needs_background": "light"
     },
     "output_type": "display_data"
    }
   ],
   "source": [
    "f,ax = plt.subplots(figsize = (14,12))\n",
    "sns.heatmap(correlation,square = True,vmax = 0.6,annot = True)\n"
   ]
  },
  {
   "cell_type": "markdown",
   "id": "e04d0475",
   "metadata": {
    "papermill": {
     "duration": 0.078553,
     "end_time": "2022-07-27T16:01:48.808312",
     "exception": false,
     "start_time": "2022-07-27T16:01:48.729759",
     "status": "completed"
    },
    "tags": []
   },
   "source": [
    "From the heat map we can observe that there is a multicollinearity between id and breathe_id, so we need to drop any one of the column to increase the performance of the model.\n",
    "\n",
    "pressure is highly correlated with u_out and time_step"
   ]
  },
  {
   "cell_type": "markdown",
   "id": "6227defe",
   "metadata": {
    "papermill": {
     "duration": 0.078508,
     "end_time": "2022-07-27T16:01:48.965962",
     "exception": false,
     "start_time": "2022-07-27T16:01:48.887454",
     "status": "completed"
    },
    "tags": []
   },
   "source": [
    "**dropping the id column**"
   ]
  },
  {
   "cell_type": "code",
   "execution_count": 19,
   "id": "b38b1349",
   "metadata": {
    "execution": {
     "iopub.execute_input": "2022-07-27T16:01:49.126478Z",
     "iopub.status.busy": "2022-07-27T16:01:49.126205Z",
     "iopub.status.idle": "2022-07-27T16:01:49.211066Z",
     "shell.execute_reply": "2022-07-27T16:01:49.210336Z"
    },
    "papermill": {
     "duration": 0.166849,
     "end_time": "2022-07-27T16:01:49.212811",
     "exception": false,
     "start_time": "2022-07-27T16:01:49.045962",
     "status": "completed"
    },
    "tags": []
   },
   "outputs": [],
   "source": [
    "data_train = data_train.drop(['id'], axis = 1)\n",
    "data_test = data_test.drop(['id'], axis = 1)"
   ]
  },
  {
   "cell_type": "code",
   "execution_count": 20,
   "id": "ac248f2c",
   "metadata": {
    "execution": {
     "iopub.execute_input": "2022-07-27T16:01:49.370855Z",
     "iopub.status.busy": "2022-07-27T16:01:49.370520Z",
     "iopub.status.idle": "2022-07-27T16:01:51.198574Z",
     "shell.execute_reply": "2022-07-27T16:01:51.198062Z"
    },
    "papermill": {
     "duration": 1.907996,
     "end_time": "2022-07-27T16:01:51.200381",
     "exception": false,
     "start_time": "2022-07-27T16:01:49.292385",
     "status": "completed"
    },
    "tags": []
   },
   "outputs": [
    {
     "data": {
      "image/png": "[encoded data removed]",
      "text/plain": [
       "<Figure size 1440x720 with 9 Axes>"
      ]
     },
     "metadata": {
      "needs_background": "light"
     },
     "output_type": "display_data"
    }
   ],
   "source": [
    "eda_columns = ['breath_id', 'R', 'C', 'time_step', 'u_in', 'u_out', 'pressure']\n",
    "data_train[eda_columns].hist(figsize = (20,10))\n",
    "plt.show()"
   ]
  },
  {
   "cell_type": "code",
   "execution_count": 21,
   "id": "0762b011",
   "metadata": {
    "execution": {
     "iopub.execute_input": "2022-07-27T16:01:51.361772Z",
     "iopub.status.busy": "2022-07-27T16:01:51.361037Z",
     "iopub.status.idle": "2022-07-27T16:01:51.872599Z",
     "shell.execute_reply": "2022-07-27T16:01:51.872168Z"
    },
    "papermill": {
     "duration": 0.593779,
     "end_time": "2022-07-27T16:01:51.873959",
     "exception": false,
     "start_time": "2022-07-27T16:01:51.280180",
     "status": "completed"
    },
    "tags": []
   },
   "outputs": [
    {
     "data": {
      "text/plain": [
       "{5, 20, 50}"
      ]
     },
     "execution_count": 21,
     "metadata": {},
     "output_type": "execute_result"
    }
   ],
   "source": [
    "set(data_train['R'])"
   ]
  },
  {
   "cell_type": "code",
   "execution_count": 22,
   "id": "d9399683",
   "metadata": {
    "execution": {
     "iopub.execute_input": "2022-07-27T16:01:52.036947Z",
     "iopub.status.busy": "2022-07-27T16:01:52.036564Z",
     "iopub.status.idle": "2022-07-27T16:01:52.349965Z",
     "shell.execute_reply": "2022-07-27T16:01:52.349255Z"
    },
    "papermill": {
     "duration": 0.396516,
     "end_time": "2022-07-27T16:01:52.351607",
     "exception": false,
     "start_time": "2022-07-27T16:01:51.955091",
     "status": "completed"
    },
    "tags": []
   },
   "outputs": [
    {
     "data": {
      "text/plain": [
       "{5, 20, 50}"
      ]
     },
     "execution_count": 22,
     "metadata": {},
     "output_type": "execute_result"
    }
   ],
   "source": [
    "set(data_test['R'])"
   ]
  },
  {
   "cell_type": "code",
   "execution_count": 23,
   "id": "dd51ea46",
   "metadata": {
    "execution": {
     "iopub.execute_input": "2022-07-27T16:01:52.510457Z",
     "iopub.status.busy": "2022-07-27T16:01:52.510169Z",
     "iopub.status.idle": "2022-07-27T16:01:53.508757Z",
     "shell.execute_reply": "2022-07-27T16:01:53.507941Z"
    },
    "papermill": {
     "duration": 1.081192,
     "end_time": "2022-07-27T16:01:53.510984",
     "exception": false,
     "start_time": "2022-07-27T16:01:52.429792",
     "status": "completed"
    },
    "tags": []
   },
   "outputs": [
    {
     "data": {
      "text/plain": [
       "{10, 20, 50}"
      ]
     },
     "execution_count": 23,
     "metadata": {},
     "output_type": "execute_result"
    }
   ],
   "source": [
    "set(data_train['C'])"
   ]
  },
  {
   "cell_type": "code",
   "execution_count": 24,
   "id": "d8a59435",
   "metadata": {
    "execution": {
     "iopub.execute_input": "2022-07-27T16:01:53.672006Z",
     "iopub.status.busy": "2022-07-27T16:01:53.671550Z",
     "iopub.status.idle": "2022-07-27T16:01:53.983983Z",
     "shell.execute_reply": "2022-07-27T16:01:53.983558Z"
    },
    "papermill": {
     "duration": 0.394761,
     "end_time": "2022-07-27T16:01:53.985352",
     "exception": false,
     "start_time": "2022-07-27T16:01:53.590591",
     "status": "completed"
    },
    "tags": []
   },
   "outputs": [
    {
     "data": {
      "text/plain": [
       "{10, 20, 50}"
      ]
     },
     "execution_count": 24,
     "metadata": {},
     "output_type": "execute_result"
    }
   ],
   "source": [
    "set(data_test['C'])"
   ]
  },
  {
   "cell_type": "markdown",
   "id": "6b012381",
   "metadata": {
    "papermill": {
     "duration": 0.07972,
     "end_time": "2022-07-27T16:01:54.145474",
     "exception": false,
     "start_time": "2022-07-27T16:01:54.065754",
     "status": "completed"
    },
    "tags": []
   },
   "source": [
    "Variable 'R', 'C' and 'u_out' are categorical variables here as we can see in above graphs."
   ]
  },
  {
   "cell_type": "markdown",
   "id": "fb6c38c2",
   "metadata": {
    "papermill": {
     "duration": 0.081519,
     "end_time": "2022-07-27T16:01:54.308546",
     "exception": false,
     "start_time": "2022-07-27T16:01:54.227027",
     "status": "completed"
    },
    "tags": []
   },
   "source": [
    "**Data splitting**"
   ]
  },
  {
   "cell_type": "code",
   "execution_count": 25,
   "id": "40d045df",
   "metadata": {
    "execution": {
     "iopub.execute_input": "2022-07-27T16:01:54.473744Z",
     "iopub.status.busy": "2022-07-27T16:01:54.473391Z",
     "iopub.status.idle": "2022-07-27T16:01:54.559637Z",
     "shell.execute_reply": "2022-07-27T16:01:54.559161Z"
    },
    "papermill": {
     "duration": 0.171099,
     "end_time": "2022-07-27T16:01:54.561481",
     "exception": false,
     "start_time": "2022-07-27T16:01:54.390382",
     "status": "completed"
    },
    "tags": []
   },
   "outputs": [],
   "source": [
    "data_train_copy = data_train.copy()\n",
    "X = data_train_copy.drop(columns='pressure')\n",
    "y = data_train_copy['pressure']"
   ]
  },
  {
   "cell_type": "code",
   "execution_count": 26,
   "id": "574652d8",
   "metadata": {
    "execution": {
     "iopub.execute_input": "2022-07-27T16:01:54.725410Z",
     "iopub.status.busy": "2022-07-27T16:01:54.725076Z",
     "iopub.status.idle": "2022-07-27T16:01:56.676639Z",
     "shell.execute_reply": "2022-07-27T16:01:56.675863Z"
    },
    "papermill": {
     "duration": 2.03601,
     "end_time": "2022-07-27T16:01:56.678602",
     "exception": false,
     "start_time": "2022-07-27T16:01:54.642592",
     "status": "completed"
    },
    "tags": []
   },
   "outputs": [],
   "source": [
    "X_train, X_test, Y_train, Y_test = train_test_split(X, y, test_size = 0.2,random_state = 1)"
   ]
  },
  {
   "cell_type": "code",
   "execution_count": 27,
   "id": "e4babd65",
   "metadata": {
    "execution": {
     "iopub.execute_input": "2022-07-27T16:01:56.840909Z",
     "iopub.status.busy": "2022-07-27T16:01:56.840625Z",
     "iopub.status.idle": "2022-07-27T16:01:56.845525Z",
     "shell.execute_reply": "2022-07-27T16:01:56.845143Z"
    },
    "papermill": {
     "duration": 0.087339,
     "end_time": "2022-07-27T16:01:56.846814",
     "exception": false,
     "start_time": "2022-07-27T16:01:56.759475",
     "status": "completed"
    },
    "tags": []
   },
   "outputs": [
    {
     "data": {
      "text/plain": [
       "((4828800, 6), (4828800,))"
      ]
     },
     "execution_count": 27,
     "metadata": {},
     "output_type": "execute_result"
    }
   ],
   "source": [
    "X_train.shape,Y_train.shape"
   ]
  },
  {
   "cell_type": "code",
   "execution_count": 28,
   "id": "e51855a3",
   "metadata": {
    "execution": {
     "iopub.execute_input": "2022-07-27T16:01:57.009210Z",
     "iopub.status.busy": "2022-07-27T16:01:57.008980Z",
     "iopub.status.idle": "2022-07-27T16:01:57.012662Z",
     "shell.execute_reply": "2022-07-27T16:01:57.012277Z"
    },
    "papermill": {
     "duration": 0.086981,
     "end_time": "2022-07-27T16:01:57.013922",
     "exception": false,
     "start_time": "2022-07-27T16:01:56.926941",
     "status": "completed"
    },
    "tags": []
   },
   "outputs": [
    {
     "data": {
      "text/plain": [
       "((1207200, 6), (1207200,))"
      ]
     },
     "execution_count": 28,
     "metadata": {},
     "output_type": "execute_result"
    }
   ],
   "source": [
    "X_test.shape,Y_test.shape"
   ]
  },
  {
   "cell_type": "markdown",
   "id": "c04199a1",
   "metadata": {
    "papermill": {
     "duration": 0.080292,
     "end_time": "2022-07-27T16:01:57.177537",
     "exception": false,
     "start_time": "2022-07-27T16:01:57.097245",
     "status": "completed"
    },
    "tags": []
   },
   "source": [
    "**Model Building**"
   ]
  },
  {
   "cell_type": "markdown",
   "id": "6515aa4b",
   "metadata": {
    "papermill": {
     "duration": 0.080364,
     "end_time": "2022-07-27T16:01:57.337720",
     "exception": false,
     "start_time": "2022-07-27T16:01:57.257356",
     "status": "completed"
    },
    "tags": []
   },
   "source": [
    "**MAPE function**"
   ]
  },
  {
   "cell_type": "code",
   "execution_count": 29,
   "id": "d534d8a9",
   "metadata": {
    "execution": {
     "iopub.execute_input": "2022-07-27T16:01:57.509153Z",
     "iopub.status.busy": "2022-07-27T16:01:57.508617Z",
     "iopub.status.idle": "2022-07-27T16:01:57.512725Z",
     "shell.execute_reply": "2022-07-27T16:01:57.512236Z"
    },
    "papermill": {
     "duration": 0.093719,
     "end_time": "2022-07-27T16:01:57.514061",
     "exception": false,
     "start_time": "2022-07-27T16:01:57.420342",
     "status": "completed"
    },
    "tags": []
   },
   "outputs": [],
   "source": [
    "def mape(actual, pred): \n",
    "    actual, pred = np.array(actual), np.array(pred)\n",
    "    return np.mean(np.abs((actual - pred) / actual)) * 100"
   ]
  },
  {
   "cell_type": "markdown",
   "id": "afb86d82",
   "metadata": {
    "papermill": {
     "duration": 0.081422,
     "end_time": "2022-07-27T16:01:57.679825",
     "exception": false,
     "start_time": "2022-07-27T16:01:57.598403",
     "status": "completed"
    },
    "tags": []
   },
   "source": [
    "**Linear Regression**"
   ]
  },
  {
   "cell_type": "code",
   "execution_count": 30,
   "id": "3ba11839",
   "metadata": {
    "execution": {
     "iopub.execute_input": "2022-07-27T16:01:57.857646Z",
     "iopub.status.busy": "2022-07-27T16:01:57.857198Z",
     "iopub.status.idle": "2022-07-27T16:01:58.824931Z",
     "shell.execute_reply": "2022-07-27T16:01:58.824282Z"
    },
    "papermill": {
     "duration": 1.061089,
     "end_time": "2022-07-27T16:01:58.827049",
     "exception": false,
     "start_time": "2022-07-27T16:01:57.765960",
     "status": "completed"
    },
    "tags": []
   },
   "outputs": [],
   "source": [
    "from sklearn.linear_model import LinearRegression\n",
    "LR_model = LinearRegression()\n",
    "\n",
    "LR_model.fit(X_train, Y_train)\n",
    "\n",
    "LR_train_predict = LR_model.predict(X_train)\n",
    "LR_test_predict = LR_model.predict(X_test)"
   ]
  },
  {
   "cell_type": "code",
   "execution_count": 31,
   "id": "e51b1ab5",
   "metadata": {
    "execution": {
     "iopub.execute_input": "2022-07-27T16:01:59.014926Z",
     "iopub.status.busy": "2022-07-27T16:01:59.014709Z",
     "iopub.status.idle": "2022-07-27T16:01:59.102851Z",
     "shell.execute_reply": "2022-07-27T16:01:59.102274Z"
    },
    "papermill": {
     "duration": 0.174548,
     "end_time": "2022-07-27T16:01:59.104776",
     "exception": false,
     "start_time": "2022-07-27T16:01:58.930228",
     "status": "completed"
    },
    "tags": []
   },
   "outputs": [],
   "source": [
    "LR_R2_train = r2_score(Y_train,LR_train_predict)\n",
    "LR_R2_test = r2_score(Y_test,LR_test_predict)\n",
    "\n",
    "LR_MAPE_train = mape(Y_train,LR_train_predict)\n",
    "LR_MAPE_test = mape(Y_test,LR_test_predict)\n",
    "\n",
    "LR_MAE_test = mean_absolute_error(Y_test,LR_test_predict)\n",
    "LR_MAE_train = mean_absolute_error(Y_train,LR_train_predict)"
   ]
  },
  {
   "cell_type": "code",
   "execution_count": 32,
   "id": "de20639a",
   "metadata": {
    "execution": {
     "iopub.execute_input": "2022-07-27T16:01:59.265910Z",
     "iopub.status.busy": "2022-07-27T16:01:59.265686Z",
     "iopub.status.idle": "2022-07-27T16:01:59.272927Z",
     "shell.execute_reply": "2022-07-27T16:01:59.272349Z"
    },
    "papermill": {
     "duration": 0.089882,
     "end_time": "2022-07-27T16:01:59.274334",
     "exception": false,
     "start_time": "2022-07-27T16:01:59.184452",
     "status": "completed"
    },
    "tags": []
   },
   "outputs": [
    {
     "name": "stdout",
     "output_type": "stream",
     "text": [
      "train r2_score :  0.38430500472192\n",
      "test r2_score :  0.382336811448047\n",
      "train mape score :  48.856114288854776\n",
      "test mape score :  51.709911534728604\n",
      "train MAE score : 3.9464568555827375\n",
      "test MAE score : 3.9545090843780573\n"
     ]
    }
   ],
   "source": [
    "print(\"train r2_score : \",LR_R2_train)\n",
    "print(\"test r2_score : \",LR_R2_test)\n",
    "\n",
    "\n",
    "print(\"train mape score : \",LR_MAPE_train)\n",
    "print(\"test mape score : \",LR_MAPE_test)\n",
    "\n",
    "print(\"train MAE score :\",LR_MAE_train)\n",
    "print(\"test MAE score :\",LR_MAE_test)"
   ]
  },
  {
   "cell_type": "code",
   "execution_count": 33,
   "id": "4de0bd9e",
   "metadata": {
    "execution": {
     "iopub.execute_input": "2022-07-27T16:01:59.436428Z",
     "iopub.status.busy": "2022-07-27T16:01:59.436019Z",
     "iopub.status.idle": "2022-07-27T16:01:59.549791Z",
     "shell.execute_reply": "2022-07-27T16:01:59.549072Z"
    },
    "papermill": {
     "duration": 0.197548,
     "end_time": "2022-07-27T16:01:59.552311",
     "exception": false,
     "start_time": "2022-07-27T16:01:59.354763",
     "status": "completed"
    },
    "tags": []
   },
   "outputs": [
    {
     "name": "stdout",
     "output_type": "stream",
     "text": [
      "0.38430500472192 0.382336811448047\n"
     ]
    }
   ],
   "source": [
    "LR_model_score_train = LR_model.score(X_train, Y_train)\n",
    "LR_model_score_test = LR_model.score(X_test, Y_test)\n",
    "print(LR_model_score_train,LR_model_score_test)"
   ]
  },
  {
   "cell_type": "code",
   "execution_count": 34,
   "id": "1226ab54",
   "metadata": {
    "execution": {
     "iopub.execute_input": "2022-07-27T16:01:59.736486Z",
     "iopub.status.busy": "2022-07-27T16:01:59.736259Z",
     "iopub.status.idle": "2022-07-27T16:01:59.747766Z",
     "shell.execute_reply": "2022-07-27T16:01:59.747254Z"
    },
    "papermill": {
     "duration": 0.094917,
     "end_time": "2022-07-27T16:01:59.749235",
     "exception": false,
     "start_time": "2022-07-27T16:01:59.654318",
     "status": "completed"
    },
    "tags": []
   },
   "outputs": [
    {
     "data": {
      "text/html": [
       "<div>\n",
       "<style scoped>\n",
       "    .dataframe tbody tr th:only-of-type {\n",
       "        vertical-align: middle;\n",
       "    }\n",
       "\n",
       "    .dataframe tbody tr th {\n",
       "        vertical-align: top;\n",
       "    }\n",
       "\n",
       "    .dataframe thead th {\n",
       "        text-align: right;\n",
       "    }\n",
       "</style>\n",
       "<table border=\"1\" class=\"dataframe\">\n",
       "  <thead>\n",
       "    <tr style=\"text-align: right;\">\n",
       "      <th></th>\n",
       "      <th>R Squared Score</th>\n",
       "      <th>MAPE Score</th>\n",
       "      <th>MAE Score</th>\n",
       "      <th>Model Score</th>\n",
       "    </tr>\n",
       "  </thead>\n",
       "  <tbody>\n",
       "    <tr>\n",
       "      <th>Linear Regression</th>\n",
       "      <td>0.384305</td>\n",
       "      <td>48.856114</td>\n",
       "      <td>3.946457</td>\n",
       "      <td>0.384305</td>\n",
       "    </tr>\n",
       "  </tbody>\n",
       "</table>\n",
       "</div>"
      ],
      "text/plain": [
       "                   R Squared Score  MAPE Score  MAE Score  Model Score\n",
       "Linear Regression         0.384305   48.856114   3.946457     0.384305"
      ]
     },
     "execution_count": 34,
     "metadata": {},
     "output_type": "execute_result"
    }
   ],
   "source": [
    "resultsLR_train = pd.DataFrame({'R Squared Score': LR_R2_train,\n",
    "                          'MAPE Score':LR_MAPE_train,\n",
    "                         'MAE Score':LR_MAE_train,\n",
    "                         'Model Score':LR_model_score_train}\n",
    "                           ,index=['Linear Regression'])\n",
    "\n",
    "resultsLR_train"
   ]
  },
  {
   "cell_type": "code",
   "execution_count": 35,
   "id": "2f06d7ef",
   "metadata": {
    "execution": {
     "iopub.execute_input": "2022-07-27T16:01:59.913770Z",
     "iopub.status.busy": "2022-07-27T16:01:59.913397Z",
     "iopub.status.idle": "2022-07-27T16:01:59.923815Z",
     "shell.execute_reply": "2022-07-27T16:01:59.923313Z"
    },
    "papermill": {
     "duration": 0.093574,
     "end_time": "2022-07-27T16:01:59.925322",
     "exception": false,
     "start_time": "2022-07-27T16:01:59.831748",
     "status": "completed"
    },
    "tags": []
   },
   "outputs": [
    {
     "data": {
      "text/html": [
       "<div>\n",
       "<style scoped>\n",
       "    .dataframe tbody tr th:only-of-type {\n",
       "        vertical-align: middle;\n",
       "    }\n",
       "\n",
       "    .dataframe tbody tr th {\n",
       "        vertical-align: top;\n",
       "    }\n",
       "\n",
       "    .dataframe thead th {\n",
       "        text-align: right;\n",
       "    }\n",
       "</style>\n",
       "<table border=\"1\" class=\"dataframe\">\n",
       "  <thead>\n",
       "    <tr style=\"text-align: right;\">\n",
       "      <th></th>\n",
       "      <th>R Squared Score</th>\n",
       "      <th>MAPE Score</th>\n",
       "      <th>MAE Score</th>\n",
       "      <th>Model Score</th>\n",
       "    </tr>\n",
       "  </thead>\n",
       "  <tbody>\n",
       "    <tr>\n",
       "      <th>Linear Regression</th>\n",
       "      <td>0.382337</td>\n",
       "      <td>51.709912</td>\n",
       "      <td>3.954509</td>\n",
       "      <td>0.382337</td>\n",
       "    </tr>\n",
       "  </tbody>\n",
       "</table>\n",
       "</div>"
      ],
      "text/plain": [
       "                   R Squared Score  MAPE Score  MAE Score  Model Score\n",
       "Linear Regression         0.382337   51.709912   3.954509     0.382337"
      ]
     },
     "execution_count": 35,
     "metadata": {},
     "output_type": "execute_result"
    }
   ],
   "source": [
    "resultsLR_test = pd.DataFrame({'R Squared Score': LR_R2_test,\n",
    "                          'MAPE Score':LR_MAPE_test,\n",
    "                         'MAE Score':LR_MAE_test,\n",
    "                         'Model Score':LR_model_score_test}\n",
    "                           ,index=['Linear Regression'])\n",
    "\n",
    "resultsLR_test"
   ]
  },
  {
   "cell_type": "markdown",
   "id": "f551fe73",
   "metadata": {
    "papermill": {
     "duration": 0.081587,
     "end_time": "2022-07-27T16:02:00.087579",
     "exception": false,
     "start_time": "2022-07-27T16:02:00.005992",
     "status": "completed"
    },
    "tags": []
   },
   "source": [
    "**Decison Tree**"
   ]
  },
  {
   "cell_type": "code",
   "execution_count": 36,
   "id": "6fc4927f",
   "metadata": {
    "execution": {
     "iopub.execute_input": "2022-07-27T16:02:00.255961Z",
     "iopub.status.busy": "2022-07-27T16:02:00.255500Z",
     "iopub.status.idle": "2022-07-27T16:02:22.098734Z",
     "shell.execute_reply": "2022-07-27T16:02:22.097844Z"
    },
    "papermill": {
     "duration": 21.930341,
     "end_time": "2022-07-27T16:02:22.100849",
     "exception": false,
     "start_time": "2022-07-27T16:02:00.170508",
     "status": "completed"
    },
    "tags": []
   },
   "outputs": [],
   "source": [
    "from sklearn.tree import DecisionTreeRegressor\n",
    "DT_model = DecisionTreeRegressor(max_depth = 10,min_weight_fraction_leaf = 0.01,random_state = 0)\n",
    "\n",
    "DT_model.fit(X_train, Y_train)\n",
    "\n",
    "DT_pred_train = DT_model.predict(X_train)\n",
    "DT_pred_test = DT_model.predict(X_test)"
   ]
  },
  {
   "cell_type": "code",
   "execution_count": 37,
   "id": "5a6ed781",
   "metadata": {
    "execution": {
     "iopub.execute_input": "2022-07-27T16:02:22.266733Z",
     "iopub.status.busy": "2022-07-27T16:02:22.266469Z",
     "iopub.status.idle": "2022-07-27T16:02:22.360190Z",
     "shell.execute_reply": "2022-07-27T16:02:22.359556Z"
    },
    "papermill": {
     "duration": 0.179396,
     "end_time": "2022-07-27T16:02:22.362240",
     "exception": false,
     "start_time": "2022-07-27T16:02:22.182844",
     "status": "completed"
    },
    "tags": []
   },
   "outputs": [],
   "source": [
    "DT_R2_train = r2_score(Y_train,DT_pred_train)\n",
    "DT_R2_test = r2_score(Y_test,DT_pred_test)\n",
    "\n",
    "DT_MAPE_train = mape(Y_train,DT_pred_train)\n",
    "DT_MAPE_test = mape(Y_test,DT_pred_test)\n",
    "\n",
    "DT_MAE_test = mean_absolute_error(Y_test,DT_pred_test)\n",
    "DT_MAE_train = mean_absolute_error(Y_train,DT_pred_train)"
   ]
  },
  {
   "cell_type": "code",
   "execution_count": 38,
   "id": "07e5d3a1",
   "metadata": {
    "execution": {
     "iopub.execute_input": "2022-07-27T16:02:22.528144Z",
     "iopub.status.busy": "2022-07-27T16:02:22.527224Z",
     "iopub.status.idle": "2022-07-27T16:02:22.534488Z",
     "shell.execute_reply": "2022-07-27T16:02:22.533571Z"
    },
    "papermill": {
     "duration": 0.092016,
     "end_time": "2022-07-27T16:02:22.536504",
     "exception": false,
     "start_time": "2022-07-27T16:02:22.444488",
     "status": "completed"
    },
    "tags": []
   },
   "outputs": [
    {
     "name": "stdout",
     "output_type": "stream",
     "text": [
      "train r2_score :  0.6581593033771412\n",
      "test r2_score :  0.6573058747373273\n",
      "train mape score :  32.2783962090603\n",
      "test mape score :  34.66763388575755\n",
      "train MAE score : 2.603045955345301\n",
      "test MAE score : 2.6090337526088496\n"
     ]
    }
   ],
   "source": [
    "print(\"train r2_score : \",DT_R2_train)\n",
    "print(\"test r2_score : \",DT_R2_test)\n",
    "\n",
    "\n",
    "print(\"train mape score : \",DT_MAPE_train)\n",
    "print(\"test mape score : \",DT_MAPE_test)\n",
    "\n",
    "print(\"train MAE score :\",DT_MAE_train)\n",
    "print(\"test MAE score :\",DT_MAE_test)"
   ]
  },
  {
   "cell_type": "code",
   "execution_count": 39,
   "id": "bc90e59d",
   "metadata": {
    "execution": {
     "iopub.execute_input": "2022-07-27T16:02:22.704680Z",
     "iopub.status.busy": "2022-07-27T16:02:22.704126Z",
     "iopub.status.idle": "2022-07-27T16:02:23.162245Z",
     "shell.execute_reply": "2022-07-27T16:02:23.161197Z"
    },
    "papermill": {
     "duration": 0.544398,
     "end_time": "2022-07-27T16:02:23.164369",
     "exception": false,
     "start_time": "2022-07-27T16:02:22.619971",
     "status": "completed"
    },
    "tags": []
   },
   "outputs": [
    {
     "name": "stdout",
     "output_type": "stream",
     "text": [
      "0.6581593033771412 0.6573058747373273\n"
     ]
    }
   ],
   "source": [
    "DT_model_score_test = DT_model.score(X_test, Y_test)\n",
    "DT_model_score_train = DT_model.score(X_train, Y_train)\n",
    "print(DT_model_score_train, DT_model_score_test)"
   ]
  },
  {
   "cell_type": "code",
   "execution_count": 40,
   "id": "aa9c7a2b",
   "metadata": {
    "execution": {
     "iopub.execute_input": "2022-07-27T16:02:23.332271Z",
     "iopub.status.busy": "2022-07-27T16:02:23.331419Z",
     "iopub.status.idle": "2022-07-27T16:02:23.344269Z",
     "shell.execute_reply": "2022-07-27T16:02:23.343534Z"
    },
    "papermill": {
     "duration": 0.098341,
     "end_time": "2022-07-27T16:02:23.345678",
     "exception": false,
     "start_time": "2022-07-27T16:02:23.247337",
     "status": "completed"
    },
    "tags": []
   },
   "outputs": [
    {
     "data": {
      "text/html": [
       "<div>\n",
       "<style scoped>\n",
       "    .dataframe tbody tr th:only-of-type {\n",
       "        vertical-align: middle;\n",
       "    }\n",
       "\n",
       "    .dataframe tbody tr th {\n",
       "        vertical-align: top;\n",
       "    }\n",
       "\n",
       "    .dataframe thead th {\n",
       "        text-align: right;\n",
       "    }\n",
       "</style>\n",
       "<table border=\"1\" class=\"dataframe\">\n",
       "  <thead>\n",
       "    <tr style=\"text-align: right;\">\n",
       "      <th></th>\n",
       "      <th>R Squared Score</th>\n",
       "      <th>MAPE Score</th>\n",
       "      <th>MAE Score</th>\n",
       "      <th>Model Score</th>\n",
       "    </tr>\n",
       "  </thead>\n",
       "  <tbody>\n",
       "    <tr>\n",
       "      <th>Decision Tree Regressor</th>\n",
       "      <td>0.658159</td>\n",
       "      <td>32.278396</td>\n",
       "      <td>2.603046</td>\n",
       "      <td>0.658159</td>\n",
       "    </tr>\n",
       "    <tr>\n",
       "      <th>Linear Regression</th>\n",
       "      <td>0.384305</td>\n",
       "      <td>48.856114</td>\n",
       "      <td>3.946457</td>\n",
       "      <td>0.384305</td>\n",
       "    </tr>\n",
       "  </tbody>\n",
       "</table>\n",
       "</div>"
      ],
      "text/plain": [
       "                         R Squared Score  MAPE Score  MAE Score  Model Score\n",
       "Decision Tree Regressor         0.658159   32.278396   2.603046     0.658159\n",
       "Linear Regression               0.384305   48.856114   3.946457     0.384305"
      ]
     },
     "execution_count": 40,
     "metadata": {},
     "output_type": "execute_result"
    }
   ],
   "source": [
    "resultsDT_train = pd.DataFrame({'R Squared Score': DT_R2_train,\n",
    "                          'MAPE Score':DT_MAPE_train,\n",
    "                            'MAE Score':DT_MAE_train,\n",
    "                         'Model Score':DT_model_score_train}\n",
    "                           ,index=['Decision Tree Regressor'])\n",
    "\n",
    "results2_train = pd.concat([resultsDT_train,resultsLR_train])\n",
    "\n",
    "results2_train"
   ]
  },
  {
   "cell_type": "code",
   "execution_count": 41,
   "id": "b9dcfdcc",
   "metadata": {
    "execution": {
     "iopub.execute_input": "2022-07-27T16:02:23.516893Z",
     "iopub.status.busy": "2022-07-27T16:02:23.516468Z",
     "iopub.status.idle": "2022-07-27T16:02:23.529042Z",
     "shell.execute_reply": "2022-07-27T16:02:23.528374Z"
    },
    "papermill": {
     "duration": 0.103184,
     "end_time": "2022-07-27T16:02:23.531008",
     "exception": false,
     "start_time": "2022-07-27T16:02:23.427824",
     "status": "completed"
    },
    "tags": []
   },
   "outputs": [
    {
     "data": {
      "text/html": [
       "<div>\n",
       "<style scoped>\n",
       "    .dataframe tbody tr th:only-of-type {\n",
       "        vertical-align: middle;\n",
       "    }\n",
       "\n",
       "    .dataframe tbody tr th {\n",
       "        vertical-align: top;\n",
       "    }\n",
       "\n",
       "    .dataframe thead th {\n",
       "        text-align: right;\n",
       "    }\n",
       "</style>\n",
       "<table border=\"1\" class=\"dataframe\">\n",
       "  <thead>\n",
       "    <tr style=\"text-align: right;\">\n",
       "      <th></th>\n",
       "      <th>R Squared Score</th>\n",
       "      <th>MAPE Score</th>\n",
       "      <th>MAE Score</th>\n",
       "      <th>Model Score</th>\n",
       "    </tr>\n",
       "  </thead>\n",
       "  <tbody>\n",
       "    <tr>\n",
       "      <th>Decision Tree Regressor</th>\n",
       "      <td>0.657306</td>\n",
       "      <td>34.667634</td>\n",
       "      <td>2.609034</td>\n",
       "      <td>0.657306</td>\n",
       "    </tr>\n",
       "    <tr>\n",
       "      <th>Linear Regression</th>\n",
       "      <td>0.382337</td>\n",
       "      <td>51.709912</td>\n",
       "      <td>3.954509</td>\n",
       "      <td>0.382337</td>\n",
       "    </tr>\n",
       "  </tbody>\n",
       "</table>\n",
       "</div>"
      ],
      "text/plain": [
       "                         R Squared Score  MAPE Score  MAE Score  Model Score\n",
       "Decision Tree Regressor         0.657306   34.667634   2.609034     0.657306\n",
       "Linear Regression               0.382337   51.709912   3.954509     0.382337"
      ]
     },
     "execution_count": 41,
     "metadata": {},
     "output_type": "execute_result"
    }
   ],
   "source": [
    "resultsDT_test = pd.DataFrame({'R Squared Score': DT_R2_test,\n",
    "                          'MAPE Score':DT_MAPE_test,\n",
    "                            'MAE Score':DT_MAE_test,\n",
    "                         'Model Score':DT_model_score_test}\n",
    "                           ,index=['Decision Tree Regressor'])\n",
    "\n",
    "results2_test = pd.concat([resultsDT_test,resultsLR_test])\n",
    "\n",
    "results2_test"
   ]
  },
  {
   "cell_type": "markdown",
   "id": "c9b914d9",
   "metadata": {
    "papermill": {
     "duration": 0.131482,
     "end_time": "2022-07-27T16:02:23.794154",
     "exception": false,
     "start_time": "2022-07-27T16:02:23.662672",
     "status": "completed"
    },
    "tags": []
   },
   "source": [
    "**Random Forest**"
   ]
  },
  {
   "cell_type": "code",
   "execution_count": 42,
   "id": "f076905c",
   "metadata": {
    "execution": {
     "iopub.execute_input": "2022-07-27T16:02:24.069817Z",
     "iopub.status.busy": "2022-07-27T16:02:24.069537Z",
     "iopub.status.idle": "2022-07-27T16:02:24.074710Z",
     "shell.execute_reply": "2022-07-27T16:02:24.074039Z"
    },
    "papermill": {
     "duration": 0.151274,
     "end_time": "2022-07-27T16:02:24.076862",
     "exception": false,
     "start_time": "2022-07-27T16:02:23.925588",
     "status": "completed"
    },
    "tags": []
   },
   "outputs": [
    {
     "data": {
      "text/plain": [
       "'RF_model=RandomForestRegressor(n_estimators = 501, random_state=0)\\nRF_model.fit(X_train, Y_train)'"
      ]
     },
     "execution_count": 42,
     "metadata": {},
     "output_type": "execute_result"
    }
   ],
   "source": [
    "'''RF_model=RandomForestRegressor(n_estimators = 501, random_state=0)\n",
    "RF_model.fit(X_train, Y_train)'''"
   ]
  },
  {
   "cell_type": "code",
   "execution_count": 43,
   "id": "b02fb319",
   "metadata": {
    "execution": {
     "iopub.execute_input": "2022-07-27T16:02:24.341511Z",
     "iopub.status.busy": "2022-07-27T16:02:24.341286Z",
     "iopub.status.idle": "2022-07-27T16:02:24.344843Z",
     "shell.execute_reply": "2022-07-27T16:02:24.344086Z"
    },
    "papermill": {
     "duration": 0.138448,
     "end_time": "2022-07-27T16:02:24.346700",
     "exception": false,
     "start_time": "2022-07-27T16:02:24.208252",
     "status": "completed"
    },
    "tags": []
   },
   "outputs": [],
   "source": [
    "#RF_train_pred = RF_model.predict(X_train)\n",
    "#RF_test_pred = RF_model.predict(X_test)"
   ]
  },
  {
   "cell_type": "code",
   "execution_count": 44,
   "id": "dff50760",
   "metadata": {
    "execution": {
     "iopub.execute_input": "2022-07-27T16:02:24.613518Z",
     "iopub.status.busy": "2022-07-27T16:02:24.612905Z",
     "iopub.status.idle": "2022-07-27T16:02:24.617853Z",
     "shell.execute_reply": "2022-07-27T16:02:24.617083Z"
    },
    "papermill": {
     "duration": 0.140979,
     "end_time": "2022-07-27T16:02:24.619636",
     "exception": false,
     "start_time": "2022-07-27T16:02:24.478657",
     "status": "completed"
    },
    "tags": []
   },
   "outputs": [
    {
     "data": {
      "text/plain": [
       "'RF_R2_train = r2_score(Y_train,RF_train_predict)\\nRF_R2_test = r2_score(Y_test,RF_test_predict)\\n\\nRF_MAPE_train = mape(Y_train,RF_train_predict)\\nRF_MAPE_test = mape(Y_test,RF_test_predict)\\n\\nRF_MAE_test = mean_absolute_error(Y_test,RF_test_predict)\\nRF_MAE_train = mean_absolute_error(Y_train,RF_train_predict)'"
      ]
     },
     "execution_count": 44,
     "metadata": {},
     "output_type": "execute_result"
    }
   ],
   "source": [
    "'''RF_R2_train = r2_score(Y_train,RF_train_predict)\n",
    "RF_R2_test = r2_score(Y_test,RF_test_predict)\n",
    "\n",
    "RF_MAPE_train = mape(Y_train,RF_train_predict)\n",
    "RF_MAPE_test = mape(Y_test,RF_test_predict)\n",
    "\n",
    "RF_MAE_test = mean_absolute_error(Y_test,RF_test_predict)\n",
    "RF_MAE_train = mean_absolute_error(Y_train,RF_train_predict)'''"
   ]
  },
  {
   "cell_type": "code",
   "execution_count": 45,
   "id": "314840b9",
   "metadata": {
    "execution": {
     "iopub.execute_input": "2022-07-27T16:02:24.886444Z",
     "iopub.status.busy": "2022-07-27T16:02:24.886048Z",
     "iopub.status.idle": "2022-07-27T16:02:24.890272Z",
     "shell.execute_reply": "2022-07-27T16:02:24.889797Z"
    },
    "papermill": {
     "duration": 0.139735,
     "end_time": "2022-07-27T16:02:24.891939",
     "exception": false,
     "start_time": "2022-07-27T16:02:24.752204",
     "status": "completed"
    },
    "tags": []
   },
   "outputs": [
    {
     "data": {
      "text/plain": [
       "'print(\"train r2_score : \",RF_R2_train)\\nprint(\"test r2_score : \",RF_R2_test)\\n\\n\\nprint(\"train mape score : \",RF_MAPE_train)\\nprint(\"test mape score : \",RF_MAPE_test)\\n\\nprint(\"train MAE score :\",RF_MAE_train)\\nprint(\"test MAE score :\",RF_MAE_test)'"
      ]
     },
     "execution_count": 45,
     "metadata": {},
     "output_type": "execute_result"
    }
   ],
   "source": [
    "'''print(\"train r2_score : \",RF_R2_train)\n",
    "print(\"test r2_score : \",RF_R2_test)\n",
    "\n",
    "\n",
    "print(\"train mape score : \",RF_MAPE_train)\n",
    "print(\"test mape score : \",RF_MAPE_test)\n",
    "\n",
    "print(\"train MAE score :\",RF_MAE_train)\n",
    "print(\"test MAE score :\",RF_MAE_test)'''"
   ]
  },
  {
   "cell_type": "markdown",
   "id": "f2992c50",
   "metadata": {
    "papermill": {
     "duration": 0.133002,
     "end_time": "2022-07-27T16:02:25.159339",
     "exception": false,
     "start_time": "2022-07-27T16:02:25.026337",
     "status": "completed"
    },
    "tags": []
   },
   "source": [
    "**XGBoost Regressor**"
   ]
  },
  {
   "cell_type": "code",
   "execution_count": 46,
   "id": "4f859fcb",
   "metadata": {
    "execution": {
     "iopub.execute_input": "2022-07-27T16:02:25.425927Z",
     "iopub.status.busy": "2022-07-27T16:02:25.425689Z",
     "iopub.status.idle": "2022-07-27T16:07:42.577346Z",
     "shell.execute_reply": "2022-07-27T16:07:42.576813Z"
    },
    "papermill": {
     "duration": 317.421052,
     "end_time": "2022-07-27T16:07:42.712999",
     "exception": false,
     "start_time": "2022-07-27T16:02:25.291947",
     "status": "completed"
    },
    "tags": []
   },
   "outputs": [
    {
     "data": {
      "text/plain": [
       "XGBRegressor(base_score=0.5, booster='gbtree', colsample_bylevel=1,\n",
       "             colsample_bynode=1, colsample_bytree=1, enable_categorical=False,\n",
       "             gamma=0, gpu_id=-1, importance_type=None,\n",
       "             interaction_constraints='', learning_rate=0.300000012,\n",
       "             max_delta_step=0, max_depth=6, min_child_weight=1, missing=nan,\n",
       "             monotone_constraints='()', n_estimators=100, n_jobs=4,\n",
       "             num_parallel_tree=1, predictor='auto', random_state=0, reg_alpha=0,\n",
       "             reg_lambda=1, scale_pos_weight=1, subsample=1,\n",
       "             tree_method='approx', validate_parameters=1, verbosity=None)"
      ]
     },
     "execution_count": 46,
     "metadata": {},
     "output_type": "execute_result"
    }
   ],
   "source": [
    "XGB_model = XGBRegressor()\n",
    "XGB_model.fit(X_train, Y_train)"
   ]
  },
  {
   "cell_type": "code",
   "execution_count": 47,
   "id": "23236649",
   "metadata": {
    "execution": {
     "iopub.execute_input": "2022-07-27T16:07:42.985986Z",
     "iopub.status.busy": "2022-07-27T16:07:42.985572Z",
     "iopub.status.idle": "2022-07-27T16:07:47.547414Z",
     "shell.execute_reply": "2022-07-27T16:07:47.546784Z"
    },
    "papermill": {
     "duration": 4.703421,
     "end_time": "2022-07-27T16:07:47.549182",
     "exception": false,
     "start_time": "2022-07-27T16:07:42.845761",
     "status": "completed"
    },
    "tags": []
   },
   "outputs": [],
   "source": [
    "XGB_pred_test = XGB_model.predict(X_test)\n",
    "XGB_pred_train = XGB_model.predict(X_train)"
   ]
  },
  {
   "cell_type": "code",
   "execution_count": 48,
   "id": "505b64e6",
   "metadata": {
    "execution": {
     "iopub.execute_input": "2022-07-27T16:07:47.723433Z",
     "iopub.status.busy": "2022-07-27T16:07:47.722644Z",
     "iopub.status.idle": "2022-07-27T16:07:47.811864Z",
     "shell.execute_reply": "2022-07-27T16:07:47.811377Z"
    },
    "papermill": {
     "duration": 0.178067,
     "end_time": "2022-07-27T16:07:47.813634",
     "exception": false,
     "start_time": "2022-07-27T16:07:47.635567",
     "status": "completed"
    },
    "tags": []
   },
   "outputs": [],
   "source": [
    "XGB_MAPE_test = mean_absolute_error(Y_test,XGB_pred_test)\n",
    "XGB_MAPE_train = mean_absolute_error(Y_train,XGB_pred_train)\n",
    "\n",
    "XGB_R2_train = r2_score(Y_train,XGB_pred_train)\n",
    "XGB_R2_test = r2_score(Y_test,XGB_pred_test)\n",
    "\n",
    "XGB_MAE_test = mean_absolute_error(Y_test,XGB_pred_test)\n",
    "XGB_MAE_train = mean_absolute_error(Y_train,XGB_pred_train)"
   ]
  },
  {
   "cell_type": "code",
   "execution_count": 49,
   "id": "2b7630aa",
   "metadata": {
    "execution": {
     "iopub.execute_input": "2022-07-27T16:07:47.984485Z",
     "iopub.status.busy": "2022-07-27T16:07:47.984235Z",
     "iopub.status.idle": "2022-07-27T16:07:47.990417Z",
     "shell.execute_reply": "2022-07-27T16:07:47.989317Z"
    },
    "papermill": {
     "duration": 0.094376,
     "end_time": "2022-07-27T16:07:47.992268",
     "exception": false,
     "start_time": "2022-07-27T16:07:47.897892",
     "status": "completed"
    },
    "tags": []
   },
   "outputs": [
    {
     "name": "stdout",
     "output_type": "stream",
     "text": [
      "train r2_score :  0.7402143476833369\n",
      "test r2_score :  0.7385453714793443\n",
      "train mape score :  2.1290010083623336\n",
      "test mape score :  2.1369924502317774\n",
      "train MAE score : 2.1290010083623336\n",
      "test MAE score : 2.1369924502317774\n"
     ]
    }
   ],
   "source": [
    "print(\"train r2_score : \",XGB_R2_train)\n",
    "print(\"test r2_score : \",XGB_R2_test)\n",
    "\n",
    "\n",
    "print(\"train mape score : \",XGB_MAPE_train)\n",
    "print(\"test mape score : \",XGB_MAPE_test)\n",
    "\n",
    "print(\"train MAE score :\",XGB_MAE_train)\n",
    "print(\"test MAE score :\",XGB_MAE_test)"
   ]
  },
  {
   "cell_type": "code",
   "execution_count": 50,
   "id": "601abbba",
   "metadata": {
    "execution": {
     "iopub.execute_input": "2022-07-27T16:07:48.180974Z",
     "iopub.status.busy": "2022-07-27T16:07:48.180346Z",
     "iopub.status.idle": "2022-07-27T16:07:52.778083Z",
     "shell.execute_reply": "2022-07-27T16:07:52.777162Z"
    },
    "papermill": {
     "duration": 4.685298,
     "end_time": "2022-07-27T16:07:52.780120",
     "exception": false,
     "start_time": "2022-07-27T16:07:48.094822",
     "status": "completed"
    },
    "tags": []
   },
   "outputs": [
    {
     "name": "stdout",
     "output_type": "stream",
     "text": [
      "0.7402143476833369 0.7385453714793443\n"
     ]
    }
   ],
   "source": [
    "XGB_model_score_test = XGB_model.score(X_test,Y_test)\n",
    "XGB_model_score_train = XGB_model.score(X_train,Y_train)\n",
    "print(XGB_model_score_train,XGB_model_score_test)"
   ]
  },
  {
   "cell_type": "code",
   "execution_count": 51,
   "id": "7b7730ea",
   "metadata": {
    "execution": {
     "iopub.execute_input": "2022-07-27T16:07:53.037668Z",
     "iopub.status.busy": "2022-07-27T16:07:53.036737Z",
     "iopub.status.idle": "2022-07-27T16:07:53.047504Z",
     "shell.execute_reply": "2022-07-27T16:07:53.047083Z"
    },
    "papermill": {
     "duration": 0.130856,
     "end_time": "2022-07-27T16:07:53.048905",
     "exception": false,
     "start_time": "2022-07-27T16:07:52.918049",
     "status": "completed"
    },
    "tags": []
   },
   "outputs": [
    {
     "data": {
      "text/html": [
       "<div>\n",
       "<style scoped>\n",
       "    .dataframe tbody tr th:only-of-type {\n",
       "        vertical-align: middle;\n",
       "    }\n",
       "\n",
       "    .dataframe tbody tr th {\n",
       "        vertical-align: top;\n",
       "    }\n",
       "\n",
       "    .dataframe thead th {\n",
       "        text-align: right;\n",
       "    }\n",
       "</style>\n",
       "<table border=\"1\" class=\"dataframe\">\n",
       "  <thead>\n",
       "    <tr style=\"text-align: right;\">\n",
       "      <th></th>\n",
       "      <th>R Squared Score</th>\n",
       "      <th>MAPE Score</th>\n",
       "      <th>MAE Score</th>\n",
       "      <th>Model Score</th>\n",
       "    </tr>\n",
       "  </thead>\n",
       "  <tbody>\n",
       "    <tr>\n",
       "      <th>Linear Regression</th>\n",
       "      <td>0.384305</td>\n",
       "      <td>48.856114</td>\n",
       "      <td>3.946457</td>\n",
       "      <td>0.384305</td>\n",
       "    </tr>\n",
       "    <tr>\n",
       "      <th>Decision Tree Regressor</th>\n",
       "      <td>0.658159</td>\n",
       "      <td>32.278396</td>\n",
       "      <td>2.603046</td>\n",
       "      <td>0.658159</td>\n",
       "    </tr>\n",
       "    <tr>\n",
       "      <th>XGBoost Regressor</th>\n",
       "      <td>0.740214</td>\n",
       "      <td>2.129001</td>\n",
       "      <td>2.129001</td>\n",
       "      <td>0.740214</td>\n",
       "    </tr>\n",
       "  </tbody>\n",
       "</table>\n",
       "</div>"
      ],
      "text/plain": [
       "                         R Squared Score  MAPE Score  MAE Score  Model Score\n",
       "Linear Regression               0.384305   48.856114   3.946457     0.384305\n",
       "Decision Tree Regressor         0.658159   32.278396   2.603046     0.658159\n",
       "XGBoost Regressor               0.740214    2.129001   2.129001     0.740214"
      ]
     },
     "execution_count": 51,
     "metadata": {},
     "output_type": "execute_result"
    }
   ],
   "source": [
    "resultsXGB_train = pd.DataFrame({'R Squared Score': XGB_R2_train,\n",
    "                          'MAPE Score':XGB_MAPE_train,\n",
    "                            'MAE Score':XGB_MAE_train,\n",
    "                         'Model Score':XGB_model_score_train}\n",
    "                           ,index=['XGBoost Regressor'])\n",
    "\n",
    "results2_train = pd.concat([resultsLR_train,resultsDT_train,resultsXGB_train])\n",
    "\n",
    "results2_train"
   ]
  },
  {
   "cell_type": "code",
   "execution_count": 52,
   "id": "013ef3d8",
   "metadata": {
    "execution": {
     "iopub.execute_input": "2022-07-27T16:07:53.223256Z",
     "iopub.status.busy": "2022-07-27T16:07:53.222332Z",
     "iopub.status.idle": "2022-07-27T16:07:53.235837Z",
     "shell.execute_reply": "2022-07-27T16:07:53.235150Z"
    },
    "papermill": {
     "duration": 0.102295,
     "end_time": "2022-07-27T16:07:53.237573",
     "exception": false,
     "start_time": "2022-07-27T16:07:53.135278",
     "status": "completed"
    },
    "tags": []
   },
   "outputs": [
    {
     "data": {
      "text/html": [
       "<div>\n",
       "<style scoped>\n",
       "    .dataframe tbody tr th:only-of-type {\n",
       "        vertical-align: middle;\n",
       "    }\n",
       "\n",
       "    .dataframe tbody tr th {\n",
       "        vertical-align: top;\n",
       "    }\n",
       "\n",
       "    .dataframe thead th {\n",
       "        text-align: right;\n",
       "    }\n",
       "</style>\n",
       "<table border=\"1\" class=\"dataframe\">\n",
       "  <thead>\n",
       "    <tr style=\"text-align: right;\">\n",
       "      <th></th>\n",
       "      <th>R Squared Score</th>\n",
       "      <th>MAPE Score</th>\n",
       "      <th>MAE Score</th>\n",
       "      <th>Model Score</th>\n",
       "    </tr>\n",
       "  </thead>\n",
       "  <tbody>\n",
       "    <tr>\n",
       "      <th>Linear Regression</th>\n",
       "      <td>0.382337</td>\n",
       "      <td>51.709912</td>\n",
       "      <td>3.954509</td>\n",
       "      <td>0.382337</td>\n",
       "    </tr>\n",
       "    <tr>\n",
       "      <th>Decision Tree Regressor</th>\n",
       "      <td>0.657306</td>\n",
       "      <td>34.667634</td>\n",
       "      <td>2.609034</td>\n",
       "      <td>0.657306</td>\n",
       "    </tr>\n",
       "    <tr>\n",
       "      <th>XGBoost Regressor</th>\n",
       "      <td>0.738545</td>\n",
       "      <td>2.136992</td>\n",
       "      <td>2.136992</td>\n",
       "      <td>0.738545</td>\n",
       "    </tr>\n",
       "  </tbody>\n",
       "</table>\n",
       "</div>"
      ],
      "text/plain": [
       "                         R Squared Score  MAPE Score  MAE Score  Model Score\n",
       "Linear Regression               0.382337   51.709912   3.954509     0.382337\n",
       "Decision Tree Regressor         0.657306   34.667634   2.609034     0.657306\n",
       "XGBoost Regressor               0.738545    2.136992   2.136992     0.738545"
      ]
     },
     "execution_count": 52,
     "metadata": {},
     "output_type": "execute_result"
    }
   ],
   "source": [
    "resultsXGB_test = pd.DataFrame({'R Squared Score': XGB_R2_test,\n",
    "                          'MAPE Score':XGB_MAPE_test,\n",
    "                            'MAE Score':XGB_MAE_test,\n",
    "                         'Model Score':XGB_model_score_test}\n",
    "                           ,index=['XGBoost Regressor'])\n",
    "\n",
    "results2_test = pd.concat([resultsLR_test,resultsDT_test,resultsXGB_test])\n",
    "\n",
    "results2_test"
   ]
  },
  {
   "cell_type": "markdown",
   "id": "eb918956",
   "metadata": {
    "papermill": {
     "duration": 0.134659,
     "end_time": "2022-07-27T16:07:53.507891",
     "exception": false,
     "start_time": "2022-07-27T16:07:53.373232",
     "status": "completed"
    },
    "tags": []
   },
   "source": [
    "**Light Gradient Boosted Machine regressor (LGBM Regressor)**"
   ]
  },
  {
   "cell_type": "code",
   "execution_count": 53,
   "id": "e5baa7a7",
   "metadata": {
    "execution": {
     "iopub.execute_input": "2022-07-27T16:07:53.781449Z",
     "iopub.status.busy": "2022-07-27T16:07:53.780527Z",
     "iopub.status.idle": "2022-07-27T16:07:53.784812Z",
     "shell.execute_reply": "2022-07-27T16:07:53.784391Z"
    },
    "papermill": {
     "duration": 0.143563,
     "end_time": "2022-07-27T16:07:53.786588",
     "exception": false,
     "start_time": "2022-07-27T16:07:53.643025",
     "status": "completed"
    },
    "tags": []
   },
   "outputs": [],
   "source": [
    "import lightgbm as lgb\n",
    "lgb = make_pipeline(StandardScaler(),lgb.LGBMRegressor(learning_rate = 0.01,n_estimators = 600))"
   ]
  },
  {
   "cell_type": "code",
   "execution_count": 54,
   "id": "111248be",
   "metadata": {
    "execution": {
     "iopub.execute_input": "2022-07-27T16:07:53.971589Z",
     "iopub.status.busy": "2022-07-27T16:07:53.971320Z",
     "iopub.status.idle": "2022-07-27T16:09:40.531517Z",
     "shell.execute_reply": "2022-07-27T16:09:40.530808Z"
    },
    "papermill": {
     "duration": 106.736814,
     "end_time": "2022-07-27T16:09:40.620515",
     "exception": false,
     "start_time": "2022-07-27T16:07:53.883701",
     "status": "completed"
    },
    "tags": []
   },
   "outputs": [
    {
     "data": {
      "text/plain": [
       "Pipeline(steps=[('standardscaler', StandardScaler()),\n",
       "                ('lgbmregressor',\n",
       "                 LGBMRegressor(learning_rate=0.01, n_estimators=600))])"
      ]
     },
     "execution_count": 54,
     "metadata": {},
     "output_type": "execute_result"
    }
   ],
   "source": [
    "lgb.fit(X_train,Y_train)"
   ]
  },
  {
   "cell_type": "code",
   "execution_count": 55,
   "id": "a9d098e8",
   "metadata": {
    "execution": {
     "iopub.execute_input": "2022-07-27T16:09:40.793364Z",
     "iopub.status.busy": "2022-07-27T16:09:40.793099Z",
     "iopub.status.idle": "2022-07-27T16:10:36.529471Z",
     "shell.execute_reply": "2022-07-27T16:10:36.528888Z"
    },
    "papermill": {
     "duration": 55.826191,
     "end_time": "2022-07-27T16:10:36.531621",
     "exception": false,
     "start_time": "2022-07-27T16:09:40.705430",
     "status": "completed"
    },
    "tags": []
   },
   "outputs": [],
   "source": [
    "lgb_pred_test = lgb.predict(X_test)\n",
    "lgb_pred_train = lgb.predict(X_train)"
   ]
  },
  {
   "cell_type": "code",
   "execution_count": 56,
   "id": "dd028f28",
   "metadata": {
    "execution": {
     "iopub.execute_input": "2022-07-27T16:10:36.707823Z",
     "iopub.status.busy": "2022-07-27T16:10:36.706961Z",
     "iopub.status.idle": "2022-07-27T16:10:36.787779Z",
     "shell.execute_reply": "2022-07-27T16:10:36.787269Z"
    },
    "papermill": {
     "duration": 0.169421,
     "end_time": "2022-07-27T16:10:36.789299",
     "exception": false,
     "start_time": "2022-07-27T16:10:36.619878",
     "status": "completed"
    },
    "tags": []
   },
   "outputs": [],
   "source": [
    "lgb_MAPE_test = mean_absolute_error(Y_test,lgb_pred_test)\n",
    "lgb_MAPE_train = mean_absolute_error(Y_train,lgb_pred_train)\n",
    "\n",
    "lgb_R2_train = r2_score(Y_train,lgb_pred_train)\n",
    "lgb_R2_test = r2_score(Y_test,lgb_pred_test)\n",
    "\n",
    "lgb_MAE_test = mean_absolute_error(Y_test,lgb_pred_test)\n",
    "lgb_MAE_train = mean_absolute_error(Y_train,lgb_pred_train)"
   ]
  },
  {
   "cell_type": "code",
   "execution_count": 57,
   "id": "16427a7f",
   "metadata": {
    "execution": {
     "iopub.execute_input": "2022-07-27T16:10:36.961900Z",
     "iopub.status.busy": "2022-07-27T16:10:36.961582Z",
     "iopub.status.idle": "2022-07-27T16:10:36.966672Z",
     "shell.execute_reply": "2022-07-27T16:10:36.965924Z"
    },
    "papermill": {
     "duration": 0.092674,
     "end_time": "2022-07-27T16:10:36.968019",
     "exception": false,
     "start_time": "2022-07-27T16:10:36.875345",
     "status": "completed"
    },
    "tags": []
   },
   "outputs": [
    {
     "name": "stdout",
     "output_type": "stream",
     "text": [
      "train r2_score :  0.7416235586617452\n",
      "test r2_score :  0.740330679371344\n",
      "train mape score :  2.158004146586652\n",
      "test mape score :  2.1647655530486585\n",
      "train MAE score : 2.158004146586652\n",
      "test MAE score : 2.1647655530486585\n"
     ]
    }
   ],
   "source": [
    "print(\"train r2_score : \",lgb_R2_train)\n",
    "print(\"test r2_score : \",lgb_R2_test)\n",
    "\n",
    "\n",
    "print(\"train mape score : \",lgb_MAPE_train)\n",
    "print(\"test mape score : \",lgb_MAPE_test)\n",
    "\n",
    "print(\"train MAE score :\",lgb_MAE_train)\n",
    "print(\"test MAE score :\",lgb_MAE_test)"
   ]
  },
  {
   "cell_type": "code",
   "execution_count": 58,
   "id": "66bd00c2",
   "metadata": {
    "execution": {
     "iopub.execute_input": "2022-07-27T16:10:37.142689Z",
     "iopub.status.busy": "2022-07-27T16:10:37.142429Z",
     "iopub.status.idle": "2022-07-27T16:11:32.455771Z",
     "shell.execute_reply": "2022-07-27T16:11:32.454842Z"
    },
    "papermill": {
     "duration": 55.487922,
     "end_time": "2022-07-27T16:11:32.541556",
     "exception": false,
     "start_time": "2022-07-27T16:10:37.053634",
     "status": "completed"
    },
    "tags": []
   },
   "outputs": [
    {
     "name": "stdout",
     "output_type": "stream",
     "text": [
      "0.7416235586617452 0.740330679371344\n"
     ]
    }
   ],
   "source": [
    "lgb_model_score_test = lgb.score(X_test, Y_test)\n",
    "lgb_model_score_train = lgb.score(X_train, Y_train)\n",
    "print(lgb_model_score_train,lgb_model_score_test)"
   ]
  },
  {
   "cell_type": "code",
   "execution_count": 59,
   "id": "730e7b9c",
   "metadata": {
    "execution": {
     "iopub.execute_input": "2022-07-27T16:11:32.720621Z",
     "iopub.status.busy": "2022-07-27T16:11:32.720278Z",
     "iopub.status.idle": "2022-07-27T16:11:32.733738Z",
     "shell.execute_reply": "2022-07-27T16:11:32.733322Z"
    },
    "papermill": {
     "duration": 0.105953,
     "end_time": "2022-07-27T16:11:32.735783",
     "exception": false,
     "start_time": "2022-07-27T16:11:32.629830",
     "status": "completed"
    },
    "tags": []
   },
   "outputs": [
    {
     "data": {
      "text/html": [
       "<div>\n",
       "<style scoped>\n",
       "    .dataframe tbody tr th:only-of-type {\n",
       "        vertical-align: middle;\n",
       "    }\n",
       "\n",
       "    .dataframe tbody tr th {\n",
       "        vertical-align: top;\n",
       "    }\n",
       "\n",
       "    .dataframe thead th {\n",
       "        text-align: right;\n",
       "    }\n",
       "</style>\n",
       "<table border=\"1\" class=\"dataframe\">\n",
       "  <thead>\n",
       "    <tr style=\"text-align: right;\">\n",
       "      <th></th>\n",
       "      <th>R Squared Score</th>\n",
       "      <th>MAPE Score</th>\n",
       "      <th>MAE Score</th>\n",
       "      <th>Model Score</th>\n",
       "    </tr>\n",
       "  </thead>\n",
       "  <tbody>\n",
       "    <tr>\n",
       "      <th>Linear Regression</th>\n",
       "      <td>0.384305</td>\n",
       "      <td>48.856114</td>\n",
       "      <td>3.946457</td>\n",
       "      <td>0.384305</td>\n",
       "    </tr>\n",
       "    <tr>\n",
       "      <th>Decision Tree Regressor</th>\n",
       "      <td>0.658159</td>\n",
       "      <td>32.278396</td>\n",
       "      <td>2.603046</td>\n",
       "      <td>0.658159</td>\n",
       "    </tr>\n",
       "    <tr>\n",
       "      <th>XGBoost Regressor</th>\n",
       "      <td>0.740214</td>\n",
       "      <td>2.129001</td>\n",
       "      <td>2.129001</td>\n",
       "      <td>0.740214</td>\n",
       "    </tr>\n",
       "    <tr>\n",
       "      <th>Light Gradient Boosted Machine</th>\n",
       "      <td>0.741624</td>\n",
       "      <td>2.158004</td>\n",
       "      <td>2.158004</td>\n",
       "      <td>0.741624</td>\n",
       "    </tr>\n",
       "  </tbody>\n",
       "</table>\n",
       "</div>"
      ],
      "text/plain": [
       "                                R Squared Score  MAPE Score  MAE Score  \\\n",
       "Linear Regression                      0.384305   48.856114   3.946457   \n",
       "Decision Tree Regressor                0.658159   32.278396   2.603046   \n",
       "XGBoost Regressor                      0.740214    2.129001   2.129001   \n",
       "Light Gradient Boosted Machine         0.741624    2.158004   2.158004   \n",
       "\n",
       "                                Model Score  \n",
       "Linear Regression                  0.384305  \n",
       "Decision Tree Regressor            0.658159  \n",
       "XGBoost Regressor                  0.740214  \n",
       "Light Gradient Boosted Machine     0.741624  "
      ]
     },
     "execution_count": 59,
     "metadata": {},
     "output_type": "execute_result"
    }
   ],
   "source": [
    "resultsLGBMR_train = pd.DataFrame({'R Squared Score': lgb_R2_train,\n",
    "                          'MAPE Score':lgb_MAPE_train,\n",
    "                            'MAE Score':lgb_MAE_train,\n",
    "                         'Model Score':lgb_model_score_train}\n",
    "                           ,index=['Light Gradient Boosted Machine'])\n",
    "\n",
    "results3_train = pd.concat([resultsLR_train,resultsDT_train,resultsXGB_train,resultsLGBMR_train])\n",
    "\n",
    "results3_train"
   ]
  },
  {
   "cell_type": "code",
   "execution_count": 60,
   "id": "59437410",
   "metadata": {
    "execution": {
     "iopub.execute_input": "2022-07-27T16:11:33.132623Z",
     "iopub.status.busy": "2022-07-27T16:11:33.132092Z",
     "iopub.status.idle": "2022-07-27T16:11:33.168635Z",
     "shell.execute_reply": "2022-07-27T16:11:33.167519Z"
    },
    "papermill": {
     "duration": 0.322245,
     "end_time": "2022-07-27T16:11:33.172178",
     "exception": false,
     "start_time": "2022-07-27T16:11:32.849933",
     "status": "completed"
    },
    "tags": []
   },
   "outputs": [
    {
     "data": {
      "text/html": [
       "<div>\n",
       "<style scoped>\n",
       "    .dataframe tbody tr th:only-of-type {\n",
       "        vertical-align: middle;\n",
       "    }\n",
       "\n",
       "    .dataframe tbody tr th {\n",
       "        vertical-align: top;\n",
       "    }\n",
       "\n",
       "    .dataframe thead th {\n",
       "        text-align: right;\n",
       "    }\n",
       "</style>\n",
       "<table border=\"1\" class=\"dataframe\">\n",
       "  <thead>\n",
       "    <tr style=\"text-align: right;\">\n",
       "      <th></th>\n",
       "      <th>R Squared Score</th>\n",
       "      <th>MAPE Score</th>\n",
       "      <th>MAE Score</th>\n",
       "      <th>Model Score</th>\n",
       "    </tr>\n",
       "  </thead>\n",
       "  <tbody>\n",
       "    <tr>\n",
       "      <th>Linear Regression</th>\n",
       "      <td>0.382337</td>\n",
       "      <td>51.709912</td>\n",
       "      <td>3.954509</td>\n",
       "      <td>0.382337</td>\n",
       "    </tr>\n",
       "    <tr>\n",
       "      <th>Decision Tree Regressor</th>\n",
       "      <td>0.657306</td>\n",
       "      <td>34.667634</td>\n",
       "      <td>2.609034</td>\n",
       "      <td>0.657306</td>\n",
       "    </tr>\n",
       "    <tr>\n",
       "      <th>XGBoost Regressor</th>\n",
       "      <td>0.738545</td>\n",
       "      <td>2.136992</td>\n",
       "      <td>2.136992</td>\n",
       "      <td>0.738545</td>\n",
       "    </tr>\n",
       "    <tr>\n",
       "      <th>Light Gradient Boosted Machine</th>\n",
       "      <td>0.740331</td>\n",
       "      <td>2.164766</td>\n",
       "      <td>2.164766</td>\n",
       "      <td>0.740331</td>\n",
       "    </tr>\n",
       "  </tbody>\n",
       "</table>\n",
       "</div>"
      ],
      "text/plain": [
       "                                R Squared Score  MAPE Score  MAE Score  \\\n",
       "Linear Regression                      0.382337   51.709912   3.954509   \n",
       "Decision Tree Regressor                0.657306   34.667634   2.609034   \n",
       "XGBoost Regressor                      0.738545    2.136992   2.136992   \n",
       "Light Gradient Boosted Machine         0.740331    2.164766   2.164766   \n",
       "\n",
       "                                Model Score  \n",
       "Linear Regression                  0.382337  \n",
       "Decision Tree Regressor            0.657306  \n",
       "XGBoost Regressor                  0.738545  \n",
       "Light Gradient Boosted Machine     0.740331  "
      ]
     },
     "execution_count": 60,
     "metadata": {},
     "output_type": "execute_result"
    }
   ],
   "source": [
    "resultsLGBMR_test = pd.DataFrame({'R Squared Score': lgb_R2_test,\n",
    "                          'MAPE Score':lgb_MAPE_test,\n",
    "                            'MAE Score':lgb_MAE_test,\n",
    "                         'Model Score':lgb_model_score_test}\n",
    "                           ,index=['Light Gradient Boosted Machine'])\n",
    "\n",
    "results3_test = pd.concat([resultsLR_test,resultsDT_test,resultsXGB_test,resultsLGBMR_test])\n",
    "\n",
    "results3_test"
   ]
  },
  {
   "cell_type": "markdown",
   "id": "80b4de19",
   "metadata": {
    "papermill": {
     "duration": 0.296746,
     "end_time": "2022-07-27T16:11:33.765405",
     "exception": false,
     "start_time": "2022-07-27T16:11:33.468659",
     "status": "completed"
    },
    "tags": []
   },
   "source": [
    "**CatBoost Regressor**"
   ]
  },
  {
   "cell_type": "code",
   "execution_count": 61,
   "id": "4d0c3cb4",
   "metadata": {
    "execution": {
     "iopub.execute_input": "2022-07-27T16:11:33.980819Z",
     "iopub.status.busy": "2022-07-27T16:11:33.980296Z",
     "iopub.status.idle": "2022-07-27T16:19:13.322548Z",
     "shell.execute_reply": "2022-07-27T16:19:13.321599Z"
    },
    "papermill": {
     "duration": 459.451298,
     "end_time": "2022-07-27T16:19:13.324543",
     "exception": false,
     "start_time": "2022-07-27T16:11:33.873245",
     "status": "completed"
    },
    "tags": []
   },
   "outputs": [
    {
     "name": "stdout",
     "output_type": "stream",
     "text": [
      "0:\tlearn: 7.5813080\ttotal: 825ms\tremaining: 12m 21s\n",
      "1:\tlearn: 7.1223558\ttotal: 1.38s\tremaining: 10m 18s\n",
      "2:\tlearn: 6.7128979\ttotal: 1.91s\tremaining: 9m 31s\n",
      "3:\tlearn: 6.3575901\ttotal: 2.58s\tremaining: 9m 39s\n",
      "4:\tlearn: 6.0585822\ttotal: 3.19s\tremaining: 9m 31s\n",
      "5:\tlearn: 5.7990856\ttotal: 3.79s\tremaining: 9m 24s\n",
      "6:\tlearn: 5.5677793\ttotal: 4.33s\tremaining: 9m 13s\n",
      "7:\tlearn: 5.3701370\ttotal: 4.84s\tremaining: 8m 59s\n",
      "8:\tlearn: 5.2049695\ttotal: 5.33s\tremaining: 8m 48s\n",
      "9:\tlearn: 5.0606163\ttotal: 5.83s\tremaining: 8m 39s\n",
      "10:\tlearn: 4.9403205\ttotal: 6.33s\tremaining: 8m 31s\n",
      "11:\tlearn: 4.8390641\ttotal: 6.83s\tremaining: 8m 25s\n",
      "12:\tlearn: 4.7485741\ttotal: 7.41s\tremaining: 8m 25s\n",
      "13:\tlearn: 4.6738004\ttotal: 7.97s\tremaining: 8m 24s\n",
      "14:\tlearn: 4.6083828\ttotal: 8.47s\tremaining: 8m 19s\n",
      "15:\tlearn: 4.5520398\ttotal: 8.98s\tremaining: 8m 16s\n",
      "16:\tlearn: 4.5049548\ttotal: 9.48s\tremaining: 8m 12s\n",
      "17:\tlearn: 4.4637493\ttotal: 10s\tremaining: 8m 10s\n",
      "18:\tlearn: 4.4274024\ttotal: 10.5s\tremaining: 8m 7s\n",
      "19:\tlearn: 4.3971078\ttotal: 11s\tremaining: 8m 4s\n",
      "20:\tlearn: 4.3701345\ttotal: 11.5s\tremaining: 8m 2s\n",
      "21:\tlearn: 4.3474882\ttotal: 12s\tremaining: 7m 59s\n",
      "22:\tlearn: 4.3281701\ttotal: 12.5s\tremaining: 7m 57s\n",
      "23:\tlearn: 4.3103078\ttotal: 13s\tremaining: 7m 55s\n",
      "24:\tlearn: 4.2941166\ttotal: 13.5s\tremaining: 7m 53s\n",
      "25:\tlearn: 4.2810142\ttotal: 14s\tremaining: 7m 51s\n",
      "26:\tlearn: 4.2695496\ttotal: 14.5s\tremaining: 7m 49s\n",
      "27:\tlearn: 4.2596267\ttotal: 15s\tremaining: 7m 48s\n",
      "28:\tlearn: 4.2483509\ttotal: 15.5s\tremaining: 7m 46s\n",
      "29:\tlearn: 4.2399365\ttotal: 16s\tremaining: 7m 45s\n",
      "30:\tlearn: 4.2328128\ttotal: 16.5s\tremaining: 7m 43s\n",
      "31:\tlearn: 4.2252900\ttotal: 17s\tremaining: 7m 42s\n",
      "32:\tlearn: 4.2187217\ttotal: 17.5s\tremaining: 7m 41s\n",
      "33:\tlearn: 4.2130684\ttotal: 18s\tremaining: 7m 39s\n",
      "34:\tlearn: 4.2078871\ttotal: 18.6s\tremaining: 7m 38s\n",
      "35:\tlearn: 4.2027934\ttotal: 19.1s\tremaining: 7m 37s\n",
      "36:\tlearn: 4.1973353\ttotal: 19.6s\tremaining: 7m 36s\n",
      "37:\tlearn: 4.1938242\ttotal: 20.1s\tremaining: 7m 34s\n",
      "38:\tlearn: 4.1894618\ttotal: 20.6s\tremaining: 7m 34s\n",
      "39:\tlearn: 4.1854803\ttotal: 21.1s\tremaining: 7m 33s\n",
      "40:\tlearn: 4.1805823\ttotal: 21.6s\tremaining: 7m 32s\n",
      "41:\tlearn: 4.1768203\ttotal: 22.1s\tremaining: 7m 31s\n",
      "42:\tlearn: 4.1742013\ttotal: 22.6s\tremaining: 7m 30s\n",
      "43:\tlearn: 4.1710494\ttotal: 23.1s\tremaining: 7m 29s\n",
      "44:\tlearn: 4.1673192\ttotal: 23.6s\tremaining: 7m 28s\n",
      "45:\tlearn: 4.1652416\ttotal: 24.1s\tremaining: 7m 27s\n",
      "46:\tlearn: 4.1627997\ttotal: 24.6s\tremaining: 7m 26s\n",
      "47:\tlearn: 4.1600624\ttotal: 25.1s\tremaining: 7m 25s\n",
      "48:\tlearn: 4.1570038\ttotal: 25.6s\tremaining: 7m 24s\n",
      "49:\tlearn: 4.1544400\ttotal: 26.1s\tremaining: 7m 23s\n",
      "50:\tlearn: 4.1529538\ttotal: 26.6s\tremaining: 7m 22s\n",
      "51:\tlearn: 4.1507611\ttotal: 27.1s\tremaining: 7m 21s\n",
      "52:\tlearn: 4.1492266\ttotal: 27.6s\tremaining: 7m 20s\n",
      "53:\tlearn: 4.1472839\ttotal: 28.1s\tremaining: 7m 20s\n",
      "54:\tlearn: 4.1451657\ttotal: 28.6s\tremaining: 7m 19s\n",
      "55:\tlearn: 4.1422700\ttotal: 29.1s\tremaining: 7m 18s\n",
      "56:\tlearn: 4.1409534\ttotal: 29.6s\tremaining: 7m 18s\n",
      "57:\tlearn: 4.1392219\ttotal: 30.1s\tremaining: 7m 17s\n",
      "58:\tlearn: 4.1366881\ttotal: 30.6s\tremaining: 7m 16s\n",
      "59:\tlearn: 4.1345561\ttotal: 31.1s\tremaining: 7m 15s\n",
      "60:\tlearn: 4.1327777\ttotal: 31.6s\tremaining: 7m 15s\n",
      "61:\tlearn: 4.1313416\ttotal: 32.1s\tremaining: 7m 14s\n",
      "62:\tlearn: 4.1295955\ttotal: 32.7s\tremaining: 7m 13s\n",
      "63:\tlearn: 4.1273488\ttotal: 33.2s\tremaining: 7m 13s\n",
      "64:\tlearn: 4.1255043\ttotal: 33.7s\tremaining: 7m 12s\n",
      "65:\tlearn: 4.1243125\ttotal: 34.2s\tremaining: 7m 11s\n",
      "66:\tlearn: 4.1224296\ttotal: 34.7s\tremaining: 7m 11s\n",
      "67:\tlearn: 4.1203810\ttotal: 35.2s\tremaining: 7m 10s\n",
      "68:\tlearn: 4.1177920\ttotal: 35.7s\tremaining: 7m 9s\n",
      "69:\tlearn: 4.1167890\ttotal: 36.2s\tremaining: 7m 8s\n",
      "70:\tlearn: 4.1146995\ttotal: 36.7s\tremaining: 7m 8s\n",
      "71:\tlearn: 4.1125616\ttotal: 37.2s\tremaining: 7m 7s\n",
      "72:\tlearn: 4.1117460\ttotal: 37.7s\tremaining: 7m 6s\n",
      "73:\tlearn: 4.1106253\ttotal: 38.2s\tremaining: 7m 5s\n",
      "74:\tlearn: 4.1088402\ttotal: 38.7s\tremaining: 7m 5s\n",
      "75:\tlearn: 4.1077581\ttotal: 39.2s\tremaining: 7m 4s\n",
      "76:\tlearn: 4.1064224\ttotal: 39.7s\tremaining: 7m 3s\n",
      "77:\tlearn: 4.1056662\ttotal: 40.2s\tremaining: 7m 3s\n",
      "78:\tlearn: 4.1046256\ttotal: 40.7s\tremaining: 7m 2s\n",
      "79:\tlearn: 4.1021780\ttotal: 41.2s\tremaining: 7m 1s\n",
      "80:\tlearn: 4.1012222\ttotal: 41.7s\tremaining: 7m 1s\n",
      "81:\tlearn: 4.0998367\ttotal: 42.2s\tremaining: 7m\n",
      "82:\tlearn: 4.0978978\ttotal: 42.7s\tremaining: 7m\n",
      "83:\tlearn: 4.0974810\ttotal: 43.2s\tremaining: 6m 59s\n",
      "84:\tlearn: 4.0963968\ttotal: 43.7s\tremaining: 6m 59s\n",
      "85:\tlearn: 4.0955407\ttotal: 44.2s\tremaining: 6m 58s\n",
      "86:\tlearn: 4.0949466\ttotal: 44.7s\tremaining: 6m 57s\n",
      "87:\tlearn: 4.0941586\ttotal: 45.2s\tremaining: 6m 56s\n",
      "88:\tlearn: 4.0926043\ttotal: 45.7s\tremaining: 6m 56s\n",
      "89:\tlearn: 4.0913430\ttotal: 46.2s\tremaining: 6m 55s\n",
      "90:\tlearn: 4.0905383\ttotal: 46.7s\tremaining: 6m 55s\n",
      "91:\tlearn: 4.0895468\ttotal: 47.2s\tremaining: 6m 54s\n",
      "92:\tlearn: 4.0879137\ttotal: 47.7s\tremaining: 6m 53s\n",
      "93:\tlearn: 4.0864661\ttotal: 48.2s\tremaining: 6m 53s\n",
      "94:\tlearn: 4.0854230\ttotal: 48.7s\tremaining: 6m 52s\n",
      "95:\tlearn: 4.0840275\ttotal: 49.2s\tremaining: 6m 52s\n",
      "96:\tlearn: 4.0835811\ttotal: 49.7s\tremaining: 6m 51s\n",
      "97:\tlearn: 4.0827461\ttotal: 50.2s\tremaining: 6m 50s\n",
      "98:\tlearn: 4.0824235\ttotal: 50.7s\tremaining: 6m 50s\n",
      "99:\tlearn: 4.0804388\ttotal: 51.2s\tremaining: 6m 49s\n",
      "100:\tlearn: 4.0790197\ttotal: 51.7s\tremaining: 6m 48s\n",
      "101:\tlearn: 4.0779387\ttotal: 52.2s\tremaining: 6m 48s\n",
      "102:\tlearn: 4.0765957\ttotal: 52.7s\tremaining: 6m 47s\n",
      "103:\tlearn: 4.0753556\ttotal: 53.2s\tremaining: 6m 47s\n",
      "104:\tlearn: 4.0745178\ttotal: 53.7s\tremaining: 6m 46s\n",
      "105:\tlearn: 4.0739186\ttotal: 54.2s\tremaining: 6m 46s\n",
      "106:\tlearn: 4.0729688\ttotal: 54.7s\tremaining: 6m 45s\n",
      "107:\tlearn: 4.0723480\ttotal: 55.3s\tremaining: 6m 45s\n",
      "108:\tlearn: 4.0714306\ttotal: 55.9s\tremaining: 6m 45s\n",
      "109:\tlearn: 4.0710518\ttotal: 56.4s\tremaining: 6m 45s\n",
      "110:\tlearn: 4.0704314\ttotal: 56.9s\tremaining: 6m 44s\n",
      "111:\tlearn: 4.0690081\ttotal: 57.4s\tremaining: 6m 43s\n",
      "112:\tlearn: 4.0681926\ttotal: 57.9s\tremaining: 6m 43s\n",
      "113:\tlearn: 4.0666736\ttotal: 58.4s\tremaining: 6m 42s\n",
      "114:\tlearn: 4.0649870\ttotal: 58.9s\tremaining: 6m 42s\n",
      "115:\tlearn: 4.0641618\ttotal: 59.4s\tremaining: 6m 41s\n",
      "116:\tlearn: 4.0636177\ttotal: 59.9s\tremaining: 6m 41s\n",
      "117:\tlearn: 4.0631790\ttotal: 1m\tremaining: 6m 40s\n",
      "118:\tlearn: 4.0618028\ttotal: 1m\tremaining: 6m 39s\n",
      "119:\tlearn: 4.0607952\ttotal: 1m 1s\tremaining: 6m 39s\n",
      "120:\tlearn: 4.0604195\ttotal: 1m 1s\tremaining: 6m 38s\n",
      "121:\tlearn: 4.0588261\ttotal: 1m 2s\tremaining: 6m 38s\n",
      "122:\tlearn: 4.0578121\ttotal: 1m 2s\tremaining: 6m 37s\n",
      "123:\tlearn: 4.0572733\ttotal: 1m 3s\tremaining: 6m 37s\n",
      "124:\tlearn: 4.0560599\ttotal: 1m 3s\tremaining: 6m 36s\n",
      "125:\tlearn: 4.0545573\ttotal: 1m 4s\tremaining: 6m 35s\n",
      "126:\tlearn: 4.0538639\ttotal: 1m 4s\tremaining: 6m 35s\n",
      "127:\tlearn: 4.0535087\ttotal: 1m 5s\tremaining: 6m 34s\n",
      "128:\tlearn: 4.0526910\ttotal: 1m 5s\tremaining: 6m 34s\n",
      "129:\tlearn: 4.0521305\ttotal: 1m 6s\tremaining: 6m 33s\n",
      "130:\tlearn: 4.0511907\ttotal: 1m 6s\tremaining: 6m 33s\n",
      "131:\tlearn: 4.0503919\ttotal: 1m 7s\tremaining: 6m 32s\n",
      "132:\tlearn: 4.0499816\ttotal: 1m 8s\tremaining: 6m 32s\n",
      "133:\tlearn: 4.0494650\ttotal: 1m 8s\tremaining: 6m 31s\n",
      "134:\tlearn: 4.0489367\ttotal: 1m 9s\tremaining: 6m 31s\n",
      "135:\tlearn: 4.0479576\ttotal: 1m 9s\tremaining: 6m 30s\n",
      "136:\tlearn: 4.0474999\ttotal: 1m 10s\tremaining: 6m 29s\n",
      "137:\tlearn: 4.0463562\ttotal: 1m 10s\tremaining: 6m 29s\n",
      "138:\tlearn: 4.0460354\ttotal: 1m 11s\tremaining: 6m 28s\n",
      "139:\tlearn: 4.0456803\ttotal: 1m 11s\tremaining: 6m 28s\n",
      "140:\tlearn: 4.0451013\ttotal: 1m 12s\tremaining: 6m 27s\n",
      "141:\tlearn: 4.0446648\ttotal: 1m 12s\tremaining: 6m 27s\n",
      "142:\tlearn: 4.0436156\ttotal: 1m 13s\tremaining: 6m 26s\n",
      "143:\tlearn: 4.0430167\ttotal: 1m 13s\tremaining: 6m 26s\n",
      "144:\tlearn: 4.0416825\ttotal: 1m 14s\tremaining: 6m 25s\n",
      "145:\tlearn: 4.0409383\ttotal: 1m 14s\tremaining: 6m 25s\n",
      "146:\tlearn: 4.0400710\ttotal: 1m 15s\tremaining: 6m 24s\n",
      "147:\tlearn: 4.0391049\ttotal: 1m 15s\tremaining: 6m 24s\n",
      "148:\tlearn: 4.0387476\ttotal: 1m 16s\tremaining: 6m 23s\n",
      "149:\tlearn: 4.0382889\ttotal: 1m 16s\tremaining: 6m 22s\n",
      "150:\tlearn: 4.0373730\ttotal: 1m 17s\tremaining: 6m 22s\n",
      "151:\tlearn: 4.0369816\ttotal: 1m 17s\tremaining: 6m 21s\n",
      "152:\tlearn: 4.0359028\ttotal: 1m 18s\tremaining: 6m 21s\n",
      "153:\tlearn: 4.0345775\ttotal: 1m 18s\tremaining: 6m 20s\n",
      "154:\tlearn: 4.0342399\ttotal: 1m 19s\tremaining: 6m 20s\n",
      "155:\tlearn: 4.0324416\ttotal: 1m 19s\tremaining: 6m 19s\n",
      "156:\tlearn: 4.0311880\ttotal: 1m 20s\tremaining: 6m 19s\n",
      "157:\tlearn: 4.0304501\ttotal: 1m 20s\tremaining: 6m 18s\n",
      "158:\tlearn: 4.0292362\ttotal: 1m 21s\tremaining: 6m 18s\n",
      "159:\tlearn: 4.0288561\ttotal: 1m 21s\tremaining: 6m 17s\n",
      "160:\tlearn: 4.0280762\ttotal: 1m 22s\tremaining: 6m 16s\n",
      "161:\tlearn: 4.0276555\ttotal: 1m 22s\tremaining: 6m 16s\n",
      "162:\tlearn: 4.0270257\ttotal: 1m 23s\tremaining: 6m 15s\n",
      "163:\tlearn: 4.0268505\ttotal: 1m 23s\tremaining: 6m 15s\n",
      "164:\tlearn: 4.0265273\ttotal: 1m 24s\tremaining: 6m 14s\n",
      "165:\tlearn: 4.0260294\ttotal: 1m 24s\tremaining: 6m 14s\n",
      "166:\tlearn: 4.0242185\ttotal: 1m 25s\tremaining: 6m 13s\n",
      "167:\tlearn: 4.0231438\ttotal: 1m 25s\tremaining: 6m 13s\n",
      "168:\tlearn: 4.0224570\ttotal: 1m 26s\tremaining: 6m 12s\n",
      "169:\tlearn: 4.0215179\ttotal: 1m 26s\tremaining: 6m 12s\n",
      "170:\tlearn: 4.0206888\ttotal: 1m 27s\tremaining: 6m 11s\n",
      "171:\tlearn: 4.0195266\ttotal: 1m 27s\tremaining: 6m 11s\n",
      "172:\tlearn: 4.0184051\ttotal: 1m 28s\tremaining: 6m 10s\n",
      "173:\tlearn: 4.0173810\ttotal: 1m 28s\tremaining: 6m 10s\n",
      "174:\tlearn: 4.0168306\ttotal: 1m 29s\tremaining: 6m 9s\n",
      "175:\tlearn: 4.0163923\ttotal: 1m 29s\tremaining: 6m 9s\n",
      "176:\tlearn: 4.0155119\ttotal: 1m 30s\tremaining: 6m 8s\n",
      "177:\tlearn: 4.0153306\ttotal: 1m 30s\tremaining: 6m 8s\n",
      "178:\tlearn: 4.0149640\ttotal: 1m 31s\tremaining: 6m 7s\n",
      "179:\tlearn: 4.0143068\ttotal: 1m 31s\tremaining: 6m 6s\n",
      "180:\tlearn: 4.0140545\ttotal: 1m 32s\tremaining: 6m 6s\n",
      "181:\tlearn: 4.0133230\ttotal: 1m 32s\tremaining: 6m 5s\n",
      "182:\tlearn: 4.0125381\ttotal: 1m 33s\tremaining: 6m 5s\n",
      "183:\tlearn: 4.0117172\ttotal: 1m 33s\tremaining: 6m 4s\n",
      "184:\tlearn: 4.0110577\ttotal: 1m 34s\tremaining: 6m 4s\n",
      "185:\tlearn: 4.0108537\ttotal: 1m 34s\tremaining: 6m 3s\n",
      "186:\tlearn: 4.0091622\ttotal: 1m 35s\tremaining: 6m 3s\n",
      "187:\tlearn: 4.0083082\ttotal: 1m 35s\tremaining: 6m 2s\n",
      "188:\tlearn: 4.0079134\ttotal: 1m 36s\tremaining: 6m 2s\n",
      "189:\tlearn: 4.0070972\ttotal: 1m 36s\tremaining: 6m 1s\n",
      "190:\tlearn: 4.0068503\ttotal: 1m 37s\tremaining: 6m 1s\n",
      "191:\tlearn: 4.0058719\ttotal: 1m 37s\tremaining: 6m\n",
      "192:\tlearn: 4.0055702\ttotal: 1m 38s\tremaining: 5m 59s\n",
      "193:\tlearn: 4.0045855\ttotal: 1m 38s\tremaining: 5m 59s\n",
      "194:\tlearn: 4.0031733\ttotal: 1m 39s\tremaining: 5m 58s\n",
      "195:\tlearn: 4.0024758\ttotal: 1m 39s\tremaining: 5m 58s\n",
      "196:\tlearn: 4.0020916\ttotal: 1m 40s\tremaining: 5m 57s\n",
      "197:\tlearn: 4.0016234\ttotal: 1m 40s\tremaining: 5m 57s\n",
      "198:\tlearn: 4.0004540\ttotal: 1m 41s\tremaining: 5m 56s\n",
      "199:\tlearn: 4.0001307\ttotal: 1m 41s\tremaining: 5m 56s\n",
      "200:\tlearn: 3.9999077\ttotal: 1m 42s\tremaining: 5m 55s\n",
      "201:\tlearn: 3.9997234\ttotal: 1m 42s\tremaining: 5m 55s\n",
      "202:\tlearn: 3.9994784\ttotal: 1m 43s\tremaining: 5m 54s\n",
      "203:\tlearn: 3.9991819\ttotal: 1m 43s\tremaining: 5m 54s\n",
      "204:\tlearn: 3.9988248\ttotal: 1m 44s\tremaining: 5m 53s\n",
      "205:\tlearn: 3.9982572\ttotal: 1m 44s\tremaining: 5m 53s\n",
      "206:\tlearn: 3.9973414\ttotal: 1m 45s\tremaining: 5m 52s\n",
      "207:\tlearn: 3.9966666\ttotal: 1m 45s\tremaining: 5m 51s\n",
      "208:\tlearn: 3.9962127\ttotal: 1m 46s\tremaining: 5m 51s\n",
      "209:\tlearn: 3.9951237\ttotal: 1m 46s\tremaining: 5m 50s\n",
      "210:\tlearn: 3.9949375\ttotal: 1m 47s\tremaining: 5m 50s\n",
      "211:\tlearn: 3.9944125\ttotal: 1m 47s\tremaining: 5m 49s\n",
      "212:\tlearn: 3.9936237\ttotal: 1m 48s\tremaining: 5m 49s\n",
      "213:\tlearn: 3.9930474\ttotal: 1m 48s\tremaining: 5m 48s\n",
      "214:\tlearn: 3.9927739\ttotal: 1m 49s\tremaining: 5m 48s\n",
      "215:\tlearn: 3.9921513\ttotal: 1m 49s\tremaining: 5m 47s\n",
      "216:\tlearn: 3.9912917\ttotal: 1m 50s\tremaining: 5m 47s\n",
      "217:\tlearn: 3.9907944\ttotal: 1m 50s\tremaining: 5m 46s\n",
      "218:\tlearn: 3.9902965\ttotal: 1m 51s\tremaining: 5m 46s\n",
      "219:\tlearn: 3.9900214\ttotal: 1m 51s\tremaining: 5m 45s\n",
      "220:\tlearn: 3.9898029\ttotal: 1m 52s\tremaining: 5m 45s\n",
      "221:\tlearn: 3.9891632\ttotal: 1m 52s\tremaining: 5m 44s\n",
      "222:\tlearn: 3.9888506\ttotal: 1m 53s\tremaining: 5m 44s\n",
      "223:\tlearn: 3.9885590\ttotal: 1m 53s\tremaining: 5m 43s\n",
      "224:\tlearn: 3.9882089\ttotal: 1m 54s\tremaining: 5m 43s\n",
      "225:\tlearn: 3.9880575\ttotal: 1m 54s\tremaining: 5m 42s\n",
      "226:\tlearn: 3.9877748\ttotal: 1m 55s\tremaining: 5m 42s\n",
      "227:\tlearn: 3.9875682\ttotal: 1m 55s\tremaining: 5m 41s\n",
      "228:\tlearn: 3.9873081\ttotal: 1m 56s\tremaining: 5m 41s\n",
      "229:\tlearn: 3.9871474\ttotal: 1m 56s\tremaining: 5m 40s\n",
      "230:\tlearn: 3.9853354\ttotal: 1m 57s\tremaining: 5m 40s\n",
      "231:\tlearn: 3.9851300\ttotal: 1m 57s\tremaining: 5m 39s\n",
      "232:\tlearn: 3.9847329\ttotal: 1m 58s\tremaining: 5m 38s\n",
      "233:\tlearn: 3.9844065\ttotal: 1m 59s\tremaining: 5m 38s\n",
      "234:\tlearn: 3.9841590\ttotal: 1m 59s\tremaining: 5m 38s\n",
      "235:\tlearn: 3.9839999\ttotal: 2m\tremaining: 5m 37s\n",
      "236:\tlearn: 3.9831933\ttotal: 2m\tremaining: 5m 37s\n",
      "237:\tlearn: 3.9828406\ttotal: 2m 1s\tremaining: 5m 36s\n",
      "238:\tlearn: 3.9826727\ttotal: 2m 1s\tremaining: 5m 36s\n",
      "239:\tlearn: 3.9816006\ttotal: 2m 2s\tremaining: 5m 35s\n",
      "240:\tlearn: 3.9805109\ttotal: 2m 2s\tremaining: 5m 35s\n",
      "241:\tlearn: 3.9802760\ttotal: 2m 3s\tremaining: 5m 34s\n",
      "242:\tlearn: 3.9800557\ttotal: 2m 3s\tremaining: 5m 34s\n",
      "243:\tlearn: 3.9796841\ttotal: 2m 4s\tremaining: 5m 33s\n",
      "244:\tlearn: 3.9794798\ttotal: 2m 4s\tremaining: 5m 33s\n",
      "245:\tlearn: 3.9789672\ttotal: 2m 5s\tremaining: 5m 32s\n",
      "246:\tlearn: 3.9780205\ttotal: 2m 5s\tremaining: 5m 32s\n",
      "247:\tlearn: 3.9774357\ttotal: 2m 6s\tremaining: 5m 31s\n",
      "248:\tlearn: 3.9772743\ttotal: 2m 6s\tremaining: 5m 31s\n",
      "249:\tlearn: 3.9763717\ttotal: 2m 7s\tremaining: 5m 30s\n",
      "250:\tlearn: 3.9755057\ttotal: 2m 7s\tremaining: 5m 30s\n",
      "251:\tlearn: 3.9753013\ttotal: 2m 8s\tremaining: 5m 29s\n",
      "252:\tlearn: 3.9748211\ttotal: 2m 8s\tremaining: 5m 28s\n",
      "253:\tlearn: 3.9746574\ttotal: 2m 9s\tremaining: 5m 28s\n",
      "254:\tlearn: 3.9739146\ttotal: 2m 9s\tremaining: 5m 27s\n",
      "255:\tlearn: 3.9729803\ttotal: 2m 10s\tremaining: 5m 27s\n",
      "256:\tlearn: 3.9725068\ttotal: 2m 10s\tremaining: 5m 26s\n",
      "257:\tlearn: 3.9723011\ttotal: 2m 11s\tremaining: 5m 26s\n",
      "258:\tlearn: 3.9719368\ttotal: 2m 11s\tremaining: 5m 25s\n",
      "259:\tlearn: 3.9708543\ttotal: 2m 12s\tremaining: 5m 25s\n",
      "260:\tlearn: 3.9700270\ttotal: 2m 12s\tremaining: 5m 24s\n",
      "261:\tlearn: 3.9695263\ttotal: 2m 13s\tremaining: 5m 24s\n",
      "262:\tlearn: 3.9690773\ttotal: 2m 13s\tremaining: 5m 23s\n",
      "263:\tlearn: 3.9686989\ttotal: 2m 14s\tremaining: 5m 23s\n",
      "264:\tlearn: 3.9680784\ttotal: 2m 14s\tremaining: 5m 22s\n",
      "265:\tlearn: 3.9676574\ttotal: 2m 15s\tremaining: 5m 22s\n",
      "266:\tlearn: 3.9675615\ttotal: 2m 15s\tremaining: 5m 21s\n",
      "267:\tlearn: 3.9667476\ttotal: 2m 16s\tremaining: 5m 21s\n",
      "268:\tlearn: 3.9664382\ttotal: 2m 16s\tremaining: 5m 20s\n",
      "269:\tlearn: 3.9656616\ttotal: 2m 17s\tremaining: 5m 20s\n",
      "270:\tlearn: 3.9648478\ttotal: 2m 17s\tremaining: 5m 19s\n",
      "271:\tlearn: 3.9643605\ttotal: 2m 18s\tremaining: 5m 19s\n",
      "272:\tlearn: 3.9639264\ttotal: 2m 18s\tremaining: 5m 18s\n",
      "273:\tlearn: 3.9628080\ttotal: 2m 19s\tremaining: 5m 18s\n",
      "274:\tlearn: 3.9620464\ttotal: 2m 19s\tremaining: 5m 17s\n",
      "275:\tlearn: 3.9618238\ttotal: 2m 20s\tremaining: 5m 17s\n",
      "276:\tlearn: 3.9612337\ttotal: 2m 20s\tremaining: 5m 16s\n",
      "277:\tlearn: 3.9605553\ttotal: 2m 21s\tremaining: 5m 16s\n",
      "278:\tlearn: 3.9603671\ttotal: 2m 21s\tremaining: 5m 15s\n",
      "279:\tlearn: 3.9601532\ttotal: 2m 22s\tremaining: 5m 15s\n",
      "280:\tlearn: 3.9596150\ttotal: 2m 22s\tremaining: 5m 14s\n",
      "281:\tlearn: 3.9592237\ttotal: 2m 23s\tremaining: 5m 14s\n",
      "282:\tlearn: 3.9590263\ttotal: 2m 23s\tremaining: 5m 13s\n",
      "283:\tlearn: 3.9584716\ttotal: 2m 24s\tremaining: 5m 13s\n",
      "284:\tlearn: 3.9583918\ttotal: 2m 24s\tremaining: 5m 12s\n",
      "285:\tlearn: 3.9583077\ttotal: 2m 25s\tremaining: 5m 11s\n",
      "286:\tlearn: 3.9578130\ttotal: 2m 25s\tremaining: 5m 11s\n",
      "287:\tlearn: 3.9575380\ttotal: 2m 26s\tremaining: 5m 10s\n",
      "288:\tlearn: 3.9573761\ttotal: 2m 26s\tremaining: 5m 10s\n",
      "289:\tlearn: 3.9571483\ttotal: 2m 27s\tremaining: 5m 9s\n",
      "290:\tlearn: 3.9569783\ttotal: 2m 27s\tremaining: 5m 9s\n",
      "291:\tlearn: 3.9567943\ttotal: 2m 28s\tremaining: 5m 8s\n",
      "292:\tlearn: 3.9564558\ttotal: 2m 28s\tremaining: 5m 8s\n",
      "293:\tlearn: 3.9561756\ttotal: 2m 29s\tremaining: 5m 7s\n",
      "294:\tlearn: 3.9558675\ttotal: 2m 29s\tremaining: 5m 7s\n",
      "295:\tlearn: 3.9553970\ttotal: 2m 30s\tremaining: 5m 6s\n",
      "296:\tlearn: 3.9551789\ttotal: 2m 30s\tremaining: 5m 6s\n",
      "297:\tlearn: 3.9548216\ttotal: 2m 31s\tremaining: 5m 5s\n",
      "298:\tlearn: 3.9544098\ttotal: 2m 31s\tremaining: 5m 5s\n",
      "299:\tlearn: 3.9537348\ttotal: 2m 32s\tremaining: 5m 4s\n",
      "300:\tlearn: 3.9535721\ttotal: 2m 32s\tremaining: 5m 4s\n",
      "301:\tlearn: 3.9533655\ttotal: 2m 33s\tremaining: 5m 3s\n",
      "302:\tlearn: 3.9532008\ttotal: 2m 34s\tremaining: 5m 3s\n",
      "303:\tlearn: 3.9529418\ttotal: 2m 34s\tremaining: 5m 3s\n",
      "304:\tlearn: 3.9527891\ttotal: 2m 35s\tremaining: 5m 2s\n",
      "305:\tlearn: 3.9526481\ttotal: 2m 35s\tremaining: 5m 2s\n",
      "306:\tlearn: 3.9516084\ttotal: 2m 36s\tremaining: 5m 1s\n",
      "307:\tlearn: 3.9514397\ttotal: 2m 36s\tremaining: 5m 1s\n",
      "308:\tlearn: 3.9511861\ttotal: 2m 37s\tremaining: 5m\n",
      "309:\tlearn: 3.9509794\ttotal: 2m 37s\tremaining: 4m 59s\n",
      "310:\tlearn: 3.9500695\ttotal: 2m 38s\tremaining: 4m 59s\n",
      "311:\tlearn: 3.9491369\ttotal: 2m 38s\tremaining: 4m 58s\n",
      "312:\tlearn: 3.9489535\ttotal: 2m 39s\tremaining: 4m 58s\n",
      "313:\tlearn: 3.9486622\ttotal: 2m 39s\tremaining: 4m 57s\n",
      "314:\tlearn: 3.9484579\ttotal: 2m 40s\tremaining: 4m 57s\n",
      "315:\tlearn: 3.9482671\ttotal: 2m 40s\tremaining: 4m 56s\n",
      "316:\tlearn: 3.9476344\ttotal: 2m 41s\tremaining: 4m 56s\n",
      "317:\tlearn: 3.9470859\ttotal: 2m 41s\tremaining: 4m 55s\n",
      "318:\tlearn: 3.9466469\ttotal: 2m 42s\tremaining: 4m 55s\n",
      "319:\tlearn: 3.9464468\ttotal: 2m 42s\tremaining: 4m 54s\n",
      "320:\tlearn: 3.9453196\ttotal: 2m 43s\tremaining: 4m 54s\n",
      "321:\tlearn: 3.9450950\ttotal: 2m 43s\tremaining: 4m 53s\n",
      "322:\tlearn: 3.9448391\ttotal: 2m 44s\tremaining: 4m 53s\n",
      "323:\tlearn: 3.9447174\ttotal: 2m 44s\tremaining: 4m 52s\n",
      "324:\tlearn: 3.9442935\ttotal: 2m 45s\tremaining: 4m 52s\n",
      "325:\tlearn: 3.9437290\ttotal: 2m 45s\tremaining: 4m 51s\n",
      "326:\tlearn: 3.9431306\ttotal: 2m 46s\tremaining: 4m 51s\n",
      "327:\tlearn: 3.9429258\ttotal: 2m 46s\tremaining: 4m 50s\n",
      "328:\tlearn: 3.9422560\ttotal: 2m 47s\tremaining: 4m 50s\n",
      "329:\tlearn: 3.9413823\ttotal: 2m 47s\tremaining: 4m 49s\n",
      "330:\tlearn: 3.9405552\ttotal: 2m 48s\tremaining: 4m 49s\n",
      "331:\tlearn: 3.9400162\ttotal: 2m 48s\tremaining: 4m 48s\n",
      "332:\tlearn: 3.9398216\ttotal: 2m 49s\tremaining: 4m 48s\n",
      "333:\tlearn: 3.9397567\ttotal: 2m 49s\tremaining: 4m 47s\n",
      "334:\tlearn: 3.9391310\ttotal: 2m 50s\tremaining: 4m 47s\n",
      "335:\tlearn: 3.9390090\ttotal: 2m 50s\tremaining: 4m 46s\n",
      "336:\tlearn: 3.9388627\ttotal: 2m 51s\tremaining: 4m 46s\n",
      "337:\tlearn: 3.9387586\ttotal: 2m 51s\tremaining: 4m 45s\n",
      "338:\tlearn: 3.9383531\ttotal: 2m 52s\tremaining: 4m 45s\n",
      "339:\tlearn: 3.9380333\ttotal: 2m 52s\tremaining: 4m 44s\n",
      "340:\tlearn: 3.9378389\ttotal: 2m 53s\tremaining: 4m 44s\n",
      "341:\tlearn: 3.9376117\ttotal: 2m 53s\tremaining: 4m 43s\n",
      "342:\tlearn: 3.9373900\ttotal: 2m 54s\tremaining: 4m 43s\n",
      "343:\tlearn: 3.9372254\ttotal: 2m 54s\tremaining: 4m 42s\n",
      "344:\tlearn: 3.9370084\ttotal: 2m 55s\tremaining: 4m 42s\n",
      "345:\tlearn: 3.9367481\ttotal: 2m 55s\tremaining: 4m 41s\n",
      "346:\tlearn: 3.9362916\ttotal: 2m 56s\tremaining: 4m 40s\n",
      "347:\tlearn: 3.9360953\ttotal: 2m 56s\tremaining: 4m 40s\n",
      "348:\tlearn: 3.9359161\ttotal: 2m 57s\tremaining: 4m 39s\n",
      "349:\tlearn: 3.9357486\ttotal: 2m 57s\tremaining: 4m 39s\n",
      "350:\tlearn: 3.9353263\ttotal: 2m 58s\tremaining: 4m 38s\n",
      "351:\tlearn: 3.9350732\ttotal: 2m 58s\tremaining: 4m 38s\n",
      "352:\tlearn: 3.9349546\ttotal: 2m 59s\tremaining: 4m 37s\n",
      "353:\tlearn: 3.9340782\ttotal: 2m 59s\tremaining: 4m 37s\n",
      "354:\tlearn: 3.9339151\ttotal: 3m\tremaining: 4m 36s\n",
      "355:\tlearn: 3.9337980\ttotal: 3m\tremaining: 4m 36s\n",
      "356:\tlearn: 3.9336579\ttotal: 3m 1s\tremaining: 4m 35s\n",
      "357:\tlearn: 3.9334801\ttotal: 3m 1s\tremaining: 4m 35s\n",
      "358:\tlearn: 3.9333019\ttotal: 3m 2s\tremaining: 4m 34s\n",
      "359:\tlearn: 3.9330771\ttotal: 3m 2s\tremaining: 4m 34s\n",
      "360:\tlearn: 3.9328892\ttotal: 3m 3s\tremaining: 4m 33s\n",
      "361:\tlearn: 3.9326832\ttotal: 3m 3s\tremaining: 4m 33s\n",
      "362:\tlearn: 3.9323208\ttotal: 3m 4s\tremaining: 4m 32s\n",
      "363:\tlearn: 3.9318095\ttotal: 3m 4s\tremaining: 4m 32s\n",
      "364:\tlearn: 3.9316488\ttotal: 3m 5s\tremaining: 4m 31s\n",
      "365:\tlearn: 3.9314529\ttotal: 3m 6s\tremaining: 4m 31s\n",
      "366:\tlearn: 3.9312742\ttotal: 3m 6s\tremaining: 4m 31s\n",
      "367:\tlearn: 3.9305798\ttotal: 3m 7s\tremaining: 4m 30s\n",
      "368:\tlearn: 3.9301355\ttotal: 3m 7s\tremaining: 4m 29s\n",
      "369:\tlearn: 3.9299073\ttotal: 3m 8s\tremaining: 4m 29s\n",
      "370:\tlearn: 3.9293155\ttotal: 3m 8s\tremaining: 4m 28s\n",
      "371:\tlearn: 3.9290050\ttotal: 3m 9s\tremaining: 4m 28s\n",
      "372:\tlearn: 3.9289069\ttotal: 3m 9s\tremaining: 4m 27s\n",
      "373:\tlearn: 3.9282986\ttotal: 3m 10s\tremaining: 4m 27s\n",
      "374:\tlearn: 3.9281271\ttotal: 3m 10s\tremaining: 4m 26s\n",
      "375:\tlearn: 3.9279462\ttotal: 3m 11s\tremaining: 4m 26s\n",
      "376:\tlearn: 3.9278017\ttotal: 3m 11s\tremaining: 4m 25s\n",
      "377:\tlearn: 3.9273744\ttotal: 3m 12s\tremaining: 4m 25s\n",
      "378:\tlearn: 3.9270802\ttotal: 3m 12s\tremaining: 4m 24s\n",
      "379:\tlearn: 3.9264909\ttotal: 3m 13s\tremaining: 4m 24s\n",
      "380:\tlearn: 3.9261133\ttotal: 3m 13s\tremaining: 4m 23s\n",
      "381:\tlearn: 3.9259516\ttotal: 3m 14s\tremaining: 4m 23s\n",
      "382:\tlearn: 3.9255910\ttotal: 3m 14s\tremaining: 4m 22s\n",
      "383:\tlearn: 3.9255197\ttotal: 3m 15s\tremaining: 4m 22s\n",
      "384:\tlearn: 3.9253782\ttotal: 3m 15s\tremaining: 4m 21s\n",
      "385:\tlearn: 3.9252476\ttotal: 3m 16s\tremaining: 4m 21s\n",
      "386:\tlearn: 3.9249501\ttotal: 3m 16s\tremaining: 4m 20s\n",
      "387:\tlearn: 3.9247150\ttotal: 3m 17s\tremaining: 4m 20s\n",
      "388:\tlearn: 3.9244569\ttotal: 3m 17s\tremaining: 4m 19s\n",
      "389:\tlearn: 3.9241262\ttotal: 3m 18s\tremaining: 4m 19s\n",
      "390:\tlearn: 3.9237637\ttotal: 3m 18s\tremaining: 4m 18s\n",
      "391:\tlearn: 3.9230963\ttotal: 3m 19s\tremaining: 4m 18s\n",
      "392:\tlearn: 3.9229122\ttotal: 3m 19s\tremaining: 4m 17s\n",
      "393:\tlearn: 3.9228063\ttotal: 3m 20s\tremaining: 4m 17s\n",
      "394:\tlearn: 3.9224652\ttotal: 3m 20s\tremaining: 4m 16s\n",
      "395:\tlearn: 3.9223021\ttotal: 3m 21s\tremaining: 4m 16s\n",
      "396:\tlearn: 3.9221421\ttotal: 3m 21s\tremaining: 4m 15s\n",
      "397:\tlearn: 3.9219554\ttotal: 3m 22s\tremaining: 4m 15s\n",
      "398:\tlearn: 3.9217778\ttotal: 3m 22s\tremaining: 4m 14s\n",
      "399:\tlearn: 3.9216686\ttotal: 3m 23s\tremaining: 4m 13s\n",
      "400:\tlearn: 3.9213230\ttotal: 3m 23s\tremaining: 4m 13s\n",
      "401:\tlearn: 3.9206621\ttotal: 3m 24s\tremaining: 4m 12s\n",
      "402:\tlearn: 3.9203819\ttotal: 3m 24s\tremaining: 4m 12s\n",
      "403:\tlearn: 3.9202353\ttotal: 3m 25s\tremaining: 4m 11s\n",
      "404:\tlearn: 3.9200253\ttotal: 3m 25s\tremaining: 4m 11s\n",
      "405:\tlearn: 3.9199358\ttotal: 3m 26s\tremaining: 4m 10s\n",
      "406:\tlearn: 3.9193104\ttotal: 3m 26s\tremaining: 4m 10s\n",
      "407:\tlearn: 3.9190822\ttotal: 3m 27s\tremaining: 4m 9s\n",
      "408:\tlearn: 3.9189818\ttotal: 3m 27s\tremaining: 4m 9s\n",
      "409:\tlearn: 3.9188068\ttotal: 3m 28s\tremaining: 4m 8s\n",
      "410:\tlearn: 3.9186381\ttotal: 3m 28s\tremaining: 4m 8s\n",
      "411:\tlearn: 3.9184450\ttotal: 3m 29s\tremaining: 4m 7s\n",
      "412:\tlearn: 3.9182922\ttotal: 3m 29s\tremaining: 4m 7s\n",
      "413:\tlearn: 3.9180158\ttotal: 3m 30s\tremaining: 4m 6s\n",
      "414:\tlearn: 3.9176293\ttotal: 3m 30s\tremaining: 4m 6s\n",
      "415:\tlearn: 3.9175206\ttotal: 3m 31s\tremaining: 4m 5s\n",
      "416:\tlearn: 3.9173794\ttotal: 3m 31s\tremaining: 4m 5s\n",
      "417:\tlearn: 3.9171119\ttotal: 3m 32s\tremaining: 4m 4s\n",
      "418:\tlearn: 3.9167526\ttotal: 3m 32s\tremaining: 4m 4s\n",
      "419:\tlearn: 3.9163572\ttotal: 3m 33s\tremaining: 4m 3s\n",
      "420:\tlearn: 3.9158989\ttotal: 3m 33s\tremaining: 4m 3s\n",
      "421:\tlearn: 3.9157042\ttotal: 3m 34s\tremaining: 4m 2s\n",
      "422:\tlearn: 3.9156165\ttotal: 3m 34s\tremaining: 4m 2s\n",
      "423:\tlearn: 3.9153167\ttotal: 3m 35s\tremaining: 4m 1s\n",
      "424:\tlearn: 3.9149751\ttotal: 3m 35s\tremaining: 4m 1s\n",
      "425:\tlearn: 3.9148705\ttotal: 3m 36s\tremaining: 4m\n",
      "426:\tlearn: 3.9144638\ttotal: 3m 36s\tremaining: 4m\n",
      "427:\tlearn: 3.9143499\ttotal: 3m 37s\tremaining: 3m 59s\n",
      "428:\tlearn: 3.9142009\ttotal: 3m 37s\tremaining: 3m 59s\n",
      "429:\tlearn: 3.9140835\ttotal: 3m 38s\tremaining: 3m 58s\n",
      "430:\tlearn: 3.9136014\ttotal: 3m 39s\tremaining: 3m 58s\n",
      "431:\tlearn: 3.9134137\ttotal: 3m 39s\tremaining: 3m 57s\n",
      "432:\tlearn: 3.9130712\ttotal: 3m 40s\tremaining: 3m 57s\n",
      "433:\tlearn: 3.9128074\ttotal: 3m 40s\tremaining: 3m 56s\n",
      "434:\tlearn: 3.9126397\ttotal: 3m 41s\tremaining: 3m 56s\n",
      "435:\tlearn: 3.9121793\ttotal: 3m 41s\tremaining: 3m 55s\n",
      "436:\tlearn: 3.9118454\ttotal: 3m 42s\tremaining: 3m 55s\n",
      "437:\tlearn: 3.9115434\ttotal: 3m 42s\tremaining: 3m 54s\n",
      "438:\tlearn: 3.9112280\ttotal: 3m 43s\tremaining: 3m 54s\n",
      "439:\tlearn: 3.9110183\ttotal: 3m 43s\tremaining: 3m 53s\n",
      "440:\tlearn: 3.9108424\ttotal: 3m 44s\tremaining: 3m 53s\n",
      "441:\tlearn: 3.9107014\ttotal: 3m 44s\tremaining: 3m 52s\n",
      "442:\tlearn: 3.9105585\ttotal: 3m 45s\tremaining: 3m 52s\n",
      "443:\tlearn: 3.9102250\ttotal: 3m 45s\tremaining: 3m 51s\n",
      "444:\tlearn: 3.9100556\ttotal: 3m 46s\tremaining: 3m 51s\n",
      "445:\tlearn: 3.9097266\ttotal: 3m 46s\tremaining: 3m 50s\n",
      "446:\tlearn: 3.9095417\ttotal: 3m 47s\tremaining: 3m 50s\n",
      "447:\tlearn: 3.9092552\ttotal: 3m 47s\tremaining: 3m 49s\n",
      "448:\tlearn: 3.9090836\ttotal: 3m 48s\tremaining: 3m 49s\n",
      "449:\tlearn: 3.9087563\ttotal: 3m 48s\tremaining: 3m 48s\n",
      "450:\tlearn: 3.9085622\ttotal: 3m 49s\tremaining: 3m 48s\n",
      "451:\tlearn: 3.9082410\ttotal: 3m 49s\tremaining: 3m 47s\n",
      "452:\tlearn: 3.9078465\ttotal: 3m 50s\tremaining: 3m 47s\n",
      "453:\tlearn: 3.9075688\ttotal: 3m 50s\tremaining: 3m 46s\n",
      "454:\tlearn: 3.9074783\ttotal: 3m 51s\tremaining: 3m 46s\n",
      "455:\tlearn: 3.9071975\ttotal: 3m 51s\tremaining: 3m 45s\n",
      "456:\tlearn: 3.9069421\ttotal: 3m 52s\tremaining: 3m 45s\n",
      "457:\tlearn: 3.9067869\ttotal: 3m 52s\tremaining: 3m 44s\n",
      "458:\tlearn: 3.9063686\ttotal: 3m 53s\tremaining: 3m 44s\n",
      "459:\tlearn: 3.9061367\ttotal: 3m 53s\tremaining: 3m 43s\n",
      "460:\tlearn: 3.9058816\ttotal: 3m 54s\tremaining: 3m 43s\n",
      "461:\tlearn: 3.9058313\ttotal: 3m 54s\tremaining: 3m 42s\n",
      "462:\tlearn: 3.9056701\ttotal: 3m 55s\tremaining: 3m 41s\n",
      "463:\tlearn: 3.9054572\ttotal: 3m 55s\tremaining: 3m 41s\n",
      "464:\tlearn: 3.9053175\ttotal: 3m 56s\tremaining: 3m 40s\n",
      "465:\tlearn: 3.9050983\ttotal: 3m 56s\tremaining: 3m 40s\n",
      "466:\tlearn: 3.9047870\ttotal: 3m 57s\tremaining: 3m 39s\n",
      "467:\tlearn: 3.9046978\ttotal: 3m 57s\tremaining: 3m 39s\n",
      "468:\tlearn: 3.9041870\ttotal: 3m 58s\tremaining: 3m 38s\n",
      "469:\tlearn: 3.9040550\ttotal: 3m 58s\tremaining: 3m 38s\n",
      "470:\tlearn: 3.9039144\ttotal: 3m 59s\tremaining: 3m 37s\n",
      "471:\tlearn: 3.9035724\ttotal: 3m 59s\tremaining: 3m 37s\n",
      "472:\tlearn: 3.9034583\ttotal: 4m\tremaining: 3m 36s\n",
      "473:\tlearn: 3.9032506\ttotal: 4m\tremaining: 3m 36s\n",
      "474:\tlearn: 3.9029795\ttotal: 4m 1s\tremaining: 3m 35s\n",
      "475:\tlearn: 3.9028464\ttotal: 4m 1s\tremaining: 3m 35s\n",
      "476:\tlearn: 3.9026911\ttotal: 4m 2s\tremaining: 3m 34s\n",
      "477:\tlearn: 3.9023456\ttotal: 4m 2s\tremaining: 3m 34s\n",
      "478:\tlearn: 3.9021408\ttotal: 4m 3s\tremaining: 3m 33s\n",
      "479:\tlearn: 3.9019752\ttotal: 4m 3s\tremaining: 3m 33s\n",
      "480:\tlearn: 3.9017407\ttotal: 4m 4s\tremaining: 3m 32s\n",
      "481:\tlearn: 3.9015911\ttotal: 4m 4s\tremaining: 3m 32s\n",
      "482:\tlearn: 3.9014538\ttotal: 4m 5s\tremaining: 3m 31s\n",
      "483:\tlearn: 3.9012279\ttotal: 4m 5s\tremaining: 3m 31s\n",
      "484:\tlearn: 3.9010878\ttotal: 4m 6s\tremaining: 3m 30s\n",
      "485:\tlearn: 3.9009076\ttotal: 4m 6s\tremaining: 3m 30s\n",
      "486:\tlearn: 3.9005268\ttotal: 4m 7s\tremaining: 3m 29s\n",
      "487:\tlearn: 3.9003115\ttotal: 4m 7s\tremaining: 3m 29s\n",
      "488:\tlearn: 3.9000542\ttotal: 4m 8s\tremaining: 3m 28s\n",
      "489:\tlearn: 3.9000106\ttotal: 4m 8s\tremaining: 3m 28s\n",
      "490:\tlearn: 3.8997576\ttotal: 4m 9s\tremaining: 3m 27s\n",
      "491:\tlearn: 3.8995331\ttotal: 4m 9s\tremaining: 3m 27s\n",
      "492:\tlearn: 3.8994042\ttotal: 4m 10s\tremaining: 3m 26s\n",
      "493:\tlearn: 3.8991802\ttotal: 4m 10s\tremaining: 3m 26s\n",
      "494:\tlearn: 3.8989486\ttotal: 4m 11s\tremaining: 3m 25s\n",
      "495:\tlearn: 3.8988515\ttotal: 4m 12s\tremaining: 3m 25s\n",
      "496:\tlearn: 3.8986698\ttotal: 4m 12s\tremaining: 3m 24s\n",
      "497:\tlearn: 3.8985529\ttotal: 4m 13s\tremaining: 3m 24s\n",
      "498:\tlearn: 3.8983933\ttotal: 4m 13s\tremaining: 3m 23s\n",
      "499:\tlearn: 3.8982226\ttotal: 4m 14s\tremaining: 3m 23s\n",
      "500:\tlearn: 3.8980294\ttotal: 4m 14s\tremaining: 3m 22s\n",
      "501:\tlearn: 3.8979023\ttotal: 4m 15s\tremaining: 3m 22s\n",
      "502:\tlearn: 3.8977344\ttotal: 4m 15s\tremaining: 3m 21s\n",
      "503:\tlearn: 3.8976083\ttotal: 4m 16s\tremaining: 3m 21s\n",
      "504:\tlearn: 3.8974019\ttotal: 4m 16s\tremaining: 3m 20s\n",
      "505:\tlearn: 3.8972596\ttotal: 4m 17s\tremaining: 3m 20s\n",
      "506:\tlearn: 3.8971424\ttotal: 4m 17s\tremaining: 3m 19s\n",
      "507:\tlearn: 3.8968280\ttotal: 4m 18s\tremaining: 3m 19s\n",
      "508:\tlearn: 3.8966598\ttotal: 4m 18s\tremaining: 3m 18s\n",
      "509:\tlearn: 3.8963231\ttotal: 4m 19s\tremaining: 3m 18s\n",
      "510:\tlearn: 3.8961009\ttotal: 4m 19s\tremaining: 3m 17s\n",
      "511:\tlearn: 3.8959991\ttotal: 4m 20s\tremaining: 3m 17s\n",
      "512:\tlearn: 3.8958917\ttotal: 4m 20s\tremaining: 3m 16s\n",
      "513:\tlearn: 3.8957399\ttotal: 4m 21s\tremaining: 3m 16s\n",
      "514:\tlearn: 3.8955611\ttotal: 4m 21s\tremaining: 3m 15s\n",
      "515:\tlearn: 3.8954197\ttotal: 4m 22s\tremaining: 3m 15s\n",
      "516:\tlearn: 3.8953433\ttotal: 4m 22s\tremaining: 3m 14s\n",
      "517:\tlearn: 3.8950589\ttotal: 4m 23s\tremaining: 3m 14s\n",
      "518:\tlearn: 3.8949036\ttotal: 4m 23s\tremaining: 3m 13s\n",
      "519:\tlearn: 3.8946747\ttotal: 4m 24s\tremaining: 3m 13s\n",
      "520:\tlearn: 3.8945400\ttotal: 4m 24s\tremaining: 3m 12s\n",
      "521:\tlearn: 3.8940330\ttotal: 4m 25s\tremaining: 3m 11s\n",
      "522:\tlearn: 3.8939227\ttotal: 4m 25s\tremaining: 3m 11s\n",
      "523:\tlearn: 3.8937750\ttotal: 4m 26s\tremaining: 3m 10s\n",
      "524:\tlearn: 3.8933583\ttotal: 4m 26s\tremaining: 3m 10s\n",
      "525:\tlearn: 3.8932559\ttotal: 4m 27s\tremaining: 3m 9s\n",
      "526:\tlearn: 3.8931089\ttotal: 4m 27s\tremaining: 3m 9s\n",
      "527:\tlearn: 3.8929268\ttotal: 4m 28s\tremaining: 3m 8s\n",
      "528:\tlearn: 3.8926604\ttotal: 4m 28s\tremaining: 3m 8s\n",
      "529:\tlearn: 3.8925558\ttotal: 4m 29s\tremaining: 3m 7s\n",
      "530:\tlearn: 3.8923216\ttotal: 4m 29s\tremaining: 3m 7s\n",
      "531:\tlearn: 3.8921966\ttotal: 4m 30s\tremaining: 3m 6s\n",
      "532:\tlearn: 3.8919087\ttotal: 4m 30s\tremaining: 3m 6s\n",
      "533:\tlearn: 3.8917347\ttotal: 4m 31s\tremaining: 3m 5s\n",
      "534:\tlearn: 3.8916345\ttotal: 4m 31s\tremaining: 3m 5s\n",
      "535:\tlearn: 3.8915061\ttotal: 4m 32s\tremaining: 3m 4s\n",
      "536:\tlearn: 3.8913491\ttotal: 4m 32s\tremaining: 3m 4s\n",
      "537:\tlearn: 3.8911297\ttotal: 4m 33s\tremaining: 3m 3s\n",
      "538:\tlearn: 3.8909761\ttotal: 4m 33s\tremaining: 3m 3s\n",
      "539:\tlearn: 3.8908494\ttotal: 4m 34s\tremaining: 3m 2s\n",
      "540:\tlearn: 3.8907085\ttotal: 4m 34s\tremaining: 3m 2s\n",
      "541:\tlearn: 3.8904835\ttotal: 4m 35s\tremaining: 3m 1s\n",
      "542:\tlearn: 3.8903636\ttotal: 4m 35s\tremaining: 3m 1s\n",
      "543:\tlearn: 3.8901287\ttotal: 4m 36s\tremaining: 3m\n",
      "544:\tlearn: 3.8900400\ttotal: 4m 36s\tremaining: 3m\n",
      "545:\tlearn: 3.8897819\ttotal: 4m 37s\tremaining: 2m 59s\n",
      "546:\tlearn: 3.8896157\ttotal: 4m 37s\tremaining: 2m 59s\n",
      "547:\tlearn: 3.8894920\ttotal: 4m 38s\tremaining: 2m 58s\n",
      "548:\tlearn: 3.8892724\ttotal: 4m 38s\tremaining: 2m 58s\n",
      "549:\tlearn: 3.8890946\ttotal: 4m 39s\tremaining: 2m 57s\n",
      "550:\tlearn: 3.8889440\ttotal: 4m 39s\tremaining: 2m 57s\n",
      "551:\tlearn: 3.8888421\ttotal: 4m 40s\tremaining: 2m 56s\n",
      "552:\tlearn: 3.8886391\ttotal: 4m 40s\tremaining: 2m 56s\n",
      "553:\tlearn: 3.8885454\ttotal: 4m 41s\tremaining: 2m 55s\n",
      "554:\tlearn: 3.8884158\ttotal: 4m 41s\tremaining: 2m 55s\n",
      "555:\tlearn: 3.8883054\ttotal: 4m 42s\tremaining: 2m 54s\n",
      "556:\tlearn: 3.8881670\ttotal: 4m 42s\tremaining: 2m 54s\n",
      "557:\tlearn: 3.8879795\ttotal: 4m 43s\tremaining: 2m 53s\n",
      "558:\tlearn: 3.8878223\ttotal: 4m 43s\tremaining: 2m 53s\n",
      "559:\tlearn: 3.8876811\ttotal: 4m 44s\tremaining: 2m 52s\n",
      "560:\tlearn: 3.8875049\ttotal: 4m 44s\tremaining: 2m 52s\n",
      "561:\tlearn: 3.8874174\ttotal: 4m 45s\tremaining: 2m 51s\n",
      "562:\tlearn: 3.8872220\ttotal: 4m 45s\tremaining: 2m 51s\n",
      "563:\tlearn: 3.8871357\ttotal: 4m 46s\tremaining: 2m 50s\n",
      "564:\tlearn: 3.8869914\ttotal: 4m 46s\tremaining: 2m 50s\n",
      "565:\tlearn: 3.8867867\ttotal: 4m 47s\tremaining: 2m 49s\n",
      "566:\tlearn: 3.8866690\ttotal: 4m 47s\tremaining: 2m 49s\n",
      "567:\tlearn: 3.8865215\ttotal: 4m 48s\tremaining: 2m 48s\n",
      "568:\tlearn: 3.8863304\ttotal: 4m 48s\tremaining: 2m 48s\n",
      "569:\tlearn: 3.8861472\ttotal: 4m 49s\tremaining: 2m 47s\n",
      "570:\tlearn: 3.8860315\ttotal: 4m 49s\tremaining: 2m 47s\n",
      "571:\tlearn: 3.8859208\ttotal: 4m 50s\tremaining: 2m 46s\n",
      "572:\tlearn: 3.8857688\ttotal: 4m 50s\tremaining: 2m 45s\n",
      "573:\tlearn: 3.8855653\ttotal: 4m 51s\tremaining: 2m 45s\n",
      "574:\tlearn: 3.8854678\ttotal: 4m 51s\tremaining: 2m 44s\n",
      "575:\tlearn: 3.8853369\ttotal: 4m 52s\tremaining: 2m 44s\n",
      "576:\tlearn: 3.8851964\ttotal: 4m 52s\tremaining: 2m 43s\n",
      "577:\tlearn: 3.8850385\ttotal: 4m 53s\tremaining: 2m 43s\n",
      "578:\tlearn: 3.8848455\ttotal: 4m 53s\tremaining: 2m 42s\n",
      "579:\tlearn: 3.8846214\ttotal: 4m 54s\tremaining: 2m 42s\n",
      "580:\tlearn: 3.8844032\ttotal: 4m 54s\tremaining: 2m 41s\n",
      "581:\tlearn: 3.8842415\ttotal: 4m 55s\tremaining: 2m 41s\n",
      "582:\tlearn: 3.8841198\ttotal: 4m 55s\tremaining: 2m 40s\n",
      "583:\tlearn: 3.8840115\ttotal: 4m 56s\tremaining: 2m 40s\n",
      "584:\tlearn: 3.8839447\ttotal: 4m 56s\tremaining: 2m 39s\n",
      "585:\tlearn: 3.8839100\ttotal: 4m 57s\tremaining: 2m 39s\n",
      "586:\tlearn: 3.8838113\ttotal: 4m 57s\tremaining: 2m 38s\n",
      "587:\tlearn: 3.8836941\ttotal: 4m 58s\tremaining: 2m 38s\n",
      "588:\tlearn: 3.8834684\ttotal: 4m 59s\tremaining: 2m 37s\n",
      "589:\tlearn: 3.8832744\ttotal: 4m 59s\tremaining: 2m 37s\n",
      "590:\tlearn: 3.8829897\ttotal: 5m\tremaining: 2m 36s\n",
      "591:\tlearn: 3.8828287\ttotal: 5m\tremaining: 2m 36s\n",
      "592:\tlearn: 3.8826600\ttotal: 5m 1s\tremaining: 2m 35s\n",
      "593:\tlearn: 3.8825395\ttotal: 5m 1s\tremaining: 2m 35s\n",
      "594:\tlearn: 3.8824460\ttotal: 5m 2s\tremaining: 2m 34s\n",
      "595:\tlearn: 3.8823552\ttotal: 5m 2s\tremaining: 2m 34s\n",
      "596:\tlearn: 3.8819721\ttotal: 5m 3s\tremaining: 2m 33s\n",
      "597:\tlearn: 3.8818367\ttotal: 5m 3s\tremaining: 2m 33s\n",
      "598:\tlearn: 3.8817245\ttotal: 5m 4s\tremaining: 2m 32s\n",
      "599:\tlearn: 3.8814506\ttotal: 5m 4s\tremaining: 2m 32s\n",
      "600:\tlearn: 3.8813131\ttotal: 5m 5s\tremaining: 2m 31s\n",
      "601:\tlearn: 3.8811769\ttotal: 5m 5s\tremaining: 2m 31s\n",
      "602:\tlearn: 3.8810725\ttotal: 5m 6s\tremaining: 2m 30s\n",
      "603:\tlearn: 3.8810145\ttotal: 5m 6s\tremaining: 2m 30s\n",
      "604:\tlearn: 3.8809736\ttotal: 5m 7s\tremaining: 2m 29s\n",
      "605:\tlearn: 3.8809040\ttotal: 5m 7s\tremaining: 2m 29s\n",
      "606:\tlearn: 3.8807132\ttotal: 5m 8s\tremaining: 2m 28s\n",
      "607:\tlearn: 3.8805062\ttotal: 5m 8s\tremaining: 2m 28s\n",
      "608:\tlearn: 3.8803440\ttotal: 5m 9s\tremaining: 2m 27s\n",
      "609:\tlearn: 3.8802076\ttotal: 5m 9s\tremaining: 2m 27s\n",
      "610:\tlearn: 3.8800541\ttotal: 5m 10s\tremaining: 2m 26s\n",
      "611:\tlearn: 3.8799444\ttotal: 5m 10s\tremaining: 2m 26s\n",
      "612:\tlearn: 3.8798216\ttotal: 5m 11s\tremaining: 2m 25s\n",
      "613:\tlearn: 3.8796477\ttotal: 5m 11s\tremaining: 2m 25s\n",
      "614:\tlearn: 3.8794871\ttotal: 5m 12s\tremaining: 2m 24s\n",
      "615:\tlearn: 3.8793776\ttotal: 5m 12s\tremaining: 2m 24s\n",
      "616:\tlearn: 3.8793308\ttotal: 5m 13s\tremaining: 2m 23s\n",
      "617:\tlearn: 3.8792787\ttotal: 5m 13s\tremaining: 2m 23s\n",
      "618:\tlearn: 3.8792273\ttotal: 5m 14s\tremaining: 2m 22s\n",
      "619:\tlearn: 3.8790208\ttotal: 5m 14s\tremaining: 2m 22s\n",
      "620:\tlearn: 3.8789492\ttotal: 5m 15s\tremaining: 2m 21s\n",
      "621:\tlearn: 3.8785127\ttotal: 5m 15s\tremaining: 2m 21s\n",
      "622:\tlearn: 3.8783795\ttotal: 5m 16s\tremaining: 2m 20s\n",
      "623:\tlearn: 3.8781524\ttotal: 5m 16s\tremaining: 2m 20s\n",
      "624:\tlearn: 3.8780529\ttotal: 5m 17s\tremaining: 2m 19s\n",
      "625:\tlearn: 3.8779123\ttotal: 5m 17s\tremaining: 2m 19s\n",
      "626:\tlearn: 3.8777945\ttotal: 5m 18s\tremaining: 2m 18s\n",
      "627:\tlearn: 3.8776856\ttotal: 5m 18s\tremaining: 2m 18s\n",
      "628:\tlearn: 3.8776077\ttotal: 5m 19s\tremaining: 2m 17s\n",
      "629:\tlearn: 3.8775130\ttotal: 5m 19s\tremaining: 2m 17s\n",
      "630:\tlearn: 3.8773874\ttotal: 5m 20s\tremaining: 2m 16s\n",
      "631:\tlearn: 3.8773505\ttotal: 5m 20s\tremaining: 2m 16s\n",
      "632:\tlearn: 3.8770352\ttotal: 5m 21s\tremaining: 2m 15s\n",
      "633:\tlearn: 3.8768868\ttotal: 5m 21s\tremaining: 2m 15s\n",
      "634:\tlearn: 3.8766562\ttotal: 5m 22s\tremaining: 2m 14s\n",
      "635:\tlearn: 3.8764510\ttotal: 5m 22s\tremaining: 2m 14s\n",
      "636:\tlearn: 3.8763575\ttotal: 5m 23s\tremaining: 2m 13s\n",
      "637:\tlearn: 3.8762152\ttotal: 5m 23s\tremaining: 2m 13s\n",
      "638:\tlearn: 3.8760160\ttotal: 5m 24s\tremaining: 2m 12s\n",
      "639:\tlearn: 3.8755923\ttotal: 5m 24s\tremaining: 2m 12s\n",
      "640:\tlearn: 3.8754705\ttotal: 5m 25s\tremaining: 2m 11s\n",
      "641:\tlearn: 3.8753426\ttotal: 5m 25s\tremaining: 2m 10s\n",
      "642:\tlearn: 3.8751752\ttotal: 5m 26s\tremaining: 2m 10s\n",
      "643:\tlearn: 3.8750421\ttotal: 5m 26s\tremaining: 2m 9s\n",
      "644:\tlearn: 3.8748739\ttotal: 5m 27s\tremaining: 2m 9s\n",
      "645:\tlearn: 3.8746882\ttotal: 5m 27s\tremaining: 2m 8s\n",
      "646:\tlearn: 3.8744946\ttotal: 5m 28s\tremaining: 2m 8s\n",
      "647:\tlearn: 3.8743954\ttotal: 5m 28s\tremaining: 2m 7s\n",
      "648:\tlearn: 3.8743086\ttotal: 5m 29s\tremaining: 2m 7s\n",
      "649:\tlearn: 3.8741481\ttotal: 5m 29s\tremaining: 2m 6s\n",
      "650:\tlearn: 3.8740503\ttotal: 5m 30s\tremaining: 2m 6s\n",
      "651:\tlearn: 3.8739391\ttotal: 5m 30s\tremaining: 2m 5s\n",
      "652:\tlearn: 3.8738525\ttotal: 5m 31s\tremaining: 2m 5s\n",
      "653:\tlearn: 3.8737307\ttotal: 5m 31s\tremaining: 2m 4s\n",
      "654:\tlearn: 3.8736399\ttotal: 5m 32s\tremaining: 2m 4s\n",
      "655:\tlearn: 3.8735305\ttotal: 5m 32s\tremaining: 2m 3s\n",
      "656:\tlearn: 3.8734011\ttotal: 5m 33s\tremaining: 2m 3s\n",
      "657:\tlearn: 3.8732258\ttotal: 5m 34s\tremaining: 2m 2s\n",
      "658:\tlearn: 3.8730839\ttotal: 5m 34s\tremaining: 2m 2s\n",
      "659:\tlearn: 3.8730073\ttotal: 5m 35s\tremaining: 2m 1s\n",
      "660:\tlearn: 3.8728668\ttotal: 5m 35s\tremaining: 2m 1s\n",
      "661:\tlearn: 3.8727570\ttotal: 5m 36s\tremaining: 2m\n",
      "662:\tlearn: 3.8726041\ttotal: 5m 36s\tremaining: 2m\n",
      "663:\tlearn: 3.8725264\ttotal: 5m 37s\tremaining: 1m 59s\n",
      "664:\tlearn: 3.8724125\ttotal: 5m 37s\tremaining: 1m 59s\n",
      "665:\tlearn: 3.8723227\ttotal: 5m 38s\tremaining: 1m 58s\n",
      "666:\tlearn: 3.8722279\ttotal: 5m 38s\tremaining: 1m 58s\n",
      "667:\tlearn: 3.8721396\ttotal: 5m 39s\tremaining: 1m 57s\n",
      "668:\tlearn: 3.8719294\ttotal: 5m 39s\tremaining: 1m 57s\n",
      "669:\tlearn: 3.8717417\ttotal: 5m 40s\tremaining: 1m 56s\n",
      "670:\tlearn: 3.8716519\ttotal: 5m 40s\tremaining: 1m 56s\n",
      "671:\tlearn: 3.8713832\ttotal: 5m 41s\tremaining: 1m 55s\n",
      "672:\tlearn: 3.8712664\ttotal: 5m 41s\tremaining: 1m 55s\n",
      "673:\tlearn: 3.8711848\ttotal: 5m 42s\tremaining: 1m 54s\n",
      "674:\tlearn: 3.8710773\ttotal: 5m 42s\tremaining: 1m 54s\n",
      "675:\tlearn: 3.8709400\ttotal: 5m 43s\tremaining: 1m 53s\n",
      "676:\tlearn: 3.8708066\ttotal: 5m 43s\tremaining: 1m 53s\n",
      "677:\tlearn: 3.8706913\ttotal: 5m 44s\tremaining: 1m 52s\n",
      "678:\tlearn: 3.8706063\ttotal: 5m 44s\tremaining: 1m 52s\n",
      "679:\tlearn: 3.8704516\ttotal: 5m 45s\tremaining: 1m 51s\n",
      "680:\tlearn: 3.8702431\ttotal: 5m 45s\tremaining: 1m 51s\n",
      "681:\tlearn: 3.8701447\ttotal: 5m 46s\tremaining: 1m 50s\n",
      "682:\tlearn: 3.8700856\ttotal: 5m 46s\tremaining: 1m 50s\n",
      "683:\tlearn: 3.8700680\ttotal: 5m 47s\tremaining: 1m 49s\n",
      "684:\tlearn: 3.8699955\ttotal: 5m 48s\tremaining: 1m 49s\n",
      "685:\tlearn: 3.8698804\ttotal: 5m 48s\tremaining: 1m 48s\n",
      "686:\tlearn: 3.8697590\ttotal: 5m 49s\tremaining: 1m 48s\n",
      "687:\tlearn: 3.8696562\ttotal: 5m 49s\tremaining: 1m 47s\n",
      "688:\tlearn: 3.8695707\ttotal: 5m 50s\tremaining: 1m 47s\n",
      "689:\tlearn: 3.8694187\ttotal: 5m 50s\tremaining: 1m 46s\n",
      "690:\tlearn: 3.8693164\ttotal: 5m 51s\tremaining: 1m 46s\n",
      "691:\tlearn: 3.8691330\ttotal: 5m 51s\tremaining: 1m 45s\n",
      "692:\tlearn: 3.8690281\ttotal: 5m 52s\tremaining: 1m 45s\n",
      "693:\tlearn: 3.8688903\ttotal: 5m 52s\tremaining: 1m 44s\n",
      "694:\tlearn: 3.8686053\ttotal: 5m 53s\tremaining: 1m 44s\n",
      "695:\tlearn: 3.8684564\ttotal: 5m 53s\tremaining: 1m 43s\n",
      "696:\tlearn: 3.8682629\ttotal: 5m 54s\tremaining: 1m 43s\n",
      "697:\tlearn: 3.8681028\ttotal: 5m 54s\tremaining: 1m 42s\n",
      "698:\tlearn: 3.8680709\ttotal: 5m 55s\tremaining: 1m 42s\n",
      "699:\tlearn: 3.8679311\ttotal: 5m 55s\tremaining: 1m 41s\n",
      "700:\tlearn: 3.8678317\ttotal: 5m 56s\tremaining: 1m 41s\n",
      "701:\tlearn: 3.8676853\ttotal: 5m 56s\tremaining: 1m 40s\n",
      "702:\tlearn: 3.8676632\ttotal: 5m 57s\tremaining: 1m 40s\n",
      "703:\tlearn: 3.8675430\ttotal: 5m 57s\tremaining: 1m 39s\n",
      "704:\tlearn: 3.8674245\ttotal: 5m 58s\tremaining: 1m 39s\n",
      "705:\tlearn: 3.8673472\ttotal: 5m 58s\tremaining: 1m 38s\n",
      "706:\tlearn: 3.8672217\ttotal: 5m 59s\tremaining: 1m 38s\n",
      "707:\tlearn: 3.8671040\ttotal: 5m 59s\tremaining: 1m 37s\n",
      "708:\tlearn: 3.8669356\ttotal: 6m\tremaining: 1m 37s\n",
      "709:\tlearn: 3.8668260\ttotal: 6m\tremaining: 1m 36s\n",
      "710:\tlearn: 3.8667173\ttotal: 6m 1s\tremaining: 1m 35s\n",
      "711:\tlearn: 3.8666356\ttotal: 6m 1s\tremaining: 1m 35s\n",
      "712:\tlearn: 3.8663549\ttotal: 6m 2s\tremaining: 1m 34s\n",
      "713:\tlearn: 3.8663088\ttotal: 6m 2s\tremaining: 1m 34s\n",
      "714:\tlearn: 3.8661636\ttotal: 6m 3s\tremaining: 1m 33s\n",
      "715:\tlearn: 3.8660643\ttotal: 6m 3s\tremaining: 1m 33s\n",
      "716:\tlearn: 3.8658451\ttotal: 6m 4s\tremaining: 1m 32s\n",
      "717:\tlearn: 3.8657407\ttotal: 6m 4s\tremaining: 1m 32s\n",
      "718:\tlearn: 3.8656686\ttotal: 6m 5s\tremaining: 1m 31s\n",
      "719:\tlearn: 3.8655917\ttotal: 6m 5s\tremaining: 1m 31s\n",
      "720:\tlearn: 3.8654656\ttotal: 6m 6s\tremaining: 1m 30s\n",
      "721:\tlearn: 3.8652382\ttotal: 6m 6s\tremaining: 1m 30s\n",
      "722:\tlearn: 3.8650580\ttotal: 6m 7s\tremaining: 1m 29s\n",
      "723:\tlearn: 3.8649666\ttotal: 6m 7s\tremaining: 1m 29s\n",
      "724:\tlearn: 3.8648803\ttotal: 6m 8s\tremaining: 1m 28s\n",
      "725:\tlearn: 3.8647780\ttotal: 6m 8s\tremaining: 1m 28s\n",
      "726:\tlearn: 3.8646298\ttotal: 6m 9s\tremaining: 1m 27s\n",
      "727:\tlearn: 3.8643736\ttotal: 6m 9s\tremaining: 1m 27s\n",
      "728:\tlearn: 3.8640352\ttotal: 6m 10s\tremaining: 1m 26s\n",
      "729:\tlearn: 3.8637564\ttotal: 6m 10s\tremaining: 1m 26s\n",
      "730:\tlearn: 3.8636477\ttotal: 6m 11s\tremaining: 1m 25s\n",
      "731:\tlearn: 3.8635848\ttotal: 6m 11s\tremaining: 1m 25s\n",
      "732:\tlearn: 3.8634945\ttotal: 6m 12s\tremaining: 1m 24s\n",
      "733:\tlearn: 3.8633683\ttotal: 6m 12s\tremaining: 1m 24s\n",
      "734:\tlearn: 3.8632803\ttotal: 6m 13s\tremaining: 1m 23s\n",
      "735:\tlearn: 3.8630493\ttotal: 6m 14s\tremaining: 1m 23s\n",
      "736:\tlearn: 3.8629539\ttotal: 6m 14s\tremaining: 1m 22s\n",
      "737:\tlearn: 3.8628583\ttotal: 6m 15s\tremaining: 1m 22s\n",
      "738:\tlearn: 3.8627680\ttotal: 6m 15s\tremaining: 1m 21s\n",
      "739:\tlearn: 3.8627448\ttotal: 6m 16s\tremaining: 1m 21s\n",
      "740:\tlearn: 3.8624351\ttotal: 6m 16s\tremaining: 1m 20s\n",
      "741:\tlearn: 3.8622705\ttotal: 6m 17s\tremaining: 1m 20s\n",
      "742:\tlearn: 3.8622415\ttotal: 6m 17s\tremaining: 1m 19s\n",
      "743:\tlearn: 3.8621849\ttotal: 6m 18s\tremaining: 1m 19s\n",
      "744:\tlearn: 3.8621328\ttotal: 6m 18s\tremaining: 1m 18s\n",
      "745:\tlearn: 3.8619972\ttotal: 6m 19s\tremaining: 1m 18s\n",
      "746:\tlearn: 3.8619087\ttotal: 6m 19s\tremaining: 1m 17s\n",
      "747:\tlearn: 3.8617653\ttotal: 6m 20s\tremaining: 1m 17s\n",
      "748:\tlearn: 3.8616362\ttotal: 6m 20s\tremaining: 1m 16s\n",
      "749:\tlearn: 3.8615220\ttotal: 6m 21s\tremaining: 1m 16s\n",
      "750:\tlearn: 3.8613755\ttotal: 6m 21s\tremaining: 1m 15s\n",
      "751:\tlearn: 3.8613431\ttotal: 6m 22s\tremaining: 1m 15s\n",
      "752:\tlearn: 3.8612972\ttotal: 6m 22s\tremaining: 1m 14s\n",
      "753:\tlearn: 3.8611144\ttotal: 6m 23s\tremaining: 1m 14s\n",
      "754:\tlearn: 3.8609645\ttotal: 6m 23s\tremaining: 1m 13s\n",
      "755:\tlearn: 3.8608347\ttotal: 6m 24s\tremaining: 1m 13s\n",
      "756:\tlearn: 3.8608083\ttotal: 6m 24s\tremaining: 1m 12s\n",
      "757:\tlearn: 3.8606513\ttotal: 6m 25s\tremaining: 1m 12s\n",
      "758:\tlearn: 3.8605463\ttotal: 6m 25s\tremaining: 1m 11s\n",
      "759:\tlearn: 3.8604512\ttotal: 6m 26s\tremaining: 1m 11s\n",
      "760:\tlearn: 3.8603879\ttotal: 6m 26s\tremaining: 1m 10s\n",
      "761:\tlearn: 3.8603419\ttotal: 6m 27s\tremaining: 1m 10s\n",
      "762:\tlearn: 3.8602779\ttotal: 6m 27s\tremaining: 1m 9s\n",
      "763:\tlearn: 3.8601846\ttotal: 6m 28s\tremaining: 1m 9s\n",
      "764:\tlearn: 3.8600496\ttotal: 6m 28s\tremaining: 1m 8s\n",
      "765:\tlearn: 3.8599564\ttotal: 6m 29s\tremaining: 1m 8s\n",
      "766:\tlearn: 3.8598191\ttotal: 6m 29s\tremaining: 1m 7s\n",
      "767:\tlearn: 3.8596906\ttotal: 6m 30s\tremaining: 1m 7s\n",
      "768:\tlearn: 3.8596209\ttotal: 6m 30s\tremaining: 1m 6s\n",
      "769:\tlearn: 3.8594920\ttotal: 6m 31s\tremaining: 1m 6s\n",
      "770:\tlearn: 3.8594073\ttotal: 6m 31s\tremaining: 1m 5s\n",
      "771:\tlearn: 3.8593377\ttotal: 6m 32s\tremaining: 1m 5s\n",
      "772:\tlearn: 3.8592511\ttotal: 6m 32s\tremaining: 1m 4s\n",
      "773:\tlearn: 3.8589956\ttotal: 6m 33s\tremaining: 1m 4s\n",
      "774:\tlearn: 3.8589166\ttotal: 6m 33s\tremaining: 1m 3s\n",
      "775:\tlearn: 3.8588411\ttotal: 6m 34s\tremaining: 1m 2s\n",
      "776:\tlearn: 3.8586824\ttotal: 6m 34s\tremaining: 1m 2s\n",
      "777:\tlearn: 3.8586626\ttotal: 6m 35s\tremaining: 1m 1s\n",
      "778:\tlearn: 3.8585229\ttotal: 6m 35s\tremaining: 1m 1s\n",
      "779:\tlearn: 3.8583297\ttotal: 6m 36s\tremaining: 1m\n",
      "780:\tlearn: 3.8583076\ttotal: 6m 36s\tremaining: 1m\n",
      "781:\tlearn: 3.8581987\ttotal: 6m 37s\tremaining: 60s\n",
      "782:\tlearn: 3.8580913\ttotal: 6m 37s\tremaining: 59.4s\n",
      "783:\tlearn: 3.8580102\ttotal: 6m 38s\tremaining: 58.9s\n",
      "784:\tlearn: 3.8579176\ttotal: 6m 38s\tremaining: 58.4s\n",
      "785:\tlearn: 3.8578049\ttotal: 6m 39s\tremaining: 57.9s\n",
      "786:\tlearn: 3.8577134\ttotal: 6m 39s\tremaining: 57.4s\n",
      "787:\tlearn: 3.8576125\ttotal: 6m 40s\tremaining: 56.9s\n",
      "788:\tlearn: 3.8575693\ttotal: 6m 40s\tremaining: 56.4s\n",
      "789:\tlearn: 3.8573945\ttotal: 6m 41s\tremaining: 55.9s\n",
      "790:\tlearn: 3.8572642\ttotal: 6m 41s\tremaining: 55.4s\n",
      "791:\tlearn: 3.8571452\ttotal: 6m 42s\tremaining: 54.9s\n",
      "792:\tlearn: 3.8569730\ttotal: 6m 42s\tremaining: 54.4s\n",
      "793:\tlearn: 3.8569142\ttotal: 6m 43s\tremaining: 53.9s\n",
      "794:\tlearn: 3.8567951\ttotal: 6m 43s\tremaining: 53.4s\n",
      "795:\tlearn: 3.8566811\ttotal: 6m 44s\tremaining: 52.8s\n",
      "796:\tlearn: 3.8565785\ttotal: 6m 44s\tremaining: 52.3s\n",
      "797:\tlearn: 3.8565019\ttotal: 6m 45s\tremaining: 51.8s\n",
      "798:\tlearn: 3.8563821\ttotal: 6m 45s\tremaining: 51.3s\n",
      "799:\tlearn: 3.8562708\ttotal: 6m 46s\tremaining: 50.8s\n",
      "800:\tlearn: 3.8561743\ttotal: 6m 46s\tremaining: 50.3s\n",
      "801:\tlearn: 3.8560629\ttotal: 6m 47s\tremaining: 49.8s\n",
      "802:\tlearn: 3.8559700\ttotal: 6m 48s\tremaining: 49.3s\n",
      "803:\tlearn: 3.8558676\ttotal: 6m 48s\tremaining: 48.8s\n",
      "804:\tlearn: 3.8557856\ttotal: 6m 49s\tremaining: 48.3s\n",
      "805:\tlearn: 3.8556925\ttotal: 6m 49s\tremaining: 47.8s\n",
      "806:\tlearn: 3.8555715\ttotal: 6m 50s\tremaining: 47.3s\n",
      "807:\tlearn: 3.8554841\ttotal: 6m 50s\tremaining: 46.7s\n",
      "808:\tlearn: 3.8554265\ttotal: 6m 51s\tremaining: 46.2s\n",
      "809:\tlearn: 3.8553679\ttotal: 6m 51s\tremaining: 45.7s\n",
      "810:\tlearn: 3.8553396\ttotal: 6m 52s\tremaining: 45.2s\n",
      "811:\tlearn: 3.8552543\ttotal: 6m 52s\tremaining: 44.7s\n",
      "812:\tlearn: 3.8551403\ttotal: 6m 53s\tremaining: 44.2s\n",
      "813:\tlearn: 3.8549881\ttotal: 6m 53s\tremaining: 43.7s\n",
      "814:\tlearn: 3.8548566\ttotal: 6m 54s\tremaining: 43.2s\n",
      "815:\tlearn: 3.8547822\ttotal: 6m 54s\tremaining: 42.7s\n",
      "816:\tlearn: 3.8547151\ttotal: 6m 55s\tremaining: 42.2s\n",
      "817:\tlearn: 3.8546333\ttotal: 6m 55s\tremaining: 41.7s\n",
      "818:\tlearn: 3.8545700\ttotal: 6m 56s\tremaining: 41.1s\n",
      "819:\tlearn: 3.8544409\ttotal: 6m 56s\tremaining: 40.6s\n",
      "820:\tlearn: 3.8542151\ttotal: 6m 57s\tremaining: 40.1s\n",
      "821:\tlearn: 3.8541240\ttotal: 6m 57s\tremaining: 39.6s\n",
      "822:\tlearn: 3.8539452\ttotal: 6m 58s\tremaining: 39.1s\n",
      "823:\tlearn: 3.8539077\ttotal: 6m 58s\tremaining: 38.6s\n",
      "824:\tlearn: 3.8538033\ttotal: 6m 59s\tremaining: 38.1s\n",
      "825:\tlearn: 3.8537214\ttotal: 6m 59s\tremaining: 37.6s\n",
      "826:\tlearn: 3.8536281\ttotal: 7m\tremaining: 37.1s\n",
      "827:\tlearn: 3.8535499\ttotal: 7m\tremaining: 36.6s\n",
      "828:\tlearn: 3.8535121\ttotal: 7m 1s\tremaining: 36.1s\n",
      "829:\tlearn: 3.8534530\ttotal: 7m 1s\tremaining: 35.6s\n",
      "830:\tlearn: 3.8533751\ttotal: 7m 2s\tremaining: 35.1s\n",
      "831:\tlearn: 3.8531490\ttotal: 7m 2s\tremaining: 34.5s\n",
      "832:\tlearn: 3.8530361\ttotal: 7m 3s\tremaining: 34s\n",
      "833:\tlearn: 3.8529684\ttotal: 7m 3s\tremaining: 33.5s\n",
      "834:\tlearn: 3.8528031\ttotal: 7m 4s\tremaining: 33s\n",
      "835:\tlearn: 3.8526779\ttotal: 7m 4s\tremaining: 32.5s\n",
      "836:\tlearn: 3.8525936\ttotal: 7m 5s\tremaining: 32s\n",
      "837:\tlearn: 3.8524860\ttotal: 7m 5s\tremaining: 31.5s\n",
      "838:\tlearn: 3.8524183\ttotal: 7m 6s\tremaining: 31s\n",
      "839:\tlearn: 3.8523602\ttotal: 7m 6s\tremaining: 30.5s\n",
      "840:\tlearn: 3.8522530\ttotal: 7m 7s\tremaining: 30s\n",
      "841:\tlearn: 3.8521454\ttotal: 7m 7s\tremaining: 29.5s\n",
      "842:\tlearn: 3.8520633\ttotal: 7m 8s\tremaining: 29s\n",
      "843:\tlearn: 3.8519354\ttotal: 7m 8s\tremaining: 28.5s\n",
      "844:\tlearn: 3.8518486\ttotal: 7m 9s\tremaining: 27.9s\n",
      "845:\tlearn: 3.8517910\ttotal: 7m 9s\tremaining: 27.4s\n",
      "846:\tlearn: 3.8517045\ttotal: 7m 10s\tremaining: 26.9s\n",
      "847:\tlearn: 3.8515509\ttotal: 7m 10s\tremaining: 26.4s\n",
      "848:\tlearn: 3.8514875\ttotal: 7m 11s\tremaining: 25.9s\n",
      "849:\tlearn: 3.8514167\ttotal: 7m 11s\tremaining: 25.4s\n",
      "850:\tlearn: 3.8512835\ttotal: 7m 12s\tremaining: 24.9s\n",
      "851:\tlearn: 3.8509862\ttotal: 7m 13s\tremaining: 24.4s\n",
      "852:\tlearn: 3.8509125\ttotal: 7m 13s\tremaining: 23.9s\n",
      "853:\tlearn: 3.8508929\ttotal: 7m 14s\tremaining: 23.4s\n",
      "854:\tlearn: 3.8506965\ttotal: 7m 14s\tremaining: 22.9s\n",
      "855:\tlearn: 3.8505349\ttotal: 7m 15s\tremaining: 22.4s\n",
      "856:\tlearn: 3.8504490\ttotal: 7m 15s\tremaining: 21.9s\n",
      "857:\tlearn: 3.8502282\ttotal: 7m 16s\tremaining: 21.3s\n",
      "858:\tlearn: 3.8501612\ttotal: 7m 16s\tremaining: 20.8s\n",
      "859:\tlearn: 3.8501343\ttotal: 7m 17s\tremaining: 20.3s\n",
      "860:\tlearn: 3.8499006\ttotal: 7m 17s\tremaining: 19.8s\n",
      "861:\tlearn: 3.8498428\ttotal: 7m 18s\tremaining: 19.3s\n",
      "862:\tlearn: 3.8497418\ttotal: 7m 18s\tremaining: 18.8s\n",
      "863:\tlearn: 3.8496609\ttotal: 7m 19s\tremaining: 18.3s\n",
      "864:\tlearn: 3.8495340\ttotal: 7m 19s\tremaining: 17.8s\n",
      "865:\tlearn: 3.8494726\ttotal: 7m 20s\tremaining: 17.3s\n",
      "866:\tlearn: 3.8493854\ttotal: 7m 20s\tremaining: 16.8s\n",
      "867:\tlearn: 3.8492339\ttotal: 7m 21s\tremaining: 16.3s\n",
      "868:\tlearn: 3.8491423\ttotal: 7m 21s\tremaining: 15.8s\n",
      "869:\tlearn: 3.8490086\ttotal: 7m 22s\tremaining: 15.2s\n",
      "870:\tlearn: 3.8489377\ttotal: 7m 22s\tremaining: 14.7s\n",
      "871:\tlearn: 3.8488819\ttotal: 7m 23s\tremaining: 14.2s\n",
      "872:\tlearn: 3.8486873\ttotal: 7m 23s\tremaining: 13.7s\n",
      "873:\tlearn: 3.8485836\ttotal: 7m 24s\tremaining: 13.2s\n",
      "874:\tlearn: 3.8485096\ttotal: 7m 24s\tremaining: 12.7s\n",
      "875:\tlearn: 3.8484118\ttotal: 7m 25s\tremaining: 12.2s\n",
      "876:\tlearn: 3.8483116\ttotal: 7m 25s\tremaining: 11.7s\n",
      "877:\tlearn: 3.8482534\ttotal: 7m 26s\tremaining: 11.2s\n",
      "878:\tlearn: 3.8481717\ttotal: 7m 26s\tremaining: 10.7s\n",
      "879:\tlearn: 3.8480788\ttotal: 7m 27s\tremaining: 10.2s\n",
      "880:\tlearn: 3.8479573\ttotal: 7m 27s\tremaining: 9.65s\n",
      "881:\tlearn: 3.8478719\ttotal: 7m 28s\tremaining: 9.15s\n",
      "882:\tlearn: 3.8477394\ttotal: 7m 28s\tremaining: 8.64s\n",
      "883:\tlearn: 3.8477043\ttotal: 7m 29s\tremaining: 8.13s\n",
      "884:\tlearn: 3.8476126\ttotal: 7m 29s\tremaining: 7.62s\n",
      "885:\tlearn: 3.8475417\ttotal: 7m 30s\tremaining: 7.11s\n",
      "886:\tlearn: 3.8473997\ttotal: 7m 30s\tremaining: 6.61s\n",
      "887:\tlearn: 3.8473033\ttotal: 7m 31s\tremaining: 6.1s\n",
      "888:\tlearn: 3.8471630\ttotal: 7m 31s\tremaining: 5.59s\n",
      "889:\tlearn: 3.8471042\ttotal: 7m 32s\tremaining: 5.08s\n",
      "890:\tlearn: 3.8469857\ttotal: 7m 32s\tremaining: 4.57s\n",
      "891:\tlearn: 3.8469080\ttotal: 7m 33s\tremaining: 4.07s\n",
      "892:\tlearn: 3.8467813\ttotal: 7m 33s\tremaining: 3.56s\n",
      "893:\tlearn: 3.8467041\ttotal: 7m 34s\tremaining: 3.05s\n",
      "894:\tlearn: 3.8466215\ttotal: 7m 34s\tremaining: 2.54s\n",
      "895:\tlearn: 3.8466111\ttotal: 7m 35s\tremaining: 2.03s\n",
      "896:\tlearn: 3.8463786\ttotal: 7m 35s\tremaining: 1.52s\n",
      "897:\tlearn: 3.8462683\ttotal: 7m 36s\tremaining: 1.02s\n",
      "898:\tlearn: 3.8461494\ttotal: 7m 36s\tremaining: 508ms\n",
      "899:\tlearn: 3.8460457\ttotal: 7m 37s\tremaining: 0us\n"
     ]
    },
    {
     "data": {
      "text/plain": [
       "<catboost.core.CatBoostRegressor at 0x7f34e8c2a310>"
      ]
     },
     "execution_count": 61,
     "metadata": {},
     "output_type": "execute_result"
    }
   ],
   "source": [
    "from catboost import CatBoostRegressor\n",
    "cbr = CatBoostRegressor(learning_rate=0.1, max_depth=10, n_estimators=900, subsample=0.5)\n",
    "cbr.fit(X_train, Y_train)"
   ]
  },
  {
   "cell_type": "code",
   "execution_count": 62,
   "id": "229b84e7",
   "metadata": {
    "execution": {
     "iopub.execute_input": "2022-07-27T16:19:14.197604Z",
     "iopub.status.busy": "2022-07-27T16:19:14.197365Z",
     "iopub.status.idle": "2022-07-27T16:19:20.557195Z",
     "shell.execute_reply": "2022-07-27T16:19:20.556583Z"
    },
    "papermill": {
     "duration": 6.843834,
     "end_time": "2022-07-27T16:19:20.559020",
     "exception": false,
     "start_time": "2022-07-27T16:19:13.715186",
     "status": "completed"
    },
    "tags": []
   },
   "outputs": [],
   "source": [
    "cat_pred_test = cbr.predict(X_test)\n",
    "cat_pred_train = cbr.predict(X_train)"
   ]
  },
  {
   "cell_type": "code",
   "execution_count": 63,
   "id": "a00064f3",
   "metadata": {
    "execution": {
     "iopub.execute_input": "2022-07-27T16:19:21.282101Z",
     "iopub.status.busy": "2022-07-27T16:19:21.281236Z",
     "iopub.status.idle": "2022-07-27T16:19:21.363121Z",
     "shell.execute_reply": "2022-07-27T16:19:21.362365Z"
    },
    "papermill": {
     "duration": 0.439584,
     "end_time": "2022-07-27T16:19:21.365177",
     "exception": false,
     "start_time": "2022-07-27T16:19:20.925593",
     "status": "completed"
    },
    "tags": []
   },
   "outputs": [],
   "source": [
    "cat_MAPE_test = mean_absolute_error(Y_test,cat_pred_test)\n",
    "cat_MAPE_train = mean_absolute_error(Y_train,cat_pred_train)\n",
    "\n",
    "cat_R2_train = r2_score(Y_train,cat_pred_train)\n",
    "cat_R2_test = r2_score(Y_test,cat_pred_test)\n",
    "\n",
    "cat_MAE_test = mean_absolute_error(Y_test,cat_pred_test)\n",
    "cat_MAE_train = mean_absolute_error(Y_train,cat_pred_train)"
   ]
  },
  {
   "cell_type": "code",
   "execution_count": 64,
   "id": "86892b26",
   "metadata": {
    "execution": {
     "iopub.execute_input": "2022-07-27T16:19:22.089279Z",
     "iopub.status.busy": "2022-07-27T16:19:22.089000Z",
     "iopub.status.idle": "2022-07-27T16:19:28.632216Z",
     "shell.execute_reply": "2022-07-27T16:19:28.631185Z"
    },
    "papermill": {
     "duration": 6.902457,
     "end_time": "2022-07-27T16:19:28.634412",
     "exception": false,
     "start_time": "2022-07-27T16:19:21.731955",
     "status": "completed"
    },
    "tags": []
   },
   "outputs": [
    {
     "name": "stdout",
     "output_type": "stream",
     "text": [
      "train r2_score :  0.775036683672321\n",
      "test r2_score :  0.7726600493483693\n",
      "train mape score :  1.9637596887695312\n",
      "test mape score :  1.9739024725494316\n",
      "train MAE score : 1.9637596887695312\n",
      "test MAE score : 1.9739024725494316\n",
      "0.775036683672321 0.7726600493483693\n"
     ]
    }
   ],
   "source": [
    "print(\"train r2_score : \",cat_R2_train)\n",
    "print(\"test r2_score : \",cat_R2_test)\n",
    "\n",
    "print(\"train mape score : \",cat_MAPE_train)\n",
    "print(\"test mape score : \",cat_MAPE_test)\n",
    "\n",
    "print(\"train MAE score :\",cat_MAE_train)\n",
    "print(\"test MAE score :\",cat_MAE_test)\n",
    "\n",
    "cat_model_score_test = cbr.score(X_test, Y_test)\n",
    "cat_model_score_train = cbr.score(X_train, Y_train)\n",
    "print(cat_model_score_train,cat_model_score_test)"
   ]
  },
  {
   "cell_type": "code",
   "execution_count": 65,
   "id": "29460144",
   "metadata": {
    "execution": {
     "iopub.execute_input": "2022-07-27T16:19:29.350154Z",
     "iopub.status.busy": "2022-07-27T16:19:29.349729Z",
     "iopub.status.idle": "2022-07-27T16:19:29.360658Z",
     "shell.execute_reply": "2022-07-27T16:19:29.360280Z"
    },
    "papermill": {
     "duration": 0.372195,
     "end_time": "2022-07-27T16:19:29.362405",
     "exception": false,
     "start_time": "2022-07-27T16:19:28.990210",
     "status": "completed"
    },
    "tags": []
   },
   "outputs": [
    {
     "data": {
      "text/html": [
       "<div>\n",
       "<style scoped>\n",
       "    .dataframe tbody tr th:only-of-type {\n",
       "        vertical-align: middle;\n",
       "    }\n",
       "\n",
       "    .dataframe tbody tr th {\n",
       "        vertical-align: top;\n",
       "    }\n",
       "\n",
       "    .dataframe thead th {\n",
       "        text-align: right;\n",
       "    }\n",
       "</style>\n",
       "<table border=\"1\" class=\"dataframe\">\n",
       "  <thead>\n",
       "    <tr style=\"text-align: right;\">\n",
       "      <th></th>\n",
       "      <th>R Squared Score</th>\n",
       "      <th>MAPE Score</th>\n",
       "      <th>MAE Score</th>\n",
       "      <th>Model Score</th>\n",
       "    </tr>\n",
       "  </thead>\n",
       "  <tbody>\n",
       "    <tr>\n",
       "      <th>Linear Regression</th>\n",
       "      <td>0.384305</td>\n",
       "      <td>48.856114</td>\n",
       "      <td>3.946457</td>\n",
       "      <td>0.384305</td>\n",
       "    </tr>\n",
       "    <tr>\n",
       "      <th>Decision Tree Regressor</th>\n",
       "      <td>0.658159</td>\n",
       "      <td>32.278396</td>\n",
       "      <td>2.603046</td>\n",
       "      <td>0.658159</td>\n",
       "    </tr>\n",
       "    <tr>\n",
       "      <th>XGBoost Regressor</th>\n",
       "      <td>0.740214</td>\n",
       "      <td>2.129001</td>\n",
       "      <td>2.129001</td>\n",
       "      <td>0.740214</td>\n",
       "    </tr>\n",
       "    <tr>\n",
       "      <th>Light Gradient Boosted Machine</th>\n",
       "      <td>0.741624</td>\n",
       "      <td>2.158004</td>\n",
       "      <td>2.158004</td>\n",
       "      <td>0.741624</td>\n",
       "    </tr>\n",
       "    <tr>\n",
       "      <th>CatBoost Regressor</th>\n",
       "      <td>0.775037</td>\n",
       "      <td>1.963760</td>\n",
       "      <td>1.963760</td>\n",
       "      <td>0.775037</td>\n",
       "    </tr>\n",
       "  </tbody>\n",
       "</table>\n",
       "</div>"
      ],
      "text/plain": [
       "                                R Squared Score  MAPE Score  MAE Score  \\\n",
       "Linear Regression                      0.384305   48.856114   3.946457   \n",
       "Decision Tree Regressor                0.658159   32.278396   2.603046   \n",
       "XGBoost Regressor                      0.740214    2.129001   2.129001   \n",
       "Light Gradient Boosted Machine         0.741624    2.158004   2.158004   \n",
       "CatBoost Regressor                     0.775037    1.963760   1.963760   \n",
       "\n",
       "                                Model Score  \n",
       "Linear Regression                  0.384305  \n",
       "Decision Tree Regressor            0.658159  \n",
       "XGBoost Regressor                  0.740214  \n",
       "Light Gradient Boosted Machine     0.741624  \n",
       "CatBoost Regressor                 0.775037  "
      ]
     },
     "execution_count": 65,
     "metadata": {},
     "output_type": "execute_result"
    }
   ],
   "source": [
    "resultsCBR_train = pd.DataFrame({'R Squared Score': cat_R2_train,\n",
    "                          'MAPE Score':cat_MAPE_train,\n",
    "                            'MAE Score':cat_MAE_train,\n",
    "                         'Model Score':cat_model_score_train}\n",
    "                           ,index=['CatBoost Regressor'])\n",
    "\n",
    "results4_train = pd.concat([resultsLR_train,resultsDT_train,resultsXGB_train,resultsLGBMR_train,resultsCBR_train])\n",
    "\n",
    "results4_train"
   ]
  },
  {
   "cell_type": "code",
   "execution_count": 66,
   "id": "36b71913",
   "metadata": {
    "execution": {
     "iopub.execute_input": "2022-07-27T16:19:30.086598Z",
     "iopub.status.busy": "2022-07-27T16:19:30.086204Z",
     "iopub.status.idle": "2022-07-27T16:19:30.096587Z",
     "shell.execute_reply": "2022-07-27T16:19:30.096002Z"
    },
    "papermill": {
     "duration": 0.368015,
     "end_time": "2022-07-27T16:19:30.097904",
     "exception": false,
     "start_time": "2022-07-27T16:19:29.729889",
     "status": "completed"
    },
    "tags": []
   },
   "outputs": [
    {
     "data": {
      "text/html": [
       "<div>\n",
       "<style scoped>\n",
       "    .dataframe tbody tr th:only-of-type {\n",
       "        vertical-align: middle;\n",
       "    }\n",
       "\n",
       "    .dataframe tbody tr th {\n",
       "        vertical-align: top;\n",
       "    }\n",
       "\n",
       "    .dataframe thead th {\n",
       "        text-align: right;\n",
       "    }\n",
       "</style>\n",
       "<table border=\"1\" class=\"dataframe\">\n",
       "  <thead>\n",
       "    <tr style=\"text-align: right;\">\n",
       "      <th></th>\n",
       "      <th>R Squared Score</th>\n",
       "      <th>MAPE Score</th>\n",
       "      <th>MAE Score</th>\n",
       "      <th>Model Score</th>\n",
       "    </tr>\n",
       "  </thead>\n",
       "  <tbody>\n",
       "    <tr>\n",
       "      <th>Linear Regression</th>\n",
       "      <td>0.382337</td>\n",
       "      <td>51.709912</td>\n",
       "      <td>3.954509</td>\n",
       "      <td>0.382337</td>\n",
       "    </tr>\n",
       "    <tr>\n",
       "      <th>Decision Tree Regressor</th>\n",
       "      <td>0.657306</td>\n",
       "      <td>34.667634</td>\n",
       "      <td>2.609034</td>\n",
       "      <td>0.657306</td>\n",
       "    </tr>\n",
       "    <tr>\n",
       "      <th>XGBoost Regressor</th>\n",
       "      <td>0.738545</td>\n",
       "      <td>2.136992</td>\n",
       "      <td>2.136992</td>\n",
       "      <td>0.738545</td>\n",
       "    </tr>\n",
       "    <tr>\n",
       "      <th>Light Gradient Boosted Machine</th>\n",
       "      <td>0.740331</td>\n",
       "      <td>2.164766</td>\n",
       "      <td>2.164766</td>\n",
       "      <td>0.740331</td>\n",
       "    </tr>\n",
       "    <tr>\n",
       "      <th>CatBoost Regressor</th>\n",
       "      <td>0.772660</td>\n",
       "      <td>1.973902</td>\n",
       "      <td>1.973902</td>\n",
       "      <td>0.772660</td>\n",
       "    </tr>\n",
       "  </tbody>\n",
       "</table>\n",
       "</div>"
      ],
      "text/plain": [
       "                                R Squared Score  MAPE Score  MAE Score  \\\n",
       "Linear Regression                      0.382337   51.709912   3.954509   \n",
       "Decision Tree Regressor                0.657306   34.667634   2.609034   \n",
       "XGBoost Regressor                      0.738545    2.136992   2.136992   \n",
       "Light Gradient Boosted Machine         0.740331    2.164766   2.164766   \n",
       "CatBoost Regressor                     0.772660    1.973902   1.973902   \n",
       "\n",
       "                                Model Score  \n",
       "Linear Regression                  0.382337  \n",
       "Decision Tree Regressor            0.657306  \n",
       "XGBoost Regressor                  0.738545  \n",
       "Light Gradient Boosted Machine     0.740331  \n",
       "CatBoost Regressor                 0.772660  "
      ]
     },
     "execution_count": 66,
     "metadata": {},
     "output_type": "execute_result"
    }
   ],
   "source": [
    "resultsCBR_test = pd.DataFrame({'R Squared Score': cat_R2_test,\n",
    "                          'MAPE Score':cat_MAPE_test,\n",
    "                            'MAE Score':cat_MAE_test,\n",
    "                         'Model Score':cat_model_score_test}\n",
    "                           ,index=['CatBoost Regressor'])\n",
    "\n",
    "results4_test = pd.concat([resultsLR_test,resultsDT_test,resultsXGB_test,resultsLGBMR_test,resultsCBR_test])\n",
    "\n",
    "results4_test"
   ]
  },
  {
   "cell_type": "markdown",
   "id": "b989419d",
   "metadata": {
    "papermill": {
     "duration": 0.363376,
     "end_time": "2022-07-27T16:19:30.828292",
     "exception": false,
     "start_time": "2022-07-27T16:19:30.464916",
     "status": "completed"
    },
    "tags": []
   },
   "source": [
    "**Submission**"
   ]
  },
  {
   "cell_type": "code",
   "execution_count": 67,
   "id": "b643d45f",
   "metadata": {
    "execution": {
     "iopub.execute_input": "2022-07-27T16:19:31.556597Z",
     "iopub.status.busy": "2022-07-27T16:19:31.556367Z",
     "iopub.status.idle": "2022-07-27T16:19:32.660653Z",
     "shell.execute_reply": "2022-07-27T16:19:32.660157Z"
    },
    "papermill": {
     "duration": 1.474496,
     "end_time": "2022-07-27T16:19:32.662759",
     "exception": false,
     "start_time": "2022-07-27T16:19:31.188263",
     "status": "completed"
    },
    "tags": []
   },
   "outputs": [],
   "source": [
    "Submission = pd.read_csv('../input/ventilator-pressure-prediction/sample_submission.csv')"
   ]
  },
  {
   "cell_type": "code",
   "execution_count": 68,
   "id": "b0ddd31f",
   "metadata": {
    "execution": {
     "iopub.execute_input": "2022-07-27T16:19:33.813483Z",
     "iopub.status.busy": "2022-07-27T16:19:33.813081Z",
     "iopub.status.idle": "2022-07-27T16:19:33.817254Z",
     "shell.execute_reply": "2022-07-27T16:19:33.816549Z"
    },
    "papermill": {
     "duration": 0.579153,
     "end_time": "2022-07-27T16:19:33.818916",
     "exception": false,
     "start_time": "2022-07-27T16:19:33.239763",
     "status": "completed"
    },
    "tags": []
   },
   "outputs": [
    {
     "data": {
      "text/plain": [
       "Index(['breath_id', 'R', 'C', 'time_step', 'u_in', 'u_out'], dtype='object')"
      ]
     },
     "execution_count": 68,
     "metadata": {},
     "output_type": "execute_result"
    }
   ],
   "source": [
    "data_test.columns"
   ]
  },
  {
   "cell_type": "code",
   "execution_count": 69,
   "id": "98e69ac2",
   "metadata": {
    "execution": {
     "iopub.execute_input": "2022-07-27T16:19:34.752556Z",
     "iopub.status.busy": "2022-07-27T16:19:34.752190Z",
     "iopub.status.idle": "2022-07-27T16:19:38.974385Z",
     "shell.execute_reply": "2022-07-27T16:19:38.973633Z"
    },
    "papermill": {
     "duration": 4.582098,
     "end_time": "2022-07-27T16:19:38.976456",
     "exception": false,
     "start_time": "2022-07-27T16:19:34.394358",
     "status": "completed"
    },
    "tags": []
   },
   "outputs": [],
   "source": [
    "#data_test.drop(columns=['breath_id', 'R', 'C', 'time_step', 'u_in', 'u_out'], axis = 1, inplace = True)\n",
    "Final_Prediction = cbr.predict(data_test)"
   ]
  },
  {
   "cell_type": "code",
   "execution_count": 70,
   "id": "764e8d5b",
   "metadata": {
    "execution": {
     "iopub.execute_input": "2022-07-27T16:19:39.698704Z",
     "iopub.status.busy": "2022-07-27T16:19:39.698264Z",
     "iopub.status.idle": "2022-07-27T16:19:39.717608Z",
     "shell.execute_reply": "2022-07-27T16:19:39.716743Z"
    },
    "papermill": {
     "duration": 0.385835,
     "end_time": "2022-07-27T16:19:39.719642",
     "exception": false,
     "start_time": "2022-07-27T16:19:39.333807",
     "status": "completed"
    },
    "tags": []
   },
   "outputs": [
    {
     "data": {
      "text/html": [
       "<div>\n",
       "<style scoped>\n",
       "    .dataframe tbody tr th:only-of-type {\n",
       "        vertical-align: middle;\n",
       "    }\n",
       "\n",
       "    .dataframe tbody tr th {\n",
       "        vertical-align: top;\n",
       "    }\n",
       "\n",
       "    .dataframe thead th {\n",
       "        text-align: right;\n",
       "    }\n",
       "</style>\n",
       "<table border=\"1\" class=\"dataframe\">\n",
       "  <thead>\n",
       "    <tr style=\"text-align: right;\">\n",
       "      <th></th>\n",
       "      <th>id</th>\n",
       "      <th>pressure</th>\n",
       "    </tr>\n",
       "  </thead>\n",
       "  <tbody>\n",
       "    <tr>\n",
       "      <th>0</th>\n",
       "      <td>1</td>\n",
       "      <td>6.322274</td>\n",
       "    </tr>\n",
       "    <tr>\n",
       "      <th>1</th>\n",
       "      <td>2</td>\n",
       "      <td>6.188501</td>\n",
       "    </tr>\n",
       "    <tr>\n",
       "      <th>2</th>\n",
       "      <td>3</td>\n",
       "      <td>7.105514</td>\n",
       "    </tr>\n",
       "    <tr>\n",
       "      <th>3</th>\n",
       "      <td>4</td>\n",
       "      <td>8.132160</td>\n",
       "    </tr>\n",
       "    <tr>\n",
       "      <th>4</th>\n",
       "      <td>5</td>\n",
       "      <td>9.845394</td>\n",
       "    </tr>\n",
       "  </tbody>\n",
       "</table>\n",
       "</div>"
      ],
      "text/plain": [
       "   id  pressure\n",
       "0   1  6.322274\n",
       "1   2  6.188501\n",
       "2   3  7.105514\n",
       "3   4  8.132160\n",
       "4   5  9.845394"
      ]
     },
     "execution_count": 70,
     "metadata": {},
     "output_type": "execute_result"
    }
   ],
   "source": [
    "Submission.pressure = Final_Prediction\n",
    "Submission.head()"
   ]
  },
  {
   "cell_type": "code",
   "execution_count": 71,
   "id": "4b4c07c3",
   "metadata": {
    "execution": {
     "iopub.execute_input": "2022-07-27T16:19:40.435524Z",
     "iopub.status.busy": "2022-07-27T16:19:40.435250Z",
     "iopub.status.idle": "2022-07-27T16:19:50.577090Z",
     "shell.execute_reply": "2022-07-27T16:19:50.576370Z"
    },
    "papermill": {
     "duration": 10.502069,
     "end_time": "2022-07-27T16:19:50.579224",
     "exception": false,
     "start_time": "2022-07-27T16:19:40.077155",
     "status": "completed"
    },
    "tags": []
   },
   "outputs": [],
   "source": [
    "Submission.to_csv(\"submission.csv\", index=False)"
   ]
  },
  {
   "cell_type": "markdown",
   "id": "40964303",
   "metadata": {
    "papermill": {
     "duration": 0.448889,
     "end_time": "2022-07-27T16:19:51.385654",
     "exception": false,
     "start_time": "2022-07-27T16:19:50.936765",
     "status": "completed"
    },
    "tags": []
   },
   "source": [
    "**Deployement**"
   ]
  },
  {
   "cell_type": "code",
   "execution_count": 72,
   "id": "3f79dd33",
   "metadata": {
    "execution": {
     "iopub.execute_input": "2022-07-27T16:19:52.545802Z",
     "iopub.status.busy": "2022-07-27T16:19:52.545545Z",
     "iopub.status.idle": "2022-07-27T16:20:15.098296Z",
     "shell.execute_reply": "2022-07-27T16:20:15.097460Z"
    },
    "papermill": {
     "duration": 23.13293,
     "end_time": "2022-07-27T16:20:15.100532",
     "exception": false,
     "start_time": "2022-07-27T16:19:51.967602",
     "status": "completed"
    },
    "tags": []
   },
   "outputs": [
    {
     "name": "stdout",
     "output_type": "stream",
     "text": [
      "Collecting gradio\r\n",
      "  Downloading gradio-3.1.1-py3-none-any.whl (5.6 MB)\r\n",
      "\u001b[2K     \u001b[90m━━━━━━━━━━━━━━━━━━━━━━━━━━━━━━━━━━━━━━━━\u001b[0m \u001b[32m5.6/5.6 MB\u001b[0m \u001b[31m7.3 MB/s\u001b[0m eta \u001b[36m0:00:00\u001b[0m\r\n",
      "\u001b[?25hRequirement already satisfied: markdown-it-py[linkify,plugins] in /opt/conda/lib/python3.7/site-packages (from gradio) (1.1.0)\r\n",
      "Requirement already satisfied: orjson in /opt/conda/lib/python3.7/site-packages (from gradio) (3.6.7)\r\n",
      "Requirement already satisfied: pydantic in /opt/conda/lib/python3.7/site-packages (from gradio) (1.8.2)\r\n",
      "Requirement already satisfied: requests in /opt/conda/lib/python3.7/site-packages (from gradio) (2.27.1)\r\n",
      "Requirement already satisfied: pydub in /opt/conda/lib/python3.7/site-packages (from gradio) (0.25.1)\r\n",
      "Requirement already satisfied: pillow in /opt/conda/lib/python3.7/site-packages (from gradio) (9.0.1)\r\n",
      "Collecting analytics-python\r\n",
      "  Downloading analytics_python-1.4.0-py2.py3-none-any.whl (15 kB)\r\n",
      "Collecting paramiko\r\n",
      "  Downloading paramiko-2.11.0-py2.py3-none-any.whl (212 kB)\r\n",
      "\u001b[2K     \u001b[90m━━━━━━━━━━━━━━━━━━━━━━━━━━━━━━━━━━━━━━\u001b[0m \u001b[32m212.9/212.9 KB\u001b[0m \u001b[31m17.5 MB/s\u001b[0m eta \u001b[36m0:00:00\u001b[0m\r\n",
      "\u001b[?25hRequirement already satisfied: aiohttp in /opt/conda/lib/python3.7/site-packages (from gradio) (3.8.1)\r\n",
      "Requirement already satisfied: fastapi in /opt/conda/lib/python3.7/site-packages (from gradio) (0.75.1)\r\n",
      "Requirement already satisfied: pandas in /opt/conda/lib/python3.7/site-packages (from gradio) (1.3.5)\r\n",
      "Requirement already satisfied: Jinja2 in /opt/conda/lib/python3.7/site-packages (from gradio) (3.1.1)\r\n",
      "Requirement already satisfied: numpy in /opt/conda/lib/python3.7/site-packages (from gradio) (1.21.5)\r\n",
      "Requirement already satisfied: fsspec in /opt/conda/lib/python3.7/site-packages (from gradio) (2022.3.0)\r\n",
      "Collecting pycryptodome\r\n",
      "  Downloading pycryptodome-3.15.0-cp35-abi3-manylinux2010_x86_64.whl (2.3 MB)\r\n",
      "\u001b[2K     \u001b[90m━━━━━━━━━━━━━━━━━━━━━━━━━━━━━━━━━━━━━━━━\u001b[0m \u001b[32m2.3/2.3 MB\u001b[0m \u001b[31m46.2 MB/s\u001b[0m eta \u001b[36m0:00:00\u001b[0m\r\n",
      "\u001b[?25hCollecting ffmpy\r\n",
      "  Downloading ffmpy-0.3.0.tar.gz (4.8 kB)\r\n",
      "  Preparing metadata (setup.py) ... \u001b[?25l-\b \bdone\r\n",
      "\u001b[?25hRequirement already satisfied: uvicorn in /opt/conda/lib/python3.7/site-packages (from gradio) (0.17.6)\r\n",
      "Collecting h11<0.13,>=0.11\r\n",
      "  Downloading h11-0.12.0-py3-none-any.whl (54 kB)\r\n",
      "\u001b[2K     \u001b[90m━━━━━━━━━━━━━━━━━━━━━━━━━━━━━━━━━━━━━━━━\u001b[0m \u001b[32m54.9/54.9 KB\u001b[0m \u001b[31m5.3 MB/s\u001b[0m eta \u001b[36m0:00:00\u001b[0m\r\n",
      "\u001b[?25hCollecting python-multipart\r\n",
      "  Downloading python-multipart-0.0.5.tar.gz (32 kB)\r\n",
      "  Preparing metadata (setup.py) ... \u001b[?25l-\b \bdone\r\n",
      "\u001b[?25hCollecting httpx\r\n",
      "  Downloading httpx-0.23.0-py3-none-any.whl (84 kB)\r\n",
      "\u001b[2K     \u001b[90m━━━━━━━━━━━━━━━━━━━━━━━━━━━━━━━━━━━━━━━━\u001b[0m \u001b[32m84.8/84.8 KB\u001b[0m \u001b[31m7.6 MB/s\u001b[0m eta \u001b[36m0:00:00\u001b[0m\r\n",
      "\u001b[?25hRequirement already satisfied: matplotlib in /opt/conda/lib/python3.7/site-packages (from gradio) (3.5.1)\r\n",
      "Requirement already satisfied: typing-extensions>=3.7.4 in /opt/conda/lib/python3.7/site-packages (from aiohttp->gradio) (4.1.1)\r\n",
      "Requirement already satisfied: asynctest==0.13.0 in /opt/conda/lib/python3.7/site-packages (from aiohttp->gradio) (0.13.0)\r\n",
      "Requirement already satisfied: charset-normalizer<3.0,>=2.0 in /opt/conda/lib/python3.7/site-packages (from aiohttp->gradio) (2.0.12)\r\n",
      "Requirement already satisfied: yarl<2.0,>=1.0 in /opt/conda/lib/python3.7/site-packages (from aiohttp->gradio) (1.7.2)\r\n",
      "Requirement already satisfied: frozenlist>=1.1.1 in /opt/conda/lib/python3.7/site-packages (from aiohttp->gradio) (1.3.0)\r\n",
      "Requirement already satisfied: multidict<7.0,>=4.5 in /opt/conda/lib/python3.7/site-packages (from aiohttp->gradio) (6.0.2)\r\n",
      "Requirement already satisfied: async-timeout<5.0,>=4.0.0a3 in /opt/conda/lib/python3.7/site-packages (from aiohttp->gradio) (4.0.2)\r\n",
      "Requirement already satisfied: attrs>=17.3.0 in /opt/conda/lib/python3.7/site-packages (from aiohttp->gradio) (21.4.0)\r\n",
      "Requirement already satisfied: aiosignal>=1.1.2 in /opt/conda/lib/python3.7/site-packages (from aiohttp->gradio) (1.2.0)\r\n",
      "Requirement already satisfied: python-dateutil>2.1 in /opt/conda/lib/python3.7/site-packages (from analytics-python->gradio) (2.8.2)\r\n",
      "Requirement already satisfied: six>=1.5 in /opt/conda/lib/python3.7/site-packages (from analytics-python->gradio) (1.16.0)\r\n",
      "Collecting backoff==1.10.0\r\n",
      "  Downloading backoff-1.10.0-py2.py3-none-any.whl (31 kB)\r\n",
      "Collecting monotonic>=1.5\r\n",
      "  Downloading monotonic-1.6-py2.py3-none-any.whl (8.2 kB)\r\n",
      "Requirement already satisfied: urllib3<1.27,>=1.21.1 in /opt/conda/lib/python3.7/site-packages (from requests->gradio) (1.26.8)\r\n",
      "Requirement already satisfied: idna<4,>=2.5 in /opt/conda/lib/python3.7/site-packages (from requests->gradio) (3.3)\r\n",
      "Requirement already satisfied: certifi>=2017.4.17 in /opt/conda/lib/python3.7/site-packages (from requests->gradio) (2021.10.8)\r\n",
      "Requirement already satisfied: starlette==0.17.1 in /opt/conda/lib/python3.7/site-packages (from fastapi->gradio) (0.17.1)\r\n",
      "Requirement already satisfied: anyio<4,>=3.0.0 in /opt/conda/lib/python3.7/site-packages (from starlette==0.17.1->fastapi->gradio) (3.5.0)\r\n",
      "Requirement already satisfied: sniffio in /opt/conda/lib/python3.7/site-packages (from httpx->gradio) (1.2.0)\r\n",
      "Collecting rfc3986[idna2008]<2,>=1.3\r\n",
      "  Downloading rfc3986-1.5.0-py2.py3-none-any.whl (31 kB)\r\n",
      "Collecting httpcore<0.16.0,>=0.15.0\r\n",
      "  Downloading httpcore-0.15.0-py3-none-any.whl (68 kB)\r\n",
      "\u001b[2K     \u001b[90m━━━━━━━━━━━━━━━━━━━━━━━━━━━━━━━━━━━━━━━━\u001b[0m \u001b[32m68.4/68.4 KB\u001b[0m \u001b[31m5.6 MB/s\u001b[0m eta \u001b[36m0:00:00\u001b[0m\r\n",
      "\u001b[?25hRequirement already satisfied: MarkupSafe>=2.0 in /opt/conda/lib/python3.7/site-packages (from Jinja2->gradio) (2.0.1)\r\n",
      "Requirement already satisfied: mdit-py-plugins in /opt/conda/lib/python3.7/site-packages (from markdown-it-py[linkify,plugins]->gradio) (0.3.0)\r\n",
      "Collecting linkify-it-py~=1.0\r\n",
      "  Downloading linkify_it_py-1.0.3-py3-none-any.whl (19 kB)\r\n",
      "Requirement already satisfied: kiwisolver>=1.0.1 in /opt/conda/lib/python3.7/site-packages (from matplotlib->gradio) (1.4.0)\r\n",
      "Requirement already satisfied: pyparsing>=2.2.1 in /opt/conda/lib/python3.7/site-packages (from matplotlib->gradio) (3.0.7)\r\n",
      "Requirement already satisfied: fonttools>=4.22.0 in /opt/conda/lib/python3.7/site-packages (from matplotlib->gradio) (4.30.0)\r\n",
      "Requirement already satisfied: cycler>=0.10 in /opt/conda/lib/python3.7/site-packages (from matplotlib->gradio) (0.11.0)\r\n",
      "Requirement already satisfied: packaging>=20.0 in /opt/conda/lib/python3.7/site-packages (from matplotlib->gradio) (21.3)\r\n",
      "Requirement already satisfied: pytz>=2017.3 in /opt/conda/lib/python3.7/site-packages (from pandas->gradio) (2021.3)\r\n",
      "Requirement already satisfied: cryptography>=2.5 in /opt/conda/lib/python3.7/site-packages (from paramiko->gradio) (36.0.1)\r\n",
      "Collecting bcrypt>=3.1.3\r\n",
      "  Downloading bcrypt-3.2.2-cp36-abi3-manylinux_2_17_x86_64.manylinux2014_x86_64.manylinux_2_24_x86_64.whl (62 kB)\r\n",
      "\u001b[2K     \u001b[90m━━━━━━━━━━━━━━━━━━━━━━━━━━━━━━━━━━━━━━━━\u001b[0m \u001b[32m62.3/62.3 KB\u001b[0m \u001b[31m4.4 MB/s\u001b[0m eta \u001b[36m0:00:00\u001b[0m\r\n",
      "\u001b[?25hCollecting pynacl>=1.0.1\r\n",
      "  Downloading PyNaCl-1.5.0-cp36-abi3-manylinux_2_17_x86_64.manylinux2014_x86_64.manylinux_2_24_x86_64.whl (856 kB)\r\n",
      "\u001b[2K     \u001b[90m━━━━━━━━━━━━━━━━━━━━━━━━━━━━━━━━━━━━━━\u001b[0m \u001b[32m856.7/856.7 KB\u001b[0m \u001b[31m42.5 MB/s\u001b[0m eta \u001b[36m0:00:00\u001b[0m\r\n",
      "\u001b[?25hRequirement already satisfied: asgiref>=3.4.0 in /opt/conda/lib/python3.7/site-packages (from uvicorn->gradio) (3.5.0)\r\n",
      "Requirement already satisfied: click>=7.0 in /opt/conda/lib/python3.7/site-packages (from uvicorn->gradio) (8.0.4)\r\n",
      "Requirement already satisfied: cffi>=1.1 in /opt/conda/lib/python3.7/site-packages (from bcrypt>=3.1.3->paramiko->gradio) (1.15.0)\r\n",
      "Requirement already satisfied: importlib-metadata in /opt/conda/lib/python3.7/site-packages (from click>=7.0->uvicorn->gradio) (4.11.3)\r\n",
      "Collecting uc-micro-py\r\n",
      "  Downloading uc_micro_py-1.0.1-py3-none-any.whl (6.2 kB)\r\n",
      "Requirement already satisfied: pycparser in /opt/conda/lib/python3.7/site-packages (from cffi>=1.1->bcrypt>=3.1.3->paramiko->gradio) (2.21)\r\n",
      "Requirement already satisfied: zipp>=0.5 in /opt/conda/lib/python3.7/site-packages (from importlib-metadata->click>=7.0->uvicorn->gradio) (3.7.0)\r\n",
      "Building wheels for collected packages: ffmpy, python-multipart\r\n",
      "  Building wheel for ffmpy (setup.py) ... \u001b[?25l-\b \b\\\b \bdone\r\n",
      "\u001b[?25h  Created wheel for ffmpy: filename=ffmpy-0.3.0-py3-none-any.whl size=4712 sha256=26eb946323f406a5d8c78103ca8455688e88d609d708303886b88ca9cb765668\r\n",
      "  Stored in directory: /root/.cache/pip/wheels/13/e4/6c/e8059816e86796a597c6e6b0d4c880630f51a1fcfa0befd5e6\r\n",
      "  Building wheel for python-multipart (setup.py) ... \u001b[?25l-\b \b\\\b \bdone\r\n",
      "\u001b[?25h  Created wheel for python-multipart: filename=python_multipart-0.0.5-py3-none-any.whl size=31678 sha256=6a6d6cef96f657dde4f26d72dcef367f42904c63e604a1ed7e887514d84f695e\r\n",
      "  Stored in directory: /root/.cache/pip/wheels/2c/41/7c/bfd1c180534ffdcc0972f78c5758f89881602175d48a8bcd2c\r\n",
      "Successfully built ffmpy python-multipart\r\n",
      "Installing collected packages: rfc3986, monotonic, ffmpy, uc-micro-py, python-multipart, pycryptodome, h11, backoff, pynacl, linkify-it-py, httpcore, bcrypt, analytics-python, paramiko, httpx, gradio\r\n",
      "  Attempting uninstall: h11\r\n",
      "    Found existing installation: h11 0.13.0\r\n",
      "    Uninstalling h11-0.13.0:\r\n",
      "      Successfully uninstalled h11-0.13.0\r\n",
      "Successfully installed analytics-python-1.4.0 backoff-1.10.0 bcrypt-3.2.2 ffmpy-0.3.0 gradio-3.1.1 h11-0.12.0 httpcore-0.15.0 httpx-0.23.0 linkify-it-py-1.0.3 monotonic-1.6 paramiko-2.11.0 pycryptodome-3.15.0 pynacl-1.5.0 python-multipart-0.0.5 rfc3986-1.5.0 uc-micro-py-1.0.1\r\n",
      "\u001b[33mWARNING: Running pip as the 'root' user can result in broken permissions and conflicting behaviour with the system package manager. It is recommended to use a virtual environment instead: https://pip.pypa.io/warnings/venv\u001b[0m\u001b[33m\r\n",
      "\u001b[0m"
     ]
    }
   ],
   "source": [
    "!pip install gradio"
   ]
  },
  {
   "cell_type": "code",
   "execution_count": 73,
   "id": "c91f7b0b",
   "metadata": {
    "execution": {
     "iopub.execute_input": "2022-07-27T16:20:15.860255Z",
     "iopub.status.busy": "2022-07-27T16:20:15.859970Z",
     "iopub.status.idle": "2022-07-27T16:20:17.779683Z",
     "shell.execute_reply": "2022-07-27T16:20:17.779071Z"
    },
    "papermill": {
     "duration": 2.301322,
     "end_time": "2022-07-27T16:20:17.781501",
     "exception": false,
     "start_time": "2022-07-27T16:20:15.480179",
     "status": "completed"
    },
    "tags": []
   },
   "outputs": [],
   "source": [
    "import gradio as gr\n",
    "import warnings\n",
    "warnings.filterwarnings('ignore')"
   ]
  },
  {
   "cell_type": "code",
   "execution_count": 74,
   "id": "4e316d4e",
   "metadata": {
    "execution": {
     "iopub.execute_input": "2022-07-27T16:20:18.751632Z",
     "iopub.status.busy": "2022-07-27T16:20:18.751186Z",
     "iopub.status.idle": "2022-07-27T16:20:18.755964Z",
     "shell.execute_reply": "2022-07-27T16:20:18.755495Z"
    },
    "papermill": {
     "duration": 0.592628,
     "end_time": "2022-07-27T16:20:18.757523",
     "exception": false,
     "start_time": "2022-07-27T16:20:18.164895",
     "status": "completed"
    },
    "tags": []
   },
   "outputs": [],
   "source": [
    "def pressure(breath_id, R, C, time_step, u_in, u_out):\n",
    "    x = np.array([breath_id, R, C, time_step, u_in, u_out])\n",
    "    prediction = DT_model.predict(x.reshape(1,-1))\n",
    "    return prediction"
   ]
  },
  {
   "cell_type": "code",
   "execution_count": 75,
   "id": "9e8848c9",
   "metadata": {
    "execution": {
     "iopub.execute_input": "2022-07-27T16:20:19.531001Z",
     "iopub.status.busy": "2022-07-27T16:20:19.530532Z",
     "iopub.status.idle": "2022-07-27T16:20:21.512378Z",
     "shell.execute_reply": "2022-07-27T16:20:21.511812Z"
    },
    "papermill": {
     "duration": 2.368531,
     "end_time": "2022-07-27T16:20:21.514164",
     "exception": false,
     "start_time": "2022-07-27T16:20:19.145633",
     "status": "completed"
    },
    "tags": []
   },
   "outputs": [],
   "source": [
    "outputs = gr.outputs.Textbox()\n",
    "app = gr.Interface(fn = pressure,inputs = ['number','number','number','number','number','number'],outputs = outputs,description = \"pressure prediction\" )"
   ]
  },
  {
   "cell_type": "code",
   "execution_count": 76,
   "id": "b276cbfb",
   "metadata": {
    "execution": {
     "iopub.execute_input": "2022-07-27T16:20:22.331977Z",
     "iopub.status.busy": "2022-07-27T16:20:22.331723Z",
     "iopub.status.idle": "2022-07-27T16:20:27.875769Z",
     "shell.execute_reply": "2022-07-27T16:20:27.875140Z"
    },
    "papermill": {
     "duration": 5.980889,
     "end_time": "2022-07-27T16:20:27.877261",
     "exception": false,
     "start_time": "2022-07-27T16:20:21.896372",
     "status": "completed"
    },
    "tags": []
   },
   "outputs": [
    {
     "name": "stdout",
     "output_type": "stream",
     "text": [
      "Running on local URL:  http://127.0.0.1:7860/\n",
      "Running on public URL: https://54381.gradio.app\n",
      "\n",
      "This share link expires in 72 hours. For free permanent hosting, check out Spaces: https://huggingface.co/spaces\n"
     ]
    },
    {
     "data": {
      "text/html": [
       "<div><iframe src=\"https://54381.gradio.app\" width=\"900\" height=\"500\" allow=\"autoplay; camera; microphone;\" frameborder=\"0\" allowfullscreen></iframe></div>"
      ],
      "text/plain": [
       "<IPython.core.display.HTML object>"
      ]
     },
     "metadata": {},
     "output_type": "display_data"
    },
    {
     "data": {
      "text/plain": [
       "(<gradio.routes.App at 0x7f34e8ffdf90>,\n",
       " 'http://127.0.0.1:7860/',\n",
       " 'https://54381.gradio.app')"
      ]
     },
     "execution_count": 76,
     "metadata": {},
     "output_type": "execute_result"
    }
   ],
   "source": [
    "app.launch(share = True)"
   ]
  },
  {
   "cell_type": "code",
   "execution_count": null,
   "id": "0bad65a2",
   "metadata": {
    "papermill": {
     "duration": 0.382995,
     "end_time": "2022-07-27T16:20:28.643813",
     "exception": false,
     "start_time": "2022-07-27T16:20:28.260818",
     "status": "completed"
    },
    "tags": []
   },
   "outputs": [],
   "source": []
  }
 ],
 "metadata": {
  "kernelspec": {
   "display_name": "Python 3",
   "language": "python",
   "name": "python3"
  },
  "language_info": {
   "codemirror_mode": {
    "name": "ipython",
    "version": 3
   },
   "file_extension": ".py",
   "mimetype": "text/x-python",
   "name": "python",
   "nbconvert_exporter": "python",
   "pygments_lexer": "ipython3",
   "version": "3.7.12"
  },
  "papermill": {
   "default_parameters": {},
   "duration": 1174.520031,
   "end_time": "2022-07-27T16:20:31.242188",
   "environment_variables": {},
   "exception": null,
   "input_path": "__notebook__.ipynb",
   "output_path": "__notebook__.ipynb",
   "parameters": {},
   "start_time": "2022-07-27T16:00:56.722157",
   "version": "2.3.4"
  }
 },
 "nbformat": 4,
 "nbformat_minor": 5
}
