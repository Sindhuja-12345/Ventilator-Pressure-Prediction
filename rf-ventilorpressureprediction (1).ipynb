{
 "cells": [
  {
   "cell_type": "code",
   "execution_count": 1,
   "id": "f2182f24",
   "metadata": {
    "execution": {
     "iopub.execute_input": "2022-07-27T17:13:21.942317Z",
     "iopub.status.busy": "2022-07-27T17:13:21.941875Z",
     "iopub.status.idle": "2022-07-27T17:13:25.105703Z",
     "shell.execute_reply": "2022-07-27T17:13:25.104562Z"
    },
    "papermill": {
     "duration": 3.178308,
     "end_time": "2022-07-27T17:13:25.108435",
     "exception": false,
     "start_time": "2022-07-27T17:13:21.930127",
     "status": "completed"
    },
    "tags": []
   },
   "outputs": [],
   "source": [
    "import pandas as pd\n",
    "import numpy as np\n",
    "import seaborn as sns\n",
    "import plotly.express as px\n",
    "from sklearn.model_selection import train_test_split\n",
    "from sklearn.linear_model import LinearRegression\n",
    "import matplotlib.pyplot as plt\n",
    "from sklearn.ensemble import RandomForestRegressor\n",
    "from sklearn.ensemble import AdaBoostRegressor\n",
    "from sklearn import preprocessing\n",
    "from sklearn.metrics import mean_absolute_error\n",
    "from xgboost import XGBRegressor\n",
    "import plotly.graph_objects as go\n",
    "from sklearn.metrics import r2_score\n",
    "\n",
    "\n",
    "\n",
    "%matplotlib inline"
   ]
  },
  {
   "cell_type": "code",
   "execution_count": 2,
   "id": "a15a07aa",
   "metadata": {
    "execution": {
     "iopub.execute_input": "2022-07-27T17:13:25.124199Z",
     "iopub.status.busy": "2022-07-27T17:13:25.123616Z",
     "iopub.status.idle": "2022-07-27T17:13:41.631372Z",
     "shell.execute_reply": "2022-07-27T17:13:41.630171Z"
    },
    "papermill": {
     "duration": 16.518714,
     "end_time": "2022-07-27T17:13:41.634016",
     "exception": false,
     "start_time": "2022-07-27T17:13:25.115302",
     "status": "completed"
    },
    "tags": []
   },
   "outputs": [
    {
     "name": "stdout",
     "output_type": "stream",
     "text": [
      "Train shape:  (6036000, 8)\n",
      "Test shape:  (4024000, 7)\n"
     ]
    }
   ],
   "source": [
    "train = pd.read_csv('/kaggle/input/ventilator-pressure-prediction/train.csv')\n",
    "print('Train shape: ', train.shape)\n",
    "test = pd.read_csv('/kaggle/input/ventilator-pressure-prediction/test.csv')\n",
    "print('Test shape: ', test.shape)\n",
    "submisison = pd.read_csv('/kaggle/input/ventilator-pressure-prediction/sample_submission.csv')"
   ]
  },
  {
   "cell_type": "code",
   "execution_count": 3,
   "id": "c94e636f",
   "metadata": {
    "execution": {
     "iopub.execute_input": "2022-07-27T17:13:41.649196Z",
     "iopub.status.busy": "2022-07-27T17:13:41.648766Z",
     "iopub.status.idle": "2022-07-27T17:13:41.670176Z",
     "shell.execute_reply": "2022-07-27T17:13:41.669189Z"
    },
    "papermill": {
     "duration": 0.031507,
     "end_time": "2022-07-27T17:13:41.672394",
     "exception": false,
     "start_time": "2022-07-27T17:13:41.640887",
     "status": "completed"
    },
    "tags": []
   },
   "outputs": [
    {
     "data": {
      "text/html": [
       "<div>\n",
       "<style scoped>\n",
       "    .dataframe tbody tr th:only-of-type {\n",
       "        vertical-align: middle;\n",
       "    }\n",
       "\n",
       "    .dataframe tbody tr th {\n",
       "        vertical-align: top;\n",
       "    }\n",
       "\n",
       "    .dataframe thead th {\n",
       "        text-align: right;\n",
       "    }\n",
       "</style>\n",
       "<table border=\"1\" class=\"dataframe\">\n",
       "  <thead>\n",
       "    <tr style=\"text-align: right;\">\n",
       "      <th></th>\n",
       "      <th>id</th>\n",
       "      <th>breath_id</th>\n",
       "      <th>R</th>\n",
       "      <th>C</th>\n",
       "      <th>time_step</th>\n",
       "      <th>u_in</th>\n",
       "      <th>u_out</th>\n",
       "      <th>pressure</th>\n",
       "    </tr>\n",
       "  </thead>\n",
       "  <tbody>\n",
       "    <tr>\n",
       "      <th>0</th>\n",
       "      <td>1</td>\n",
       "      <td>1</td>\n",
       "      <td>20</td>\n",
       "      <td>50</td>\n",
       "      <td>0.000000</td>\n",
       "      <td>0.083334</td>\n",
       "      <td>0</td>\n",
       "      <td>5.837492</td>\n",
       "    </tr>\n",
       "    <tr>\n",
       "      <th>1</th>\n",
       "      <td>2</td>\n",
       "      <td>1</td>\n",
       "      <td>20</td>\n",
       "      <td>50</td>\n",
       "      <td>0.033652</td>\n",
       "      <td>18.383041</td>\n",
       "      <td>0</td>\n",
       "      <td>5.907794</td>\n",
       "    </tr>\n",
       "    <tr>\n",
       "      <th>2</th>\n",
       "      <td>3</td>\n",
       "      <td>1</td>\n",
       "      <td>20</td>\n",
       "      <td>50</td>\n",
       "      <td>0.067514</td>\n",
       "      <td>22.509278</td>\n",
       "      <td>0</td>\n",
       "      <td>7.876254</td>\n",
       "    </tr>\n",
       "    <tr>\n",
       "      <th>3</th>\n",
       "      <td>4</td>\n",
       "      <td>1</td>\n",
       "      <td>20</td>\n",
       "      <td>50</td>\n",
       "      <td>0.101542</td>\n",
       "      <td>22.808822</td>\n",
       "      <td>0</td>\n",
       "      <td>11.742872</td>\n",
       "    </tr>\n",
       "    <tr>\n",
       "      <th>4</th>\n",
       "      <td>5</td>\n",
       "      <td>1</td>\n",
       "      <td>20</td>\n",
       "      <td>50</td>\n",
       "      <td>0.135756</td>\n",
       "      <td>25.355850</td>\n",
       "      <td>0</td>\n",
       "      <td>12.234987</td>\n",
       "    </tr>\n",
       "  </tbody>\n",
       "</table>\n",
       "</div>"
      ],
      "text/plain": [
       "   id  breath_id   R   C  time_step       u_in  u_out   pressure\n",
       "0   1          1  20  50   0.000000   0.083334      0   5.837492\n",
       "1   2          1  20  50   0.033652  18.383041      0   5.907794\n",
       "2   3          1  20  50   0.067514  22.509278      0   7.876254\n",
       "3   4          1  20  50   0.101542  22.808822      0  11.742872\n",
       "4   5          1  20  50   0.135756  25.355850      0  12.234987"
      ]
     },
     "execution_count": 3,
     "metadata": {},
     "output_type": "execute_result"
    }
   ],
   "source": [
    "train.head()"
   ]
  },
  {
   "cell_type": "code",
   "execution_count": 4,
   "id": "f050b7e8",
   "metadata": {
    "execution": {
     "iopub.execute_input": "2022-07-27T17:13:41.689065Z",
     "iopub.status.busy": "2022-07-27T17:13:41.688097Z",
     "iopub.status.idle": "2022-07-27T17:13:41.692509Z",
     "shell.execute_reply": "2022-07-27T17:13:41.691586Z"
    },
    "papermill": {
     "duration": 0.014939,
     "end_time": "2022-07-27T17:13:41.694404",
     "exception": false,
     "start_time": "2022-07-27T17:13:41.679465",
     "status": "completed"
    },
    "tags": []
   },
   "outputs": [],
   "source": [
    "#''''df = train\n",
    "#print(max(df['time_step']))\n",
    "#print(min(df['time_step']))'''"
   ]
  },
  {
   "cell_type": "code",
   "execution_count": 5,
   "id": "e3311b03",
   "metadata": {
    "execution": {
     "iopub.execute_input": "2022-07-27T17:13:41.710096Z",
     "iopub.status.busy": "2022-07-27T17:13:41.709670Z",
     "iopub.status.idle": "2022-07-27T17:13:41.713721Z",
     "shell.execute_reply": "2022-07-27T17:13:41.712806Z"
    },
    "papermill": {
     "duration": 0.014337,
     "end_time": "2022-07-27T17:13:41.715787",
     "exception": false,
     "start_time": "2022-07-27T17:13:41.701450",
     "status": "completed"
    },
    "tags": []
   },
   "outputs": [],
   "source": [
    "#''''df = train\n",
    "#print(max(df['breath_id']))\n",
    "#print(min(df['breath_id']))\n",
    "#df['breath_id']"
   ]
  },
  {
   "cell_type": "code",
   "execution_count": 6,
   "id": "a24fe464",
   "metadata": {
    "execution": {
     "iopub.execute_input": "2022-07-27T17:13:41.731874Z",
     "iopub.status.busy": "2022-07-27T17:13:41.731451Z",
     "iopub.status.idle": "2022-07-27T17:13:41.742921Z",
     "shell.execute_reply": "2022-07-27T17:13:41.742247Z"
    },
    "papermill": {
     "duration": 0.021581,
     "end_time": "2022-07-27T17:13:41.744992",
     "exception": false,
     "start_time": "2022-07-27T17:13:41.723411",
     "status": "completed"
    },
    "tags": []
   },
   "outputs": [
    {
     "data": {
      "text/html": [
       "<div>\n",
       "<style scoped>\n",
       "    .dataframe tbody tr th:only-of-type {\n",
       "        vertical-align: middle;\n",
       "    }\n",
       "\n",
       "    .dataframe tbody tr th {\n",
       "        vertical-align: top;\n",
       "    }\n",
       "\n",
       "    .dataframe thead th {\n",
       "        text-align: right;\n",
       "    }\n",
       "</style>\n",
       "<table border=\"1\" class=\"dataframe\">\n",
       "  <thead>\n",
       "    <tr style=\"text-align: right;\">\n",
       "      <th></th>\n",
       "      <th>id</th>\n",
       "      <th>breath_id</th>\n",
       "      <th>R</th>\n",
       "      <th>C</th>\n",
       "      <th>time_step</th>\n",
       "      <th>u_in</th>\n",
       "      <th>u_out</th>\n",
       "    </tr>\n",
       "  </thead>\n",
       "  <tbody>\n",
       "    <tr>\n",
       "      <th>0</th>\n",
       "      <td>1</td>\n",
       "      <td>0</td>\n",
       "      <td>5</td>\n",
       "      <td>20</td>\n",
       "      <td>0.000000</td>\n",
       "      <td>0.000000</td>\n",
       "      <td>0</td>\n",
       "    </tr>\n",
       "    <tr>\n",
       "      <th>1</th>\n",
       "      <td>2</td>\n",
       "      <td>0</td>\n",
       "      <td>5</td>\n",
       "      <td>20</td>\n",
       "      <td>0.031904</td>\n",
       "      <td>7.515046</td>\n",
       "      <td>0</td>\n",
       "    </tr>\n",
       "    <tr>\n",
       "      <th>2</th>\n",
       "      <td>3</td>\n",
       "      <td>0</td>\n",
       "      <td>5</td>\n",
       "      <td>20</td>\n",
       "      <td>0.063827</td>\n",
       "      <td>14.651675</td>\n",
       "      <td>0</td>\n",
       "    </tr>\n",
       "    <tr>\n",
       "      <th>3</th>\n",
       "      <td>4</td>\n",
       "      <td>0</td>\n",
       "      <td>5</td>\n",
       "      <td>20</td>\n",
       "      <td>0.095751</td>\n",
       "      <td>21.230610</td>\n",
       "      <td>0</td>\n",
       "    </tr>\n",
       "    <tr>\n",
       "      <th>4</th>\n",
       "      <td>5</td>\n",
       "      <td>0</td>\n",
       "      <td>5</td>\n",
       "      <td>20</td>\n",
       "      <td>0.127644</td>\n",
       "      <td>26.320956</td>\n",
       "      <td>0</td>\n",
       "    </tr>\n",
       "  </tbody>\n",
       "</table>\n",
       "</div>"
      ],
      "text/plain": [
       "   id  breath_id  R   C  time_step       u_in  u_out\n",
       "0   1          0  5  20   0.000000   0.000000      0\n",
       "1   2          0  5  20   0.031904   7.515046      0\n",
       "2   3          0  5  20   0.063827  14.651675      0\n",
       "3   4          0  5  20   0.095751  21.230610      0\n",
       "4   5          0  5  20   0.127644  26.320956      0"
      ]
     },
     "execution_count": 6,
     "metadata": {},
     "output_type": "execute_result"
    }
   ],
   "source": [
    "test.head()"
   ]
  },
  {
   "cell_type": "code",
   "execution_count": 7,
   "id": "72726e4e",
   "metadata": {
    "execution": {
     "iopub.execute_input": "2022-07-27T17:13:41.761118Z",
     "iopub.status.busy": "2022-07-27T17:13:41.760575Z",
     "iopub.status.idle": "2022-07-27T17:13:41.767514Z",
     "shell.execute_reply": "2022-07-27T17:13:41.766644Z"
    },
    "papermill": {
     "duration": 0.017368,
     "end_time": "2022-07-27T17:13:41.769504",
     "exception": false,
     "start_time": "2022-07-27T17:13:41.752136",
     "status": "completed"
    },
    "tags": []
   },
   "outputs": [
    {
     "data": {
      "text/plain": [
       "id             int64\n",
       "breath_id      int64\n",
       "R              int64\n",
       "C              int64\n",
       "time_step    float64\n",
       "u_in         float64\n",
       "u_out          int64\n",
       "pressure     float64\n",
       "dtype: object"
      ]
     },
     "execution_count": 7,
     "metadata": {},
     "output_type": "execute_result"
    }
   ],
   "source": [
    "train.dtypes"
   ]
  },
  {
   "cell_type": "code",
   "execution_count": 8,
   "id": "e0c1f93f",
   "metadata": {
    "execution": {
     "iopub.execute_input": "2022-07-27T17:13:41.785760Z",
     "iopub.status.busy": "2022-07-27T17:13:41.785316Z",
     "iopub.status.idle": "2022-07-27T17:13:41.998864Z",
     "shell.execute_reply": "2022-07-27T17:13:41.997724Z"
    },
    "papermill": {
     "duration": 0.224529,
     "end_time": "2022-07-27T17:13:42.001309",
     "exception": false,
     "start_time": "2022-07-27T17:13:41.776780",
     "status": "completed"
    },
    "tags": []
   },
   "outputs": [],
   "source": [
    "dataTrn = train.copy()\n",
    "dataTrn.drop(columns=['id', 'breath_id', 'R', 'C', 'time_step'], axis = 1, inplace = True)"
   ]
  },
  {
   "cell_type": "code",
   "execution_count": 9,
   "id": "73d3e6dd",
   "metadata": {
    "execution": {
     "iopub.execute_input": "2022-07-27T17:13:42.018143Z",
     "iopub.status.busy": "2022-07-27T17:13:42.017710Z",
     "iopub.status.idle": "2022-07-27T17:13:42.072825Z",
     "shell.execute_reply": "2022-07-27T17:13:42.071577Z"
    },
    "papermill": {
     "duration": 0.066174,
     "end_time": "2022-07-27T17:13:42.075147",
     "exception": false,
     "start_time": "2022-07-27T17:13:42.008973",
     "status": "completed"
    },
    "tags": []
   },
   "outputs": [],
   "source": [
    "X = dataTrn.drop(columns='pressure')\n",
    "X = X[:80000]\n",
    "y = dataTrn['pressure']\n",
    "y = y[:80000]\n"
   ]
  },
  {
   "cell_type": "code",
   "execution_count": 10,
   "id": "8b9083c1",
   "metadata": {
    "execution": {
     "iopub.execute_input": "2022-07-27T17:13:42.091537Z",
     "iopub.status.busy": "2022-07-27T17:13:42.091122Z",
     "iopub.status.idle": "2022-07-27T17:13:42.108179Z",
     "shell.execute_reply": "2022-07-27T17:13:42.106555Z"
    },
    "papermill": {
     "duration": 0.028583,
     "end_time": "2022-07-27T17:13:42.111078",
     "exception": false,
     "start_time": "2022-07-27T17:13:42.082495",
     "status": "completed"
    },
    "tags": []
   },
   "outputs": [
    {
     "name": "stdout",
     "output_type": "stream",
     "text": [
      "Dimension of X_train: (56000, 2) \n",
      "Dimension of X_validation: (24000, 2) \n",
      "Dimension of y_train: (56000,) \n",
      "Dimension of y_validation: (24000,)\n"
     ]
    }
   ],
   "source": [
    "X_train, X_validation, y_train, y_validation = train_test_split(X, y, test_size=0.30, random_state=1)\n",
    "print('Dimension of X_train:', X_train.shape,'\\nDimension of X_validation:', X_validation.shape,'\\nDimension of y_train:', y_train.shape,'\\nDimension of y_validation:', y_validation.shape)\n"
   ]
  },
  {
   "cell_type": "code",
   "execution_count": 11,
   "id": "89fda15e",
   "metadata": {
    "execution": {
     "iopub.execute_input": "2022-07-27T17:13:42.127838Z",
     "iopub.status.busy": "2022-07-27T17:13:42.127317Z",
     "iopub.status.idle": "2022-07-27T17:13:42.146469Z",
     "shell.execute_reply": "2022-07-27T17:13:42.145291Z"
    },
    "papermill": {
     "duration": 0.03142,
     "end_time": "2022-07-27T17:13:42.149989",
     "exception": false,
     "start_time": "2022-07-27T17:13:42.118569",
     "status": "completed"
    },
    "tags": []
   },
   "outputs": [
    {
     "name": "stdout",
     "output_type": "stream",
     "text": [
      "Dimension of X_test: (40000, 2) \n",
      "Dimension of X_validation: (40000, 2) \n",
      "Dimension of y_test: (40000,) \n",
      "Dimension of y_validation: (40000,)\n"
     ]
    }
   ],
   "source": [
    "X_test, X_validation1, y_test, y_validation1 = train_test_split(X, y, test_size=0.50, random_state=1)\n",
    "print('Dimension of X_test:', X_test.shape,'\\nDimension of X_validation:', X_validation1.shape,'\\nDimension of y_test:', y_test.shape,'\\nDimension of y_validation:', y_validation1.shape)\n"
   ]
  },
  {
   "cell_type": "code",
   "execution_count": 12,
   "id": "1ceb8bd6",
   "metadata": {
    "execution": {
     "iopub.execute_input": "2022-07-27T17:13:42.167503Z",
     "iopub.status.busy": "2022-07-27T17:13:42.166881Z",
     "iopub.status.idle": "2022-07-27T17:14:24.108746Z",
     "shell.execute_reply": "2022-07-27T17:14:24.107715Z"
    },
    "papermill": {
     "duration": 41.959568,
     "end_time": "2022-07-27T17:14:24.117754",
     "exception": false,
     "start_time": "2022-07-27T17:13:42.158186",
     "status": "completed"
    },
    "tags": []
   },
   "outputs": [
    {
     "data": {
      "text/plain": [
       "RandomForestRegressor(n_estimators=501, random_state=0)"
      ]
     },
     "execution_count": 12,
     "metadata": {},
     "output_type": "execute_result"
    }
   ],
   "source": [
    "RF_model=RandomForestRegressor(n_estimators = 501, random_state=0)\n",
    "RF_model.fit(X_train, y_train)\n"
   ]
  },
  {
   "cell_type": "code",
   "execution_count": 13,
   "id": "2d116e9b",
   "metadata": {
    "execution": {
     "iopub.execute_input": "2022-07-27T17:14:24.134742Z",
     "iopub.status.busy": "2022-07-27T17:14:24.133751Z",
     "iopub.status.idle": "2022-07-27T17:14:52.697595Z",
     "shell.execute_reply": "2022-07-27T17:14:52.696537Z"
    },
    "papermill": {
     "duration": 28.574696,
     "end_time": "2022-07-27T17:14:52.699889",
     "exception": false,
     "start_time": "2022-07-27T17:14:24.125193",
     "status": "completed"
    },
    "tags": []
   },
   "outputs": [
    {
     "data": {
      "text/plain": [
       "RandomForestRegressor(n_estimators=501, random_state=0)"
      ]
     },
     "execution_count": 13,
     "metadata": {},
     "output_type": "execute_result"
    }
   ],
   "source": [
    "RF_model1=RandomForestRegressor(n_estimators = 501, random_state=0)\n",
    "RF_model1.fit(X_test , y_test)"
   ]
  },
  {
   "cell_type": "code",
   "execution_count": 14,
   "id": "053517d9",
   "metadata": {
    "execution": {
     "iopub.execute_input": "2022-07-27T17:14:52.718405Z",
     "iopub.status.busy": "2022-07-27T17:14:52.717970Z",
     "iopub.status.idle": "2022-07-27T17:15:06.244615Z",
     "shell.execute_reply": "2022-07-27T17:15:06.242980Z"
    },
    "papermill": {
     "duration": 13.540156,
     "end_time": "2022-07-27T17:15:06.247951",
     "exception": false,
     "start_time": "2022-07-27T17:14:52.707795",
     "status": "completed"
    },
    "tags": []
   },
   "outputs": [],
   "source": [
    "RF_train_predict = RF_model.predict(X_train)\n",
    "RF_validation_predict = RF_model.predict(X_validation)\n"
   ]
  },
  {
   "cell_type": "code",
   "execution_count": 15,
   "id": "8ae81a77",
   "metadata": {
    "execution": {
     "iopub.execute_input": "2022-07-27T17:15:06.265823Z",
     "iopub.status.busy": "2022-07-27T17:15:06.265350Z",
     "iopub.status.idle": "2022-07-27T17:15:18.470324Z",
     "shell.execute_reply": "2022-07-27T17:15:18.468907Z"
    },
    "papermill": {
     "duration": 12.217014,
     "end_time": "2022-07-27T17:15:18.473173",
     "exception": false,
     "start_time": "2022-07-27T17:15:06.256159",
     "status": "completed"
    },
    "tags": []
   },
   "outputs": [],
   "source": [
    "RF_test_predict = RF_model1.predict(X_test)\n",
    "RF_validation_predict = RF_model1.predict(X_validation1)"
   ]
  },
  {
   "cell_type": "code",
   "execution_count": 16,
   "id": "23c0bf0e",
   "metadata": {
    "execution": {
     "iopub.execute_input": "2022-07-27T17:15:18.490946Z",
     "iopub.status.busy": "2022-07-27T17:15:18.490512Z",
     "iopub.status.idle": "2022-07-27T17:15:18.495997Z",
     "shell.execute_reply": "2022-07-27T17:15:18.494875Z"
    },
    "papermill": {
     "duration": 0.017079,
     "end_time": "2022-07-27T17:15:18.498090",
     "exception": false,
     "start_time": "2022-07-27T17:15:18.481011",
     "status": "completed"
    },
    "tags": []
   },
   "outputs": [],
   "source": [
    "def mape(actual, pred): \n",
    "    actual, pred = np.array(actual), np.array(pred)\n",
    "    return np.mean(np.abs((actual - pred) / actual)) * 100"
   ]
  },
  {
   "cell_type": "code",
   "execution_count": 17,
   "id": "df0c0dfd",
   "metadata": {
    "execution": {
     "iopub.execute_input": "2022-07-27T17:15:18.515147Z",
     "iopub.status.busy": "2022-07-27T17:15:18.514634Z",
     "iopub.status.idle": "2022-07-27T17:15:18.528549Z",
     "shell.execute_reply": "2022-07-27T17:15:18.527732Z"
    },
    "papermill": {
     "duration": 0.025024,
     "end_time": "2022-07-27T17:15:18.530836",
     "exception": false,
     "start_time": "2022-07-27T17:15:18.505812",
     "status": "completed"
    },
    "tags": []
   },
   "outputs": [],
   "source": [
    "RF_MAPE_train = mape(y_train , RF_train_predict)\n",
    "RF_MAPE_test = mape(y_test , RF_test_predict)\n",
    "\n",
    "RF_R2_train = r2_score(y_train , RF_train_predict)\n",
    "RF_R2_test = r2_score(y_test , RF_test_predict)\n",
    "\n",
    "RF_MAE_train = mean_absolute_error(y_train , RF_train_predict)\n",
    "RF_MAE_test = mean_absolute_error(y_test , RF_test_predict)"
   ]
  },
  {
   "cell_type": "code",
   "execution_count": 18,
   "id": "d73e698e",
   "metadata": {
    "execution": {
     "iopub.execute_input": "2022-07-27T17:15:18.548605Z",
     "iopub.status.busy": "2022-07-27T17:15:18.548000Z",
     "iopub.status.idle": "2022-07-27T17:15:18.554472Z",
     "shell.execute_reply": "2022-07-27T17:15:18.553081Z"
    },
    "papermill": {
     "duration": 0.018192,
     "end_time": "2022-07-27T17:15:18.556811",
     "exception": false,
     "start_time": "2022-07-27T17:15:18.538619",
     "status": "completed"
    },
    "tags": []
   },
   "outputs": [
    {
     "name": "stdout",
     "output_type": "stream",
     "text": [
      "train r2_score :  0.7303750479105938\n",
      "test r2_score :  0.7305502153980109\n",
      "train mape score :  20.901691958115702\n",
      "test mape score :  20.894285378276578\n",
      "train MAE score :  2.3193338825653402\n",
      "test MAE score :  2.3229971689007853\n"
     ]
    }
   ],
   "source": [
    "print(\"train r2_score : \" ,RF_R2_train)\n",
    "print(\"test r2_score : \" ,RF_R2_test)\n",
    "\n",
    "print(\"train mape score : \" ,RF_MAPE_train)\n",
    "print(\"test mape score : \" ,RF_MAPE_test)\n",
    "\n",
    "print(\"train MAE score : \" ,RF_MAE_train)\n",
    "print(\"test MAE score : \" ,RF_MAE_test)"
   ]
  },
  {
   "cell_type": "code",
   "execution_count": 19,
   "id": "51bb357e",
   "metadata": {
    "execution": {
     "iopub.execute_input": "2022-07-27T17:15:18.574448Z",
     "iopub.status.busy": "2022-07-27T17:15:18.573888Z",
     "iopub.status.idle": "2022-07-27T17:15:34.035774Z",
     "shell.execute_reply": "2022-07-27T17:15:34.034636Z"
    },
    "papermill": {
     "duration": 15.473506,
     "end_time": "2022-07-27T17:15:34.038313",
     "exception": false,
     "start_time": "2022-07-27T17:15:18.564807",
     "status": "completed"
    },
    "tags": []
   },
   "outputs": [],
   "source": [
    "RF_model_score_test = RF_model1.score(X_test , y_test)\n",
    "RF_model_score_train = RF_model.score(X_train, y_train)"
   ]
  },
  {
   "cell_type": "code",
   "execution_count": 20,
   "id": "1504a90e",
   "metadata": {
    "execution": {
     "iopub.execute_input": "2022-07-27T17:15:34.056176Z",
     "iopub.status.busy": "2022-07-27T17:15:34.055646Z",
     "iopub.status.idle": "2022-07-27T17:15:34.064344Z",
     "shell.execute_reply": "2022-07-27T17:15:34.063147Z"
    },
    "papermill": {
     "duration": 0.020794,
     "end_time": "2022-07-27T17:15:34.067001",
     "exception": false,
     "start_time": "2022-07-27T17:15:34.046207",
     "status": "completed"
    },
    "tags": []
   },
   "outputs": [],
   "source": [
    "resultRF = pd.DataFrame({'R Squared Score' : RF_R2_train,\n",
    "                        'MAPE Score' : RF_MAPE_train,\n",
    "                        'MAE Score' : RF_MAE_train,\n",
    "                        'Model Score' : RF_model_score_train}\n",
    "                       ,index = ['Train Data'])"
   ]
  },
  {
   "cell_type": "code",
   "execution_count": 21,
   "id": "ea0b7991",
   "metadata": {
    "execution": {
     "iopub.execute_input": "2022-07-27T17:15:34.085966Z",
     "iopub.status.busy": "2022-07-27T17:15:34.084830Z",
     "iopub.status.idle": "2022-07-27T17:15:34.101522Z",
     "shell.execute_reply": "2022-07-27T17:15:34.100381Z"
    },
    "papermill": {
     "duration": 0.028564,
     "end_time": "2022-07-27T17:15:34.103838",
     "exception": false,
     "start_time": "2022-07-27T17:15:34.075274",
     "status": "completed"
    },
    "tags": []
   },
   "outputs": [
    {
     "data": {
      "text/html": [
       "<div>\n",
       "<style scoped>\n",
       "    .dataframe tbody tr th:only-of-type {\n",
       "        vertical-align: middle;\n",
       "    }\n",
       "\n",
       "    .dataframe tbody tr th {\n",
       "        vertical-align: top;\n",
       "    }\n",
       "\n",
       "    .dataframe thead th {\n",
       "        text-align: right;\n",
       "    }\n",
       "</style>\n",
       "<table border=\"1\" class=\"dataframe\">\n",
       "  <thead>\n",
       "    <tr style=\"text-align: right;\">\n",
       "      <th></th>\n",
       "      <th>R Squared Score</th>\n",
       "      <th>MAPE Score</th>\n",
       "      <th>MAE Score</th>\n",
       "      <th>Model Score</th>\n",
       "    </tr>\n",
       "  </thead>\n",
       "  <tbody>\n",
       "    <tr>\n",
       "      <th>Train Data</th>\n",
       "      <td>0.730375</td>\n",
       "      <td>20.901692</td>\n",
       "      <td>2.319334</td>\n",
       "      <td>0.730375</td>\n",
       "    </tr>\n",
       "    <tr>\n",
       "      <th>Test Data</th>\n",
       "      <td>0.730550</td>\n",
       "      <td>20.894285</td>\n",
       "      <td>2.322997</td>\n",
       "      <td>0.730550</td>\n",
       "    </tr>\n",
       "  </tbody>\n",
       "</table>\n",
       "</div>"
      ],
      "text/plain": [
       "            R Squared Score  MAPE Score  MAE Score  Model Score\n",
       "Train Data         0.730375   20.901692   2.319334     0.730375\n",
       "Test Data          0.730550   20.894285   2.322997     0.730550"
      ]
     },
     "execution_count": 21,
     "metadata": {},
     "output_type": "execute_result"
    }
   ],
   "source": [
    "resultRF1 = pd.DataFrame({'R Squared Score' : RF_R2_test,\n",
    "                        'MAPE Score' : RF_MAPE_test,\n",
    "                        'MAE Score' : RF_MAE_test,\n",
    "                        'Model Score' : RF_model_score_test}\n",
    "                       ,index = ['Test Data'])\n",
    "result = pd.concat([resultRF , resultRF1])\n",
    "result"
   ]
  },
  {
   "cell_type": "code",
   "execution_count": null,
   "id": "d4365750",
   "metadata": {
    "papermill": {
     "duration": 0.007537,
     "end_time": "2022-07-27T17:15:34.119679",
     "exception": false,
     "start_time": "2022-07-27T17:15:34.112142",
     "status": "completed"
    },
    "tags": []
   },
   "outputs": [],
   "source": []
  }
 ],
 "metadata": {
  "kernelspec": {
   "display_name": "Python 3",
   "language": "python",
   "name": "python3"
  },
  "language_info": {
   "codemirror_mode": {
    "name": "ipython",
    "version": 3
   },
   "file_extension": ".py",
   "mimetype": "text/x-python",
   "name": "python",
   "nbconvert_exporter": "python",
   "pygments_lexer": "ipython3",
   "version": "3.7.12"
  },
  "papermill": {
   "default_parameters": {},
   "duration": 144.285828,
   "end_time": "2022-07-27T17:15:35.253446",
   "environment_variables": {},
   "exception": null,
   "input_path": "__notebook__.ipynb",
   "output_path": "__notebook__.ipynb",
   "parameters": {},
   "start_time": "2022-07-27T17:13:10.967618",
   "version": "2.3.4"
  }
 },
 "nbformat": 4,
 "nbformat_minor": 5
}
